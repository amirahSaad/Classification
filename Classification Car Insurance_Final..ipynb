{
 "cells": [
  {
   "cell_type": "markdown",
   "id": "abcee029",
   "metadata": {},
   "source": [
    "# Car Insurance Modeling\n"
   ]
  },
  {
   "cell_type": "markdown",
   "id": "55222b94",
   "metadata": {},
   "source": [
    "### Import libraries"
   ]
  },
  {
   "cell_type": "code",
   "execution_count": 1,
   "id": "0fbcf46c",
   "metadata": {},
   "outputs": [],
   "source": [
    "import pandas as pd\n",
    "import numpy as np\n",
    "import matplotlib.pyplot as plt\n",
    "import seaborn as sns"
   ]
  },
  {
   "cell_type": "code",
   "execution_count": 2,
   "id": "f07f997f",
   "metadata": {},
   "outputs": [],
   "source": [
    "#Load data as dataframe\n",
    "df = pd.read_csv(\"Car_insurance_clean+EDA.csv\",index_col=0)"
   ]
  },
  {
   "cell_type": "code",
   "execution_count": 3,
   "id": "45d8124d",
   "metadata": {},
   "outputs": [
    {
     "data": {
      "text/html": [
       "<div>\n",
       "<style scoped>\n",
       "    .dataframe tbody tr th:only-of-type {\n",
       "        vertical-align: middle;\n",
       "    }\n",
       "\n",
       "    .dataframe tbody tr th {\n",
       "        vertical-align: top;\n",
       "    }\n",
       "\n",
       "    .dataframe thead th {\n",
       "        text-align: right;\n",
       "    }\n",
       "</style>\n",
       "<table border=\"1\" class=\"dataframe\">\n",
       "  <thead>\n",
       "    <tr style=\"text-align: right;\">\n",
       "      <th></th>\n",
       "      <th>AGE</th>\n",
       "      <th>DRIVING_EXPERIENCE</th>\n",
       "      <th>CREDIT_SCORE</th>\n",
       "      <th>VEHICLE_OWNERSHIP</th>\n",
       "      <th>MARRIED</th>\n",
       "      <th>ANNUAL_MILEAGE</th>\n",
       "      <th>SPEEDING_VIOLATIONS</th>\n",
       "      <th>DUIS</th>\n",
       "      <th>PAST_ACCIDENTS</th>\n",
       "      <th>OUTCOME</th>\n",
       "      <th>GENDER</th>\n",
       "      <th>VEHICLE_YEAR(before 2015)</th>\n",
       "      <th>VEHICLE_TYPE(sports car)</th>\n",
       "    </tr>\n",
       "  </thead>\n",
       "  <tbody>\n",
       "    <tr>\n",
       "      <th>0</th>\n",
       "      <td>3</td>\n",
       "      <td>0</td>\n",
       "      <td>0.629027</td>\n",
       "      <td>1.0</td>\n",
       "      <td>0.0</td>\n",
       "      <td>12.0</td>\n",
       "      <td>0</td>\n",
       "      <td>0</td>\n",
       "      <td>0</td>\n",
       "      <td>0.0</td>\n",
       "      <td>0</td>\n",
       "      <td>0</td>\n",
       "      <td>0</td>\n",
       "    </tr>\n",
       "    <tr>\n",
       "      <th>1</th>\n",
       "      <td>0</td>\n",
       "      <td>0</td>\n",
       "      <td>0.357757</td>\n",
       "      <td>0.0</td>\n",
       "      <td>0.0</td>\n",
       "      <td>16.0</td>\n",
       "      <td>0</td>\n",
       "      <td>0</td>\n",
       "      <td>0</td>\n",
       "      <td>1.0</td>\n",
       "      <td>1</td>\n",
       "      <td>1</td>\n",
       "      <td>0</td>\n",
       "    </tr>\n",
       "    <tr>\n",
       "      <th>2</th>\n",
       "      <td>0</td>\n",
       "      <td>0</td>\n",
       "      <td>0.493146</td>\n",
       "      <td>1.0</td>\n",
       "      <td>0.0</td>\n",
       "      <td>11.0</td>\n",
       "      <td>0</td>\n",
       "      <td>0</td>\n",
       "      <td>0</td>\n",
       "      <td>0.0</td>\n",
       "      <td>0</td>\n",
       "      <td>1</td>\n",
       "      <td>0</td>\n",
       "    </tr>\n",
       "    <tr>\n",
       "      <th>3</th>\n",
       "      <td>0</td>\n",
       "      <td>0</td>\n",
       "      <td>0.206013</td>\n",
       "      <td>1.0</td>\n",
       "      <td>0.0</td>\n",
       "      <td>11.0</td>\n",
       "      <td>0</td>\n",
       "      <td>0</td>\n",
       "      <td>0</td>\n",
       "      <td>0.0</td>\n",
       "      <td>1</td>\n",
       "      <td>1</td>\n",
       "      <td>0</td>\n",
       "    </tr>\n",
       "    <tr>\n",
       "      <th>4</th>\n",
       "      <td>1</td>\n",
       "      <td>1</td>\n",
       "      <td>0.388366</td>\n",
       "      <td>1.0</td>\n",
       "      <td>0.0</td>\n",
       "      <td>12.0</td>\n",
       "      <td>2</td>\n",
       "      <td>0</td>\n",
       "      <td>1</td>\n",
       "      <td>1.0</td>\n",
       "      <td>1</td>\n",
       "      <td>1</td>\n",
       "      <td>0</td>\n",
       "    </tr>\n",
       "  </tbody>\n",
       "</table>\n",
       "</div>"
      ],
      "text/plain": [
       "   AGE  DRIVING_EXPERIENCE  CREDIT_SCORE  VEHICLE_OWNERSHIP  MARRIED  \\\n",
       "0    3                   0      0.629027                1.0      0.0   \n",
       "1    0                   0      0.357757                0.0      0.0   \n",
       "2    0                   0      0.493146                1.0      0.0   \n",
       "3    0                   0      0.206013                1.0      0.0   \n",
       "4    1                   1      0.388366                1.0      0.0   \n",
       "\n",
       "   ANNUAL_MILEAGE  SPEEDING_VIOLATIONS  DUIS  PAST_ACCIDENTS  OUTCOME  GENDER  \\\n",
       "0            12.0                    0     0               0      0.0       0   \n",
       "1            16.0                    0     0               0      1.0       1   \n",
       "2            11.0                    0     0               0      0.0       0   \n",
       "3            11.0                    0     0               0      0.0       1   \n",
       "4            12.0                    2     0               1      1.0       1   \n",
       "\n",
       "   VEHICLE_YEAR(before 2015)  VEHICLE_TYPE(sports car)  \n",
       "0                          0                         0  \n",
       "1                          1                         0  \n",
       "2                          1                         0  \n",
       "3                          1                         0  \n",
       "4                          1                         0  "
      ]
     },
     "execution_count": 3,
     "metadata": {},
     "output_type": "execute_result"
    }
   ],
   "source": [
    "df.head()"
   ]
  },
  {
   "cell_type": "code",
   "execution_count": 4,
   "id": "85c14db9",
   "metadata": {
    "scrolled": true
   },
   "outputs": [
    {
     "data": {
      "text/plain": [
       "Index(['AGE', 'DRIVING_EXPERIENCE', 'CREDIT_SCORE', 'VEHICLE_OWNERSHIP',\n",
       "       'MARRIED', 'ANNUAL_MILEAGE', 'SPEEDING_VIOLATIONS', 'DUIS',\n",
       "       'PAST_ACCIDENTS', 'OUTCOME', 'GENDER', 'VEHICLE_YEAR(before 2015)',\n",
       "       'VEHICLE_TYPE(sports car)'],\n",
       "      dtype='object')"
      ]
     },
     "execution_count": 4,
     "metadata": {},
     "output_type": "execute_result"
    }
   ],
   "source": [
    "df.columns"
   ]
  },
  {
   "cell_type": "markdown",
   "id": "18c2ace0",
   "metadata": {},
   "source": [
    "## Split the Data"
   ]
  },
  {
   "cell_type": "code",
   "execution_count": 5,
   "id": "9f320949",
   "metadata": {},
   "outputs": [],
   "source": [
    "#Take the 6 best Feauters\n",
    "from sklearn.model_selection import train_test_split\n",
    "X, y = df.drop(['OUTCOME','CREDIT_SCORE','MARRIED','ANNUAL_MILEAGE','GENDER','VEHICLE_YEAR(before 2015)', 'VEHICLE_TYPE(sports car)'],axis=1), df['OUTCOME']\n"
   ]
  },
  {
   "cell_type": "code",
   "execution_count": 6,
   "id": "b6533527",
   "metadata": {
    "scrolled": true
   },
   "outputs": [
    {
     "data": {
      "text/html": [
       "<div>\n",
       "<style scoped>\n",
       "    .dataframe tbody tr th:only-of-type {\n",
       "        vertical-align: middle;\n",
       "    }\n",
       "\n",
       "    .dataframe tbody tr th {\n",
       "        vertical-align: top;\n",
       "    }\n",
       "\n",
       "    .dataframe thead th {\n",
       "        text-align: right;\n",
       "    }\n",
       "</style>\n",
       "<table border=\"1\" class=\"dataframe\">\n",
       "  <thead>\n",
       "    <tr style=\"text-align: right;\">\n",
       "      <th></th>\n",
       "      <th>AGE</th>\n",
       "      <th>DRIVING_EXPERIENCE</th>\n",
       "      <th>VEHICLE_OWNERSHIP</th>\n",
       "      <th>SPEEDING_VIOLATIONS</th>\n",
       "      <th>DUIS</th>\n",
       "      <th>PAST_ACCIDENTS</th>\n",
       "    </tr>\n",
       "  </thead>\n",
       "  <tbody>\n",
       "    <tr>\n",
       "      <th>0</th>\n",
       "      <td>3</td>\n",
       "      <td>0</td>\n",
       "      <td>1.0</td>\n",
       "      <td>0</td>\n",
       "      <td>0</td>\n",
       "      <td>0</td>\n",
       "    </tr>\n",
       "    <tr>\n",
       "      <th>1</th>\n",
       "      <td>0</td>\n",
       "      <td>0</td>\n",
       "      <td>0.0</td>\n",
       "      <td>0</td>\n",
       "      <td>0</td>\n",
       "      <td>0</td>\n",
       "    </tr>\n",
       "    <tr>\n",
       "      <th>2</th>\n",
       "      <td>0</td>\n",
       "      <td>0</td>\n",
       "      <td>1.0</td>\n",
       "      <td>0</td>\n",
       "      <td>0</td>\n",
       "      <td>0</td>\n",
       "    </tr>\n",
       "    <tr>\n",
       "      <th>3</th>\n",
       "      <td>0</td>\n",
       "      <td>0</td>\n",
       "      <td>1.0</td>\n",
       "      <td>0</td>\n",
       "      <td>0</td>\n",
       "      <td>0</td>\n",
       "    </tr>\n",
       "    <tr>\n",
       "      <th>4</th>\n",
       "      <td>1</td>\n",
       "      <td>1</td>\n",
       "      <td>1.0</td>\n",
       "      <td>2</td>\n",
       "      <td>0</td>\n",
       "      <td>1</td>\n",
       "    </tr>\n",
       "  </tbody>\n",
       "</table>\n",
       "</div>"
      ],
      "text/plain": [
       "   AGE  DRIVING_EXPERIENCE  VEHICLE_OWNERSHIP  SPEEDING_VIOLATIONS  DUIS  \\\n",
       "0    3                   0                1.0                    0     0   \n",
       "1    0                   0                0.0                    0     0   \n",
       "2    0                   0                1.0                    0     0   \n",
       "3    0                   0                1.0                    0     0   \n",
       "4    1                   1                1.0                    2     0   \n",
       "\n",
       "   PAST_ACCIDENTS  \n",
       "0               0  \n",
       "1               0  \n",
       "2               0  \n",
       "3               0  \n",
       "4               1  "
      ]
     },
     "execution_count": 6,
     "metadata": {},
     "output_type": "execute_result"
    }
   ],
   "source": [
    "X.head()"
   ]
  },
  {
   "cell_type": "code",
   "execution_count": 7,
   "id": "068125fd",
   "metadata": {},
   "outputs": [],
   "source": [
    "# Split data into 80% train and 20% test\n",
    "X_train, X_test, y_train, y_test = train_test_split(X, y, test_size=0.2, random_state=42)"
   ]
  },
  {
   "cell_type": "code",
   "execution_count": 8,
   "id": "77c117fb",
   "metadata": {},
   "outputs": [],
   "source": [
    "# Split data into 80% train and 20% validation\n",
    "X_train, X_val, y_train, y_val = train_test_split(X_train, y_train, test_size=.2, random_state=42)"
   ]
  },
  {
   "cell_type": "code",
   "execution_count": 9,
   "id": "2398bd03",
   "metadata": {
    "scrolled": true
   },
   "outputs": [
    {
     "data": {
      "text/plain": [
       "<AxesSubplot:>"
      ]
     },
     "execution_count": 9,
     "metadata": {},
     "output_type": "execute_result"
    },
    {
     "data": {
      "image/png": "[encoded data removed]",
      "text/plain": [
       "<Figure size 432x288 with 1 Axes>"
      ]
     },
     "metadata": {
      "needs_background": "light"
     },
     "output_type": "display_data"
    }
   ],
   "source": [
    "y_train.hist()"
   ]
  },
  {
   "cell_type": "markdown",
   "id": "08af487a",
   "metadata": {},
   "source": [
    "### Handling the Imbalancing "
   ]
  },
  {
   "cell_type": "code",
   "execution_count": 10,
   "id": "21e06a45",
   "metadata": {},
   "outputs": [
    {
     "data": {
      "text/plain": [
       "0.0    4373\n",
       "1.0    2027\n",
       "Name: OUTCOME, dtype: int64"
      ]
     },
     "execution_count": 10,
     "metadata": {},
     "output_type": "execute_result"
    }
   ],
   "source": [
    "#Data befor over sampling\n",
    "y_train.value_counts()"
   ]
  },
  {
   "cell_type": "code",
   "execution_count": 11,
   "id": "5c38cb46",
   "metadata": {},
   "outputs": [],
   "source": [
    "n_pos = np.sum(y_train == 1)\n",
    "n_neg = np.sum(y_train == 0)\n",
    "ratio = {1 : n_pos * 2, 0 : n_neg}"
   ]
  },
  {
   "cell_type": "code",
   "execution_count": 12,
   "id": "c19a68be",
   "metadata": {},
   "outputs": [],
   "source": [
    "import imblearn.over_sampling\n",
    "smote = imblearn.over_sampling.SMOTE(sampling_strategy=ratio, random_state = 42)\n",
    "    \n",
    "X_tr_smote, y_tr_smote = smote.fit_resample(X_train, y_train)"
   ]
  },
  {
   "cell_type": "code",
   "execution_count": 13,
   "id": "d4821cee",
   "metadata": {},
   "outputs": [
    {
     "data": {
      "text/plain": [
       "0.0    4373\n",
       "1.0    4054\n",
       "Name: OUTCOME, dtype: int64"
      ]
     },
     "execution_count": 13,
     "metadata": {},
     "output_type": "execute_result"
    }
   ],
   "source": [
    "#Data after over sampling\n",
    "y_tr_smote.value_counts()"
   ]
  },
  {
   "cell_type": "code",
   "execution_count": 14,
   "id": "58eda13e",
   "metadata": {},
   "outputs": [
    {
     "data": {
      "text/plain": [
       "<AxesSubplot:>"
      ]
     },
     "execution_count": 14,
     "metadata": {},
     "output_type": "execute_result"
    },
    {
     "data": {
      "image/png": "[encoded data removed]",
      "text/plain": [
       "<Figure size 432x288 with 1 Axes>"
      ]
     },
     "metadata": {
      "needs_background": "light"
     },
     "output_type": "display_data"
    }
   ],
   "source": [
    "y_tr_smote.hist()"
   ]
  },
  {
   "cell_type": "markdown",
   "id": "10b85355",
   "metadata": {},
   "source": [
    "### Standard Scaling of data"
   ]
  },
  {
   "cell_type": "code",
   "execution_count": 15,
   "id": "cc1e7862",
   "metadata": {},
   "outputs": [],
   "source": [
    "from sklearn.preprocessing import StandardScaler\n",
    "sc = StandardScaler()\n",
    "X_train_scaled = sc.fit_transform(X_tr_smote)\n",
    "X_val_scaled=sc.transform(X_val)"
   ]
  },
  {
   "cell_type": "code",
   "execution_count": 16,
   "id": "c8ac9c55",
   "metadata": {},
   "outputs": [
    {
     "data": {
      "image/png": "[encoded data removed]",
      "text/plain": [
       "<Figure size 1138x1080 with 42 Axes>"
      ]
     },
     "metadata": {
      "needs_background": "light"
     },
     "output_type": "display_data"
    }
   ],
   "source": [
    "sns.pairplot(pd.concat([X_train, y_train], axis=1), hue='OUTCOME');"
   ]
  },
  {
   "cell_type": "markdown",
   "id": "216bc973",
   "metadata": {},
   "source": [
    "## Modeling"
   ]
  },
  {
   "cell_type": "code",
   "execution_count": 17,
   "id": "0efc8702",
   "metadata": {},
   "outputs": [],
   "source": [
    "from sklearn.linear_model import LogisticRegression\n",
    "from sklearn.metrics import confusion_matrix\n",
    "from sklearn.metrics import accuracy_score\n",
    "from sklearn.neighbors import KNeighborsClassifier\n",
    "from sklearn.svm import SVC\n",
    "from sklearn.tree import DecisionTreeClassifier\n",
    "import sklearn.ensemble\n",
    "from sklearn.ensemble import RandomForestClassifier, AdaBoostClassifier, GradientBoostingClassifier\n",
    "from sklearn.ensemble import GradientBoostingClassifier\n",
    "from sklearn.model_selection import cross_val_score\n",
    "#import lightgbm as ltb\n",
    "from sklearn.metrics import confusion_matrix\n",
    "from sklearn.metrics import precision_score, recall_score, precision_recall_curve,f1_score, fbeta_score\n"
   ]
  },
  {
   "cell_type": "code",
   "execution_count": 18,
   "id": "6181b213",
   "metadata": {},
   "outputs": [],
   "source": [
    "def accuracy(actuals, preds):\n",
    "    return np.mean(actuals == preds)\n",
    "\n",
    "def precision(actuals, preds):\n",
    "    tp = np.sum((actuals == 1) & (preds == 1))\n",
    "    fp = np.sum((actuals == 0) & (preds == 1))\n",
    "    return tp / (tp + fp)\n",
    "\n",
    "def recall(actuals, preds):\n",
    "    tp = np.sum((actuals == 1) & (preds == 1))\n",
    "    fn = np.sum((actuals == 1) & (preds == 0))\n",
    "    return tp / (tp + fn)\n",
    "\n",
    "def F1(actuals, preds):\n",
    "    p, r = precision(actuals, preds), recall(actuals, preds)\n",
    "    return 2*p*r / (p + r)"
   ]
  },
  {
   "cell_type": "markdown",
   "id": "67629677",
   "metadata": {},
   "source": [
    "### Logistic Regression"
   ]
  },
  {
   "cell_type": "code",
   "execution_count": 19,
   "id": "9dee47cf",
   "metadata": {},
   "outputs": [
    {
     "name": "stdout",
     "output_type": "stream",
     "text": [
      "Accuracy on training set: 0.8025394565088406\n",
      "Accuracy on validation set: 0.764375\n"
     ]
    }
   ],
   "source": [
    "lr_c=LogisticRegression(random_state=42, solver='lbfgs',max_iter=400 )\n",
    "lr_c.fit(X_tr_smote, y_tr_smote)\n",
    "lr_pred=lr_c.predict(X_test)\n",
    "lr_cm=confusion_matrix(y_test,lr_pred)\n",
    "lr_ac=accuracy_score(y_test, lr_pred)\n",
    "print('Accuracy on training set:',lr_c.score(X_tr_smote, y_tr_smote))\n",
    "print('Accuracy on validation set:',lr_c.score(X_val,y_val))"
   ]
  },
  {
   "cell_type": "code",
   "execution_count": 20,
   "id": "bdea9c12",
   "metadata": {
    "scrolled": true
   },
   "outputs": [
    {
     "name": "stdout",
     "output_type": "stream",
     "text": [
      "Confusion Matrix for Logistic Regression Classifier \n",
      "\n"
     ]
    },
    {
     "data": {
      "image/png": "[encoded data removed]",
      "text/plain": [
       "<Figure size 432x288 with 2 Axes>"
      ]
     },
     "metadata": {
      "needs_background": "light"
     },
     "output_type": "display_data"
    },
    {
     "name": "stdout",
     "output_type": "stream",
     "text": [
      "\n",
      "\n"
     ]
    }
   ],
   "source": [
    "#Confusion matrix for logistic regression model\n",
    "print(\"Confusion Matrix for Logistic Regression Classifier\",\"\\n\")\n",
    "score = round(accuracy_score(y_test, lr_pred),3) \n",
    "cm1 = confusion_matrix(y_test, lr_pred)\n",
    "sns.heatmap(cm1, annot=True, fmt=\".1f\", linewidths=.3, \n",
    "        square = True, cmap = 'PuBu')\n",
    "plt.ylabel('Actual label')\n",
    "plt.xlabel('Predicted label')\n",
    "plt.title('Accuracy Score: {0}'.format(score), size = 12)\n",
    "plt.show()\n",
    "print(\"\\n\")"
   ]
  },
  {
   "cell_type": "code",
   "execution_count": 21,
   "id": "ee6fb84b",
   "metadata": {},
   "outputs": [
    {
     "name": "stdout",
     "output_type": "stream",
     "text": [
      "Logistic Regression validation metrics: \n",
      " Accuracy: 0.7825 \n",
      " Precision: 0.6157 \n",
      " Recall: 0.8325 \n",
      " F1: 0.7079\n"
     ]
    }
   ],
   "source": [
    "print('Logistic Regression validation metrics: \\n Accuracy: %.4f \\n Precision: %.4f \\n Recall: %.4f \\n F1: %.4f' %\n",
    "        (accuracy(y_test, lr_c.predict(X_test)), \n",
    "         precision(y_test, lr_c.predict(X_test)), \n",
    "         recall(y_test, lr_c.predict(X_test)),\n",
    "         F1(y_test, lr_c.predict(X_test))\n",
    "        )\n",
    "     )"
   ]
  },
  {
   "cell_type": "markdown",
   "id": "860e29cc",
   "metadata": {},
   "source": [
    "### Random Forest Classifier"
   ]
  },
  {
   "cell_type": "code",
   "execution_count": 22,
   "id": "d10d2818",
   "metadata": {
    "scrolled": true
   },
   "outputs": [
    {
     "name": "stdout",
     "output_type": "stream",
     "text": [
      "Accuracy on training set: 0.8210513824611368\n",
      "Accuracy on validation set: 0.75125\n"
     ]
    }
   ],
   "source": [
    "rf_clf = RandomForestClassifier(n_estimators = 10, random_state = 42)\n",
    "rf_clf.fit(X_tr_smote, y_tr_smote)\n",
    "rf_pred=rf_clf.predict(X_test)\n",
    "rf_ac=accuracy_score(y_test, rf_pred)\n",
    "print('Accuracy on training set:',rf_clf.score(X_tr_smote, y_tr_smote))\n",
    "print('Accuracy on validation set:',rf_clf.score(X_val,y_val))"
   ]
  },
  {
   "cell_type": "code",
   "execution_count": 23,
   "id": "28d66cbb",
   "metadata": {},
   "outputs": [
    {
     "name": "stdout",
     "output_type": "stream",
     "text": [
      "Random Forest Classifier: \n",
      " Accuracy: 0.7740 \n",
      " Precision: 0.6044 \n",
      " Recall: 0.8278 \n",
      " F1: 0.6987\n"
     ]
    }
   ],
   "source": [
    "print('Random Forest Classifier: \\n Accuracy: %.4f \\n Precision: %.4f \\n Recall: %.4f \\n F1: %.4f' %\n",
    "        (accuracy(y_test, rf_clf.predict(X_test)), \n",
    "         precision(y_test, rf_clf.predict(X_test)), \n",
    "         recall(y_test, rf_clf.predict(X_test)),\n",
    "         F1(y_test, rf_clf.predict(X_test))\n",
    "        )\n",
    "     )"
   ]
  },
  {
   "cell_type": "markdown",
   "id": "27e45c0a",
   "metadata": {},
   "source": [
    "### Decision Tree Classifier"
   ]
  },
  {
   "cell_type": "code",
   "execution_count": 24,
   "id": "5a5a735e",
   "metadata": {},
   "outputs": [
    {
     "name": "stdout",
     "output_type": "stream",
     "text": [
      "Accuracy on training set: 0.8218820458051501\n",
      "Accuracy on validation set: 0.750625\n"
     ]
    }
   ],
   "source": [
    "# Create Decision Tree classifer object\n",
    "clf = DecisionTreeClassifier()\n",
    "\n",
    "# Train Decision Tree Classifer\n",
    "clf = clf.fit(X_tr_smote, y_tr_smote)\n",
    "\n",
    "#Predict the response for test dataset\n",
    "clf_pred = clf.predict(X_test)\n",
    "clf_ac=accuracy_score(y_test, clf_pred)\n",
    "print('Accuracy on training set:',clf.score(X_tr_smote, y_tr_smote))\n",
    "print('Accuracy on validation set:',clf.score(X_val,y_val))"
   ]
  },
  {
   "cell_type": "code",
   "execution_count": 25,
   "id": "c57adff0",
   "metadata": {},
   "outputs": [
    {
     "name": "stdout",
     "output_type": "stream",
     "text": [
      "Decision Tree: \n",
      " Accuracy: 0.7735 \n",
      " Precision: 0.6037 \n",
      " Recall: 0.8278 \n",
      " F1: 0.6982\n"
     ]
    }
   ],
   "source": [
    "print('Decision Tree: \\n Accuracy: %.4f \\n Precision: %.4f \\n Recall: %.4f \\n F1: %.4f' %\n",
    "        (accuracy(y_test, clf.predict(X_test)), \n",
    "         precision(y_test, clf.predict(X_test)), \n",
    "         recall(y_test, clf.predict(X_test)),\n",
    "         F1(y_test, clf.predict(X_test))\n",
    "        )\n",
    "     )"
   ]
  },
  {
   "cell_type": "markdown",
   "id": "1b577a25",
   "metadata": {},
   "source": [
    "### Support Vector Classifier"
   ]
  },
  {
   "cell_type": "code",
   "execution_count": 26,
   "id": "b924d9a2",
   "metadata": {},
   "outputs": [
    {
     "name": "stdout",
     "output_type": "stream",
     "text": [
      "Accuracy of training set:  0.7695\n",
      "Accuracy of training set:  0.75125\n"
     ]
    }
   ],
   "source": [
    "svc_r=SVC(kernel='rbf', random_state=0, probability=True)\n",
    "svc_r.fit(X_tr_smote, y_tr_smote)\n",
    "svr_pred=svc_r.predict(X_test)\n",
    "svr_ac=accuracy_score(y_test, svr_pred)\n",
    "svr_val=svc_r.score(X_val,y_val)\n",
    "pred_prob1 = svc_r.predict_proba(X_test)\n",
    "print('Accuracy of training set: ', svr_ac)\n",
    "print('Accuracy of training set: ', svr_val)\n"
   ]
  },
  {
   "cell_type": "code",
   "execution_count": 27,
   "id": "ea49fd68",
   "metadata": {},
   "outputs": [
    {
     "name": "stdout",
     "output_type": "stream",
     "text": [
      "Support Vector Classifier: \n",
      " Accuracy: 0.7695 \n",
      " Precision: 0.5962 \n",
      " Recall: 0.8420 \n",
      " F1: 0.6981\n"
     ]
    }
   ],
   "source": [
    "print('Support Vector Classifier: \\n Accuracy: %.4f \\n Precision: %.4f \\n Recall: %.4f \\n F1: %.4f' %\n",
    "        (accuracy(y_test, svc_r.predict(X_test)), \n",
    "         precision(y_test, svc_r.predict(X_test)), \n",
    "         recall(y_test, svc_r.predict(X_test)),\n",
    "         F1(y_test, svc_r.predict(X_test))\n",
    "        )\n",
    "     )"
   ]
  },
  {
   "cell_type": "markdown",
   "id": "22812f82",
   "metadata": {},
   "source": [
    "### K-nearest nieghbours\n"
   ]
  },
  {
   "cell_type": "code",
   "execution_count": 28,
   "id": "a6bc82fb",
   "metadata": {},
   "outputs": [
    {
     "name": "stdout",
     "output_type": "stream",
     "text": [
      "Accuracy on training set: 0.7344250622997508\n",
      "Accuracy on validation set: 0.768125\n"
     ]
    }
   ],
   "source": [
    "knn = KNeighborsClassifier()\n",
    "knn.fit(X_tr_smote, y_tr_smote)\n",
    "knn_pred = knn.predict(X_test)\n",
    "knn_val=clf.score(X_val,y_val)\n",
    "knn_ac=accuracy_score(y_test, knn_pred)\n",
    "print('Accuracy on training set:',knn.score(X_tr_smote, y_tr_smote))\n",
    "print('Accuracy on validation set:',knn.score(X_val,y_val))"
   ]
  },
  {
   "cell_type": "code",
   "execution_count": 29,
   "id": "764f71c4",
   "metadata": {},
   "outputs": [
    {
     "name": "stdout",
     "output_type": "stream",
     "text": [
      "K-nearest nieghbours: \n",
      " Accuracy: 0.7575 \n",
      " Precision: 0.6555 \n",
      " Recall: 0.4929 \n",
      " F1: 0.5627\n"
     ]
    }
   ],
   "source": [
    "print('K-nearest nieghbours: \\n Accuracy: %.4f \\n Precision: %.4f \\n Recall: %.4f \\n F1: %.4f' %\n",
    "        (accuracy(y_test, knn.predict(X_test)), \n",
    "         precision(y_test, knn.predict(X_test)), \n",
    "         recall(y_test, knn.predict(X_test)),\n",
    "         F1(y_test, knn.predict(X_test))\n",
    "        )\n",
    "     )"
   ]
  },
  {
   "cell_type": "markdown",
   "id": "6360e2fd",
   "metadata": {},
   "source": [
    "### Ada Boost Classifier"
   ]
  },
  {
   "cell_type": "code",
   "execution_count": 30,
   "id": "c6591cca",
   "metadata": {},
   "outputs": [
    {
     "name": "stdout",
     "output_type": "stream",
     "text": [
      "Accuracy on training set: 0.8027767888928444\n",
      "Accuracy on validation set: 0.761875\n"
     ]
    }
   ],
   "source": [
    "abc = AdaBoostClassifier(n_estimators=50,learning_rate=1)\n",
    "# Train Adaboost Classifer\n",
    "abc.fit(X_tr_smote, y_tr_smote)\n",
    "\n",
    "#Predict the response for test dataset\n",
    "abc_pred = abc.predict(X_test)\n",
    "abc_ac=accuracy_score(y_test, abc_pred)\n",
    "print('Accuracy on training set:',abc.score(X_tr_smote, y_tr_smote))\n",
    "print('Accuracy on validation set:',abc.score(X_val,y_val))"
   ]
  },
  {
   "cell_type": "code",
   "execution_count": 31,
   "id": "efa24602",
   "metadata": {},
   "outputs": [
    {
     "name": "stdout",
     "output_type": "stream",
     "text": [
      "Ada Boost Classifier: \n",
      " Accuracy: 0.7825 \n",
      " Precision: 0.6170 \n",
      " Recall: 0.8246 \n",
      " F1: 0.7059\n"
     ]
    }
   ],
   "source": [
    "print('Ada Boost Classifier: \\n Accuracy: %.4f \\n Precision: %.4f \\n Recall: %.4f \\n F1: %.4f' %\n",
    "        (accuracy(y_test, abc.predict(X_test)), \n",
    "         precision(y_test, abc.predict(X_test)), \n",
    "         recall(y_test, abc.predict(X_test)),\n",
    "         F1(y_test, abc.predict(X_test))\n",
    "        )\n",
    "     )"
   ]
  },
  {
   "cell_type": "markdown",
   "id": "96e93053",
   "metadata": {},
   "source": [
    "### Gradient Boosting Classifier"
   ]
  },
  {
   "cell_type": "code",
   "execution_count": 32,
   "id": "3bf12232",
   "metadata": {},
   "outputs": [
    {
     "name": "stdout",
     "output_type": "stream",
     "text": [
      "Accuracy score (training): 0.8148807404770381\n",
      "Accuracy score (validation): 0.75625\n"
     ]
    }
   ],
   "source": [
    "gb_clf = GradientBoostingClassifier(n_estimators=100, max_depth=3,\n",
    "                               learning_rate=.71)\n",
    "gb_clf.fit(X_tr_smote, y_tr_smote)\n",
    "gb_clf_pred = gb_clf.predict(X_test)\n",
    "gb_clf_ac=accuracy_score(y_test, gb_clf_pred)\n",
    "print(\"Accuracy score (training):\" ,gb_clf.score(X_tr_smote, y_tr_smote))\n",
    "print(\"Accuracy score (validation):\",(gb_clf.score(X_val, y_val)))"
   ]
  },
  {
   "cell_type": "code",
   "execution_count": 33,
   "id": "b5cad2ac",
   "metadata": {},
   "outputs": [
    {
     "name": "stdout",
     "output_type": "stream",
     "text": [
      "Gradient Boosting Classifier: \n",
      " Accuracy: 0.7775 \n",
      " Precision: 0.6111 \n",
      " Recall: 0.8167 \n",
      " F1: 0.6991\n"
     ]
    }
   ],
   "source": [
    "print('Gradient Boosting Classifier: \\n Accuracy: %.4f \\n Precision: %.4f \\n Recall: %.4f \\n F1: %.4f' %\n",
    "        (accuracy(y_test, gb_clf.predict(X_test)), \n",
    "         precision(y_test, gb_clf.predict(X_test)), \n",
    "         recall(y_test, gb_clf.predict(X_test)),\n",
    "         F1(y_test, gb_clf.predict(X_test))\n",
    "        )\n",
    "     )"
   ]
  },
  {
   "cell_type": "markdown",
   "id": "dc266975",
   "metadata": {},
   "source": [
    "### XG Boost Classifier"
   ]
  },
  {
   "cell_type": "code",
   "execution_count": 34,
   "id": "05036d93",
   "metadata": {},
   "outputs": [],
   "source": [
    "#!pip install xgboost"
   ]
  },
  {
   "cell_type": "code",
   "execution_count": 35,
   "id": "96425be4",
   "metadata": {},
   "outputs": [
    {
     "name": "stderr",
     "output_type": "stream",
     "text": [
      "C:\\Users\\amira\\anaconda\\lib\\site-packages\\xgboost\\sklearn.py:1224: UserWarning: The use of label encoder in XGBClassifier is deprecated and will be removed in a future release. To remove this warning, do the following: 1) Pass option use_label_encoder=False when constructing XGBClassifier object; and 2) Encode your labels (y) as integers starting with 0, i.e. 0, 1, 2, ..., [num_class - 1].\n",
      "  warnings.warn(label_encoder_deprecation_msg, UserWarning)\n"
     ]
    },
    {
     "name": "stdout",
     "output_type": "stream",
     "text": [
      "[13:12:35] WARNING: C:/Users/Administrator/workspace/xgboost-win64_release_1.5.0/src/learner.cc:1115: Starting in XGBoost 1.3.0, the default evaluation metric used with the objective 'binary:logistic' was changed from 'error' to 'logloss'. Explicitly set eval_metric if you'd like to restore the old behavior.\n",
      "Accuracy score (training): 0.8183220600450931\n",
      "Accuracy score (validation): 0.75375\n"
     ]
    }
   ],
   "source": [
    "from xgboost import XGBClassifier\n",
    "xgb_clf = XGBClassifier()\n",
    "xgb_clf.fit(X_tr_smote, y_tr_smote)\n",
    "xgb_clf_pred = xgb_clf.predict(X_test)\n",
    "xgb_clf_ac=accuracy_score(y_test, xgb_clf_pred)\n",
    "print(\"Accuracy score (training):\" ,xgb_clf.score(X_tr_smote, y_tr_smote))\n",
    "print(\"Accuracy score (validation):\",(xgb_clf.score(X_val, y_val)))"
   ]
  },
  {
   "cell_type": "code",
   "execution_count": 36,
   "id": "3bcb5af8",
   "metadata": {},
   "outputs": [
    {
     "name": "stdout",
     "output_type": "stream",
     "text": [
      "XG Boost Classifier: \n",
      " Accuracy: 0.7765 \n",
      " Precision: 0.6089 \n",
      " Recall: 0.8215 \n",
      " F1: 0.6994\n"
     ]
    }
   ],
   "source": [
    "print('XG Boost Classifier: \\n Accuracy: %.4f \\n Precision: %.4f \\n Recall: %.4f \\n F1: %.4f' %\n",
    "        (accuracy(y_test, xgb_clf.predict(X_test)), \n",
    "         precision(y_test, xgb_clf.predict(X_test)), \n",
    "         recall(y_test, xgb_clf.predict(X_test)),\n",
    "         F1(y_test, xgb_clf.predict(X_test))\n",
    "        )\n",
    "     )"
   ]
  },
  {
   "cell_type": "markdown",
   "id": "3e7d6c70",
   "metadata": {},
   "source": [
    "### Cat Boost Regressor"
   ]
  },
  {
   "cell_type": "code",
   "execution_count": 37,
   "id": "6d1be11a",
   "metadata": {},
   "outputs": [],
   "source": [
    "#!pip install catboost"
   ]
  },
  {
   "cell_type": "code",
   "execution_count": 38,
   "id": "465fe336",
   "metadata": {},
   "outputs": [
    {
     "name": "stdout",
     "output_type": "stream",
     "text": [
      "Learning rate set to 0.025597\n",
      "0:\tlearn: 0.6774544\ttotal: 145ms\tremaining: 2m 24s\n",
      "1:\tlearn: 0.6626831\ttotal: 151ms\tremaining: 1m 15s\n",
      "2:\tlearn: 0.6480755\ttotal: 156ms\tremaining: 51.7s\n",
      "3:\tlearn: 0.6352224\ttotal: 160ms\tremaining: 39.8s\n",
      "4:\tlearn: 0.6239728\ttotal: 163ms\tremaining: 32.5s\n",
      "5:\tlearn: 0.6118475\ttotal: 168ms\tremaining: 27.9s\n",
      "6:\tlearn: 0.6005062\ttotal: 173ms\tremaining: 24.5s\n",
      "7:\tlearn: 0.5902376\ttotal: 178ms\tremaining: 22s\n",
      "8:\tlearn: 0.5811562\ttotal: 182ms\tremaining: 20.1s\n",
      "9:\tlearn: 0.5727503\ttotal: 187ms\tremaining: 18.5s\n",
      "10:\tlearn: 0.5640737\ttotal: 192ms\tremaining: 17.2s\n",
      "11:\tlearn: 0.5566668\ttotal: 196ms\tremaining: 16.1s\n",
      "12:\tlearn: 0.5492258\ttotal: 200ms\tremaining: 15.2s\n",
      "13:\tlearn: 0.5424645\ttotal: 204ms\tremaining: 14.4s\n",
      "14:\tlearn: 0.5359838\ttotal: 208ms\tremaining: 13.6s\n",
      "15:\tlearn: 0.5305720\ttotal: 210ms\tremaining: 12.9s\n",
      "16:\tlearn: 0.5254352\ttotal: 213ms\tremaining: 12.3s\n",
      "17:\tlearn: 0.5200151\ttotal: 216ms\tremaining: 11.8s\n",
      "18:\tlearn: 0.5152987\ttotal: 219ms\tremaining: 11.3s\n",
      "19:\tlearn: 0.5107894\ttotal: 222ms\tremaining: 10.9s\n",
      "20:\tlearn: 0.5065168\ttotal: 225ms\tremaining: 10.5s\n",
      "21:\tlearn: 0.5024568\ttotal: 228ms\tremaining: 10.1s\n",
      "22:\tlearn: 0.4983306\ttotal: 231ms\tremaining: 9.81s\n",
      "23:\tlearn: 0.4943209\ttotal: 234ms\tremaining: 9.5s\n",
      "24:\tlearn: 0.4908630\ttotal: 237ms\tremaining: 9.25s\n",
      "25:\tlearn: 0.4875935\ttotal: 240ms\tremaining: 9s\n",
      "26:\tlearn: 0.4843366\ttotal: 242ms\tremaining: 8.74s\n",
      "27:\tlearn: 0.4812544\ttotal: 245ms\tremaining: 8.49s\n",
      "28:\tlearn: 0.4782257\ttotal: 247ms\tremaining: 8.26s\n",
      "29:\tlearn: 0.4756436\ttotal: 249ms\tremaining: 8.04s\n",
      "30:\tlearn: 0.4732138\ttotal: 251ms\tremaining: 7.84s\n",
      "31:\tlearn: 0.4710933\ttotal: 253ms\tremaining: 7.66s\n",
      "32:\tlearn: 0.4690401\ttotal: 255ms\tremaining: 7.48s\n",
      "33:\tlearn: 0.4672559\ttotal: 257ms\tremaining: 7.31s\n",
      "34:\tlearn: 0.4651866\ttotal: 260ms\tremaining: 7.15s\n",
      "35:\tlearn: 0.4633688\ttotal: 262ms\tremaining: 7.01s\n",
      "36:\tlearn: 0.4614424\ttotal: 264ms\tremaining: 6.87s\n",
      "37:\tlearn: 0.4599025\ttotal: 266ms\tremaining: 6.74s\n",
      "38:\tlearn: 0.4584708\ttotal: 268ms\tremaining: 6.61s\n",
      "39:\tlearn: 0.4571017\ttotal: 271ms\tremaining: 6.5s\n",
      "40:\tlearn: 0.4556984\ttotal: 273ms\tremaining: 6.38s\n",
      "41:\tlearn: 0.4544794\ttotal: 275ms\tremaining: 6.28s\n",
      "42:\tlearn: 0.4532605\ttotal: 277ms\tremaining: 6.17s\n",
      "43:\tlearn: 0.4521757\ttotal: 280ms\tremaining: 6.07s\n",
      "44:\tlearn: 0.4510713\ttotal: 282ms\tremaining: 5.98s\n",
      "45:\tlearn: 0.4500520\ttotal: 284ms\tremaining: 5.89s\n",
      "46:\tlearn: 0.4491112\ttotal: 286ms\tremaining: 5.8s\n",
      "47:\tlearn: 0.4481075\ttotal: 289ms\tremaining: 5.72s\n",
      "48:\tlearn: 0.4469533\ttotal: 291ms\tremaining: 5.64s\n",
      "49:\tlearn: 0.4460203\ttotal: 293ms\tremaining: 5.57s\n",
      "50:\tlearn: 0.4452534\ttotal: 295ms\tremaining: 5.49s\n",
      "51:\tlearn: 0.4445513\ttotal: 297ms\tremaining: 5.42s\n",
      "52:\tlearn: 0.4435993\ttotal: 300ms\tremaining: 5.35s\n",
      "53:\tlearn: 0.4428282\ttotal: 302ms\tremaining: 5.29s\n",
      "54:\tlearn: 0.4420892\ttotal: 304ms\tremaining: 5.22s\n",
      "55:\tlearn: 0.4414537\ttotal: 306ms\tremaining: 5.16s\n",
      "56:\tlearn: 0.4408445\ttotal: 308ms\tremaining: 5.1s\n",
      "57:\tlearn: 0.4400824\ttotal: 310ms\tremaining: 5.04s\n",
      "58:\tlearn: 0.4395109\ttotal: 313ms\tremaining: 4.98s\n",
      "59:\tlearn: 0.4389035\ttotal: 315ms\tremaining: 4.93s\n",
      "60:\tlearn: 0.4384214\ttotal: 317ms\tremaining: 4.88s\n",
      "61:\tlearn: 0.4379009\ttotal: 319ms\tremaining: 4.83s\n",
      "62:\tlearn: 0.4374208\ttotal: 321ms\tremaining: 4.78s\n",
      "63:\tlearn: 0.4367992\ttotal: 324ms\tremaining: 4.73s\n",
      "64:\tlearn: 0.4362405\ttotal: 326ms\tremaining: 4.69s\n",
      "65:\tlearn: 0.4358275\ttotal: 328ms\tremaining: 4.64s\n",
      "66:\tlearn: 0.4354493\ttotal: 330ms\tremaining: 4.6s\n",
      "67:\tlearn: 0.4350619\ttotal: 333ms\tremaining: 4.56s\n",
      "68:\tlearn: 0.4346737\ttotal: 335ms\tremaining: 4.51s\n",
      "69:\tlearn: 0.4342703\ttotal: 337ms\tremaining: 4.47s\n",
      "70:\tlearn: 0.4338041\ttotal: 339ms\tremaining: 4.44s\n",
      "71:\tlearn: 0.4335521\ttotal: 341ms\tremaining: 4.4s\n",
      "72:\tlearn: 0.4332415\ttotal: 344ms\tremaining: 4.36s\n",
      "73:\tlearn: 0.4331001\ttotal: 345ms\tremaining: 4.32s\n",
      "74:\tlearn: 0.4326627\ttotal: 347ms\tremaining: 4.28s\n",
      "75:\tlearn: 0.4323408\ttotal: 350ms\tremaining: 4.25s\n",
      "76:\tlearn: 0.4320052\ttotal: 352ms\tremaining: 4.22s\n",
      "77:\tlearn: 0.4317432\ttotal: 354ms\tremaining: 4.19s\n",
      "78:\tlearn: 0.4314646\ttotal: 356ms\tremaining: 4.16s\n",
      "79:\tlearn: 0.4312705\ttotal: 358ms\tremaining: 4.12s\n",
      "80:\tlearn: 0.4310103\ttotal: 360ms\tremaining: 4.09s\n",
      "81:\tlearn: 0.4307837\ttotal: 363ms\tremaining: 4.06s\n",
      "82:\tlearn: 0.4305177\ttotal: 365ms\tremaining: 4.03s\n",
      "83:\tlearn: 0.4302858\ttotal: 367ms\tremaining: 4.01s\n",
      "84:\tlearn: 0.4300727\ttotal: 370ms\tremaining: 3.98s\n",
      "85:\tlearn: 0.4299070\ttotal: 373ms\tremaining: 3.96s\n",
      "86:\tlearn: 0.4298574\ttotal: 374ms\tremaining: 3.93s\n",
      "87:\tlearn: 0.4296098\ttotal: 377ms\tremaining: 3.9s\n",
      "88:\tlearn: 0.4294158\ttotal: 380ms\tremaining: 3.89s\n",
      "89:\tlearn: 0.4292131\ttotal: 383ms\tremaining: 3.88s\n",
      "90:\tlearn: 0.4290097\ttotal: 386ms\tremaining: 3.85s\n",
      "91:\tlearn: 0.4287279\ttotal: 388ms\tremaining: 3.83s\n",
      "92:\tlearn: 0.4284884\ttotal: 391ms\tremaining: 3.81s\n",
      "93:\tlearn: 0.4284216\ttotal: 393ms\tremaining: 3.79s\n",
      "94:\tlearn: 0.4282555\ttotal: 395ms\tremaining: 3.77s\n",
      "95:\tlearn: 0.4281259\ttotal: 398ms\tremaining: 3.75s\n",
      "96:\tlearn: 0.4279365\ttotal: 400ms\tremaining: 3.73s\n",
      "97:\tlearn: 0.4277525\ttotal: 403ms\tremaining: 3.7s\n",
      "98:\tlearn: 0.4276270\ttotal: 405ms\tremaining: 3.68s\n",
      "99:\tlearn: 0.4274353\ttotal: 407ms\tremaining: 3.66s\n",
      "100:\tlearn: 0.4272187\ttotal: 409ms\tremaining: 3.64s\n",
      "101:\tlearn: 0.4271299\ttotal: 412ms\tremaining: 3.63s\n",
      "102:\tlearn: 0.4269773\ttotal: 415ms\tremaining: 3.61s\n",
      "103:\tlearn: 0.4268726\ttotal: 417ms\tremaining: 3.59s\n",
      "104:\tlearn: 0.4267854\ttotal: 419ms\tremaining: 3.57s\n",
      "105:\tlearn: 0.4266993\ttotal: 421ms\tremaining: 3.55s\n",
      "106:\tlearn: 0.4265391\ttotal: 424ms\tremaining: 3.54s\n",
      "107:\tlearn: 0.4263398\ttotal: 426ms\tremaining: 3.52s\n",
      "108:\tlearn: 0.4260699\ttotal: 429ms\tremaining: 3.5s\n",
      "109:\tlearn: 0.4259849\ttotal: 431ms\tremaining: 3.49s\n",
      "110:\tlearn: 0.4259050\ttotal: 433ms\tremaining: 3.47s\n",
      "111:\tlearn: 0.4257648\ttotal: 436ms\tremaining: 3.45s\n",
      "112:\tlearn: 0.4256639\ttotal: 438ms\tremaining: 3.44s\n",
      "113:\tlearn: 0.4254612\ttotal: 440ms\tremaining: 3.42s\n",
      "114:\tlearn: 0.4253141\ttotal: 442ms\tremaining: 3.4s\n",
      "115:\tlearn: 0.4252505\ttotal: 444ms\tremaining: 3.39s\n",
      "116:\tlearn: 0.4250446\ttotal: 447ms\tremaining: 3.37s\n",
      "117:\tlearn: 0.4249443\ttotal: 449ms\tremaining: 3.36s\n",
      "118:\tlearn: 0.4248009\ttotal: 452ms\tremaining: 3.35s\n",
      "119:\tlearn: 0.4246464\ttotal: 455ms\tremaining: 3.33s\n",
      "120:\tlearn: 0.4245950\ttotal: 457ms\tremaining: 3.32s\n",
      "121:\tlearn: 0.4244706\ttotal: 459ms\tremaining: 3.3s\n",
      "122:\tlearn: 0.4243520\ttotal: 461ms\tremaining: 3.29s\n",
      "123:\tlearn: 0.4243014\ttotal: 464ms\tremaining: 3.27s\n",
      "124:\tlearn: 0.4241587\ttotal: 466ms\tremaining: 3.26s\n",
      "125:\tlearn: 0.4239994\ttotal: 468ms\tremaining: 3.25s\n",
      "126:\tlearn: 0.4239003\ttotal: 470ms\tremaining: 3.23s\n",
      "127:\tlearn: 0.4237855\ttotal: 473ms\tremaining: 3.22s\n",
      "128:\tlearn: 0.4237188\ttotal: 475ms\tremaining: 3.21s\n",
      "129:\tlearn: 0.4236413\ttotal: 477ms\tremaining: 3.19s\n",
      "130:\tlearn: 0.4235969\ttotal: 479ms\tremaining: 3.18s\n",
      "131:\tlearn: 0.4235500\ttotal: 481ms\tremaining: 3.17s\n",
      "132:\tlearn: 0.4234854\ttotal: 484ms\tremaining: 3.15s\n",
      "133:\tlearn: 0.4233809\ttotal: 486ms\tremaining: 3.14s\n",
      "134:\tlearn: 0.4231773\ttotal: 488ms\tremaining: 3.13s\n",
      "135:\tlearn: 0.4230914\ttotal: 490ms\tremaining: 3.12s\n",
      "136:\tlearn: 0.4229471\ttotal: 493ms\tremaining: 3.1s\n",
      "137:\tlearn: 0.4228816\ttotal: 495ms\tremaining: 3.09s\n",
      "138:\tlearn: 0.4228245\ttotal: 497ms\tremaining: 3.08s\n",
      "139:\tlearn: 0.4227404\ttotal: 500ms\tremaining: 3.07s\n",
      "140:\tlearn: 0.4226401\ttotal: 502ms\tremaining: 3.06s\n",
      "141:\tlearn: 0.4226196\ttotal: 504ms\tremaining: 3.04s\n",
      "142:\tlearn: 0.4226175\ttotal: 505ms\tremaining: 3.03s\n",
      "143:\tlearn: 0.4225257\ttotal: 507ms\tremaining: 3.02s\n",
      "144:\tlearn: 0.4224634\ttotal: 510ms\tremaining: 3s\n",
      "145:\tlearn: 0.4224039\ttotal: 512ms\tremaining: 2.99s\n",
      "146:\tlearn: 0.4224004\ttotal: 513ms\tremaining: 2.98s\n",
      "147:\tlearn: 0.4223535\ttotal: 516ms\tremaining: 2.97s\n",
      "148:\tlearn: 0.4222985\ttotal: 518ms\tremaining: 2.96s\n",
      "149:\tlearn: 0.4222904\ttotal: 520ms\tremaining: 2.94s\n",
      "150:\tlearn: 0.4222017\ttotal: 522ms\tremaining: 2.94s\n",
      "151:\tlearn: 0.4221366\ttotal: 524ms\tremaining: 2.93s\n",
      "152:\tlearn: 0.4219578\ttotal: 527ms\tremaining: 2.92s\n",
      "153:\tlearn: 0.4219451\ttotal: 528ms\tremaining: 2.9s\n",
      "154:\tlearn: 0.4218860\ttotal: 531ms\tremaining: 2.89s\n",
      "155:\tlearn: 0.4217939\ttotal: 533ms\tremaining: 2.88s\n",
      "156:\tlearn: 0.4216797\ttotal: 535ms\tremaining: 2.88s\n",
      "157:\tlearn: 0.4216134\ttotal: 538ms\tremaining: 2.87s\n",
      "158:\tlearn: 0.4215646\ttotal: 540ms\tremaining: 2.86s\n",
      "159:\tlearn: 0.4215309\ttotal: 543ms\tremaining: 2.85s\n",
      "160:\tlearn: 0.4215113\ttotal: 545ms\tremaining: 2.84s\n"
     ]
    },
    {
     "name": "stdout",
     "output_type": "stream",
     "text": [
      "161:\tlearn: 0.4214614\ttotal: 548ms\tremaining: 2.83s\n",
      "162:\tlearn: 0.4213911\ttotal: 550ms\tremaining: 2.83s\n",
      "163:\tlearn: 0.4213494\ttotal: 553ms\tremaining: 2.82s\n",
      "164:\tlearn: 0.4213049\ttotal: 556ms\tremaining: 2.81s\n",
      "165:\tlearn: 0.4212395\ttotal: 559ms\tremaining: 2.81s\n",
      "166:\tlearn: 0.4211969\ttotal: 562ms\tremaining: 2.8s\n",
      "167:\tlearn: 0.4211036\ttotal: 565ms\tremaining: 2.8s\n",
      "168:\tlearn: 0.4210559\ttotal: 568ms\tremaining: 2.79s\n",
      "169:\tlearn: 0.4210329\ttotal: 571ms\tremaining: 2.79s\n",
      "170:\tlearn: 0.4209573\ttotal: 573ms\tremaining: 2.78s\n",
      "171:\tlearn: 0.4209060\ttotal: 576ms\tremaining: 2.77s\n",
      "172:\tlearn: 0.4208774\ttotal: 579ms\tremaining: 2.77s\n",
      "173:\tlearn: 0.4208281\ttotal: 583ms\tremaining: 2.77s\n",
      "174:\tlearn: 0.4207149\ttotal: 586ms\tremaining: 2.76s\n",
      "175:\tlearn: 0.4206425\ttotal: 588ms\tremaining: 2.75s\n",
      "176:\tlearn: 0.4205604\ttotal: 591ms\tremaining: 2.75s\n",
      "177:\tlearn: 0.4205042\ttotal: 593ms\tremaining: 2.74s\n",
      "178:\tlearn: 0.4204610\ttotal: 595ms\tremaining: 2.73s\n",
      "179:\tlearn: 0.4203225\ttotal: 597ms\tremaining: 2.72s\n",
      "180:\tlearn: 0.4202994\ttotal: 600ms\tremaining: 2.71s\n",
      "181:\tlearn: 0.4202586\ttotal: 602ms\tremaining: 2.71s\n",
      "182:\tlearn: 0.4201836\ttotal: 604ms\tremaining: 2.7s\n",
      "183:\tlearn: 0.4201123\ttotal: 606ms\tremaining: 2.69s\n",
      "184:\tlearn: 0.4200986\ttotal: 608ms\tremaining: 2.68s\n",
      "185:\tlearn: 0.4200513\ttotal: 610ms\tremaining: 2.67s\n",
      "186:\tlearn: 0.4200091\ttotal: 613ms\tremaining: 2.66s\n",
      "187:\tlearn: 0.4199775\ttotal: 615ms\tremaining: 2.65s\n",
      "188:\tlearn: 0.4198543\ttotal: 617ms\tremaining: 2.65s\n",
      "189:\tlearn: 0.4198338\ttotal: 619ms\tremaining: 2.64s\n",
      "190:\tlearn: 0.4196258\ttotal: 621ms\tremaining: 2.63s\n",
      "191:\tlearn: 0.4195428\ttotal: 623ms\tremaining: 2.62s\n",
      "192:\tlearn: 0.4194892\ttotal: 626ms\tremaining: 2.62s\n",
      "193:\tlearn: 0.4194349\ttotal: 628ms\tremaining: 2.61s\n",
      "194:\tlearn: 0.4193919\ttotal: 630ms\tremaining: 2.6s\n",
      "195:\tlearn: 0.4193811\ttotal: 632ms\tremaining: 2.59s\n",
      "196:\tlearn: 0.4193474\ttotal: 634ms\tremaining: 2.58s\n",
      "197:\tlearn: 0.4193055\ttotal: 637ms\tremaining: 2.58s\n",
      "198:\tlearn: 0.4192628\ttotal: 639ms\tremaining: 2.57s\n",
      "199:\tlearn: 0.4191825\ttotal: 641ms\tremaining: 2.56s\n",
      "200:\tlearn: 0.4191537\ttotal: 643ms\tremaining: 2.56s\n",
      "201:\tlearn: 0.4191326\ttotal: 645ms\tremaining: 2.55s\n",
      "202:\tlearn: 0.4190918\ttotal: 647ms\tremaining: 2.54s\n",
      "203:\tlearn: 0.4190242\ttotal: 650ms\tremaining: 2.54s\n",
      "204:\tlearn: 0.4189845\ttotal: 652ms\tremaining: 2.53s\n",
      "205:\tlearn: 0.4188833\ttotal: 654ms\tremaining: 2.52s\n",
      "206:\tlearn: 0.4187689\ttotal: 658ms\tremaining: 2.52s\n",
      "207:\tlearn: 0.4186753\ttotal: 661ms\tremaining: 2.52s\n",
      "208:\tlearn: 0.4185315\ttotal: 663ms\tremaining: 2.51s\n",
      "209:\tlearn: 0.4185160\ttotal: 665ms\tremaining: 2.5s\n",
      "210:\tlearn: 0.4184326\ttotal: 668ms\tremaining: 2.5s\n",
      "211:\tlearn: 0.4183885\ttotal: 670ms\tremaining: 2.49s\n",
      "212:\tlearn: 0.4183074\ttotal: 672ms\tremaining: 2.48s\n",
      "213:\tlearn: 0.4182962\ttotal: 675ms\tremaining: 2.48s\n",
      "214:\tlearn: 0.4182577\ttotal: 677ms\tremaining: 2.47s\n",
      "215:\tlearn: 0.4182171\ttotal: 679ms\tremaining: 2.46s\n",
      "216:\tlearn: 0.4181817\ttotal: 682ms\tremaining: 2.46s\n",
      "217:\tlearn: 0.4181000\ttotal: 684ms\tremaining: 2.45s\n",
      "218:\tlearn: 0.4180328\ttotal: 686ms\tremaining: 2.45s\n",
      "219:\tlearn: 0.4180058\ttotal: 688ms\tremaining: 2.44s\n",
      "220:\tlearn: 0.4179460\ttotal: 690ms\tremaining: 2.43s\n",
      "221:\tlearn: 0.4178600\ttotal: 693ms\tremaining: 2.43s\n",
      "222:\tlearn: 0.4178466\ttotal: 695ms\tremaining: 2.42s\n",
      "223:\tlearn: 0.4178261\ttotal: 697ms\tremaining: 2.42s\n",
      "224:\tlearn: 0.4177917\ttotal: 699ms\tremaining: 2.41s\n",
      "225:\tlearn: 0.4177933\ttotal: 701ms\tremaining: 2.4s\n",
      "226:\tlearn: 0.4177358\ttotal: 703ms\tremaining: 2.39s\n",
      "227:\tlearn: 0.4177267\ttotal: 705ms\tremaining: 2.39s\n",
      "228:\tlearn: 0.4176283\ttotal: 708ms\tremaining: 2.38s\n",
      "229:\tlearn: 0.4176187\ttotal: 709ms\tremaining: 2.37s\n",
      "230:\tlearn: 0.4174926\ttotal: 711ms\tremaining: 2.37s\n",
      "231:\tlearn: 0.4174816\ttotal: 713ms\tremaining: 2.36s\n",
      "232:\tlearn: 0.4174535\ttotal: 716ms\tremaining: 2.35s\n",
      "233:\tlearn: 0.4174182\ttotal: 718ms\tremaining: 2.35s\n",
      "234:\tlearn: 0.4173537\ttotal: 721ms\tremaining: 2.35s\n",
      "235:\tlearn: 0.4173324\ttotal: 724ms\tremaining: 2.34s\n",
      "236:\tlearn: 0.4173052\ttotal: 726ms\tremaining: 2.34s\n",
      "237:\tlearn: 0.4173032\ttotal: 728ms\tremaining: 2.33s\n",
      "238:\tlearn: 0.4173003\ttotal: 730ms\tremaining: 2.33s\n",
      "239:\tlearn: 0.4172611\ttotal: 733ms\tremaining: 2.32s\n",
      "240:\tlearn: 0.4172138\ttotal: 735ms\tremaining: 2.31s\n",
      "241:\tlearn: 0.4170837\ttotal: 737ms\tremaining: 2.31s\n",
      "242:\tlearn: 0.4170514\ttotal: 740ms\tremaining: 2.3s\n",
      "243:\tlearn: 0.4169930\ttotal: 742ms\tremaining: 2.3s\n",
      "244:\tlearn: 0.4169877\ttotal: 744ms\tremaining: 2.29s\n",
      "245:\tlearn: 0.4169549\ttotal: 746ms\tremaining: 2.29s\n",
      "246:\tlearn: 0.4169378\ttotal: 748ms\tremaining: 2.28s\n",
      "247:\tlearn: 0.4167266\ttotal: 751ms\tremaining: 2.27s\n",
      "248:\tlearn: 0.4166804\ttotal: 753ms\tremaining: 2.27s\n",
      "249:\tlearn: 0.4166425\ttotal: 755ms\tremaining: 2.27s\n",
      "250:\tlearn: 0.4165569\ttotal: 757ms\tremaining: 2.26s\n",
      "251:\tlearn: 0.4165538\ttotal: 759ms\tremaining: 2.25s\n",
      "252:\tlearn: 0.4163758\ttotal: 762ms\tremaining: 2.25s\n",
      "253:\tlearn: 0.4163725\ttotal: 764ms\tremaining: 2.24s\n",
      "254:\tlearn: 0.4163175\ttotal: 766ms\tremaining: 2.24s\n",
      "255:\tlearn: 0.4162711\ttotal: 769ms\tremaining: 2.23s\n",
      "256:\tlearn: 0.4162642\ttotal: 771ms\tremaining: 2.23s\n",
      "257:\tlearn: 0.4161692\ttotal: 773ms\tremaining: 2.22s\n",
      "258:\tlearn: 0.4161322\ttotal: 775ms\tremaining: 2.22s\n",
      "259:\tlearn: 0.4161319\ttotal: 777ms\tremaining: 2.21s\n",
      "260:\tlearn: 0.4160377\ttotal: 779ms\tremaining: 2.21s\n",
      "261:\tlearn: 0.4159433\ttotal: 781ms\tremaining: 2.2s\n",
      "262:\tlearn: 0.4158979\ttotal: 783ms\tremaining: 2.19s\n",
      "263:\tlearn: 0.4158505\ttotal: 786ms\tremaining: 2.19s\n",
      "264:\tlearn: 0.4157947\ttotal: 788ms\tremaining: 2.19s\n",
      "265:\tlearn: 0.4157759\ttotal: 790ms\tremaining: 2.18s\n",
      "266:\tlearn: 0.4157609\ttotal: 792ms\tremaining: 2.17s\n",
      "267:\tlearn: 0.4157211\ttotal: 794ms\tremaining: 2.17s\n",
      "268:\tlearn: 0.4156910\ttotal: 797ms\tremaining: 2.16s\n",
      "269:\tlearn: 0.4155906\ttotal: 799ms\tremaining: 2.16s\n",
      "270:\tlearn: 0.4155418\ttotal: 802ms\tremaining: 2.16s\n",
      "271:\tlearn: 0.4154935\ttotal: 804ms\tremaining: 2.15s\n",
      "272:\tlearn: 0.4154927\ttotal: 806ms\tremaining: 2.15s\n",
      "273:\tlearn: 0.4154611\ttotal: 808ms\tremaining: 2.14s\n",
      "274:\tlearn: 0.4154295\ttotal: 810ms\tremaining: 2.14s\n",
      "275:\tlearn: 0.4154050\ttotal: 813ms\tremaining: 2.13s\n",
      "276:\tlearn: 0.4153859\ttotal: 815ms\tremaining: 2.13s\n",
      "277:\tlearn: 0.4153645\ttotal: 817ms\tremaining: 2.12s\n",
      "278:\tlearn: 0.4152772\ttotal: 819ms\tremaining: 2.12s\n",
      "279:\tlearn: 0.4152563\ttotal: 822ms\tremaining: 2.11s\n",
      "280:\tlearn: 0.4151978\ttotal: 824ms\tremaining: 2.11s\n",
      "281:\tlearn: 0.4151923\ttotal: 826ms\tremaining: 2.1s\n",
      "282:\tlearn: 0.4151809\ttotal: 828ms\tremaining: 2.1s\n",
      "283:\tlearn: 0.4150805\ttotal: 830ms\tremaining: 2.09s\n",
      "284:\tlearn: 0.4150603\ttotal: 832ms\tremaining: 2.09s\n",
      "285:\tlearn: 0.4150264\ttotal: 835ms\tremaining: 2.08s\n",
      "286:\tlearn: 0.4149872\ttotal: 837ms\tremaining: 2.08s\n",
      "287:\tlearn: 0.4149438\ttotal: 839ms\tremaining: 2.07s\n",
      "288:\tlearn: 0.4149338\ttotal: 841ms\tremaining: 2.07s\n",
      "289:\tlearn: 0.4149067\ttotal: 844ms\tremaining: 2.06s\n",
      "290:\tlearn: 0.4148653\ttotal: 846ms\tremaining: 2.06s\n",
      "291:\tlearn: 0.4148459\ttotal: 848ms\tremaining: 2.06s\n",
      "292:\tlearn: 0.4147035\ttotal: 850ms\tremaining: 2.05s\n",
      "293:\tlearn: 0.4147037\ttotal: 852ms\tremaining: 2.05s\n",
      "294:\tlearn: 0.4145460\ttotal: 854ms\tremaining: 2.04s\n",
      "295:\tlearn: 0.4145231\ttotal: 857ms\tremaining: 2.04s\n",
      "296:\tlearn: 0.4145059\ttotal: 859ms\tremaining: 2.03s\n",
      "297:\tlearn: 0.4144450\ttotal: 861ms\tremaining: 2.03s\n",
      "298:\tlearn: 0.4144053\ttotal: 863ms\tremaining: 2.02s\n",
      "299:\tlearn: 0.4143817\ttotal: 866ms\tremaining: 2.02s\n",
      "300:\tlearn: 0.4143487\ttotal: 868ms\tremaining: 2.02s\n",
      "301:\tlearn: 0.4143162\ttotal: 870ms\tremaining: 2.01s\n",
      "302:\tlearn: 0.4143161\ttotal: 871ms\tremaining: 2s\n",
      "303:\tlearn: 0.4142994\ttotal: 874ms\tremaining: 2s\n",
      "304:\tlearn: 0.4142757\ttotal: 876ms\tremaining: 2s\n",
      "305:\tlearn: 0.4142176\ttotal: 878ms\tremaining: 1.99s\n",
      "306:\tlearn: 0.4142009\ttotal: 880ms\tremaining: 1.99s\n",
      "307:\tlearn: 0.4141904\ttotal: 883ms\tremaining: 1.98s\n",
      "308:\tlearn: 0.4141810\ttotal: 885ms\tremaining: 1.98s\n",
      "309:\tlearn: 0.4141803\ttotal: 886ms\tremaining: 1.97s\n",
      "310:\tlearn: 0.4141118\ttotal: 888ms\tremaining: 1.97s\n",
      "311:\tlearn: 0.4140770\ttotal: 890ms\tremaining: 1.96s\n",
      "312:\tlearn: 0.4140739\ttotal: 892ms\tremaining: 1.96s\n",
      "313:\tlearn: 0.4140494\ttotal: 895ms\tremaining: 1.95s\n",
      "314:\tlearn: 0.4140323\ttotal: 897ms\tremaining: 1.95s\n",
      "315:\tlearn: 0.4140021\ttotal: 899ms\tremaining: 1.95s\n",
      "316:\tlearn: 0.4139514\ttotal: 901ms\tremaining: 1.94s\n",
      "317:\tlearn: 0.4139361\ttotal: 903ms\tremaining: 1.94s\n",
      "318:\tlearn: 0.4139338\ttotal: 906ms\tremaining: 1.93s\n",
      "319:\tlearn: 0.4138876\ttotal: 908ms\tremaining: 1.93s\n",
      "320:\tlearn: 0.4138833\ttotal: 911ms\tremaining: 1.93s\n",
      "321:\tlearn: 0.4138537\ttotal: 913ms\tremaining: 1.92s\n",
      "322:\tlearn: 0.4138396\ttotal: 916ms\tremaining: 1.92s\n",
      "323:\tlearn: 0.4137348\ttotal: 919ms\tremaining: 1.92s\n",
      "324:\tlearn: 0.4136460\ttotal: 922ms\tremaining: 1.91s\n",
      "325:\tlearn: 0.4136450\ttotal: 924ms\tremaining: 1.91s\n",
      "326:\tlearn: 0.4136052\ttotal: 926ms\tremaining: 1.91s\n",
      "327:\tlearn: 0.4135247\ttotal: 928ms\tremaining: 1.9s\n",
      "328:\tlearn: 0.4134680\ttotal: 930ms\tremaining: 1.9s\n",
      "329:\tlearn: 0.4134445\ttotal: 932ms\tremaining: 1.89s\n",
      "330:\tlearn: 0.4134230\ttotal: 935ms\tremaining: 1.89s\n",
      "331:\tlearn: 0.4133887\ttotal: 937ms\tremaining: 1.89s\n",
      "332:\tlearn: 0.4132728\ttotal: 939ms\tremaining: 1.88s\n",
      "333:\tlearn: 0.4132143\ttotal: 942ms\tremaining: 1.88s\n",
      "334:\tlearn: 0.4132136\ttotal: 943ms\tremaining: 1.87s\n",
      "335:\tlearn: 0.4131576\ttotal: 946ms\tremaining: 1.87s\n",
      "336:\tlearn: 0.4131034\ttotal: 948ms\tremaining: 1.86s\n",
      "337:\tlearn: 0.4130835\ttotal: 950ms\tremaining: 1.86s\n",
      "338:\tlearn: 0.4130784\ttotal: 952ms\tremaining: 1.86s\n",
      "339:\tlearn: 0.4130776\ttotal: 954ms\tremaining: 1.85s\n",
      "340:\tlearn: 0.4130428\ttotal: 956ms\tremaining: 1.85s\n",
      "341:\tlearn: 0.4130160\ttotal: 959ms\tremaining: 1.84s\n",
      "342:\tlearn: 0.4130116\ttotal: 961ms\tremaining: 1.84s\n",
      "343:\tlearn: 0.4129732\ttotal: 963ms\tremaining: 1.84s\n",
      "344:\tlearn: 0.4128614\ttotal: 965ms\tremaining: 1.83s\n",
      "345:\tlearn: 0.4128479\ttotal: 967ms\tremaining: 1.83s\n",
      "346:\tlearn: 0.4128153\ttotal: 969ms\tremaining: 1.82s\n",
      "347:\tlearn: 0.4126738\ttotal: 971ms\tremaining: 1.82s\n",
      "348:\tlearn: 0.4126642\ttotal: 974ms\tremaining: 1.82s\n",
      "349:\tlearn: 0.4126203\ttotal: 976ms\tremaining: 1.81s\n",
      "350:\tlearn: 0.4125904\ttotal: 978ms\tremaining: 1.81s\n",
      "351:\tlearn: 0.4125797\ttotal: 980ms\tremaining: 1.8s\n",
      "352:\tlearn: 0.4125575\ttotal: 982ms\tremaining: 1.8s\n",
      "353:\tlearn: 0.4124915\ttotal: 985ms\tremaining: 1.8s\n",
      "354:\tlearn: 0.4124597\ttotal: 987ms\tremaining: 1.79s\n",
      "355:\tlearn: 0.4124077\ttotal: 989ms\tremaining: 1.79s\n",
      "356:\tlearn: 0.4123111\ttotal: 991ms\tremaining: 1.78s\n",
      "357:\tlearn: 0.4122679\ttotal: 993ms\tremaining: 1.78s\n",
      "358:\tlearn: 0.4122242\ttotal: 996ms\tremaining: 1.78s\n",
      "359:\tlearn: 0.4122024\ttotal: 998ms\tremaining: 1.77s\n",
      "360:\tlearn: 0.4121572\ttotal: 1s\tremaining: 1.77s\n",
      "361:\tlearn: 0.4121063\ttotal: 1s\tremaining: 1.77s\n",
      "362:\tlearn: 0.4120814\ttotal: 1s\tremaining: 1.76s\n",
      "363:\tlearn: 0.4120356\ttotal: 1.01s\tremaining: 1.76s\n",
      "364:\tlearn: 0.4119557\ttotal: 1.01s\tremaining: 1.75s\n",
      "365:\tlearn: 0.4118502\ttotal: 1.01s\tremaining: 1.75s\n",
      "366:\tlearn: 0.4117659\ttotal: 1.01s\tremaining: 1.75s\n",
      "367:\tlearn: 0.4117625\ttotal: 1.02s\tremaining: 1.75s\n",
      "368:\tlearn: 0.4117498\ttotal: 1.02s\tremaining: 1.74s\n",
      "369:\tlearn: 0.4117007\ttotal: 1.02s\tremaining: 1.74s\n",
      "370:\tlearn: 0.4116879\ttotal: 1.02s\tremaining: 1.73s\n",
      "371:\tlearn: 0.4116070\ttotal: 1.02s\tremaining: 1.73s\n",
      "372:\tlearn: 0.4115327\ttotal: 1.03s\tremaining: 1.73s\n",
      "373:\tlearn: 0.4114393\ttotal: 1.03s\tremaining: 1.72s\n",
      "374:\tlearn: 0.4113738\ttotal: 1.03s\tremaining: 1.72s\n",
      "375:\tlearn: 0.4113463\ttotal: 1.03s\tremaining: 1.72s\n",
      "376:\tlearn: 0.4113018\ttotal: 1.04s\tremaining: 1.71s\n",
      "377:\tlearn: 0.4112724\ttotal: 1.04s\tremaining: 1.71s\n",
      "378:\tlearn: 0.4112451\ttotal: 1.04s\tremaining: 1.71s\n",
      "379:\tlearn: 0.4111939\ttotal: 1.04s\tremaining: 1.7s\n",
      "380:\tlearn: 0.4111380\ttotal: 1.05s\tremaining: 1.7s\n",
      "381:\tlearn: 0.4111363\ttotal: 1.05s\tremaining: 1.7s\n",
      "382:\tlearn: 0.4111057\ttotal: 1.05s\tremaining: 1.69s\n",
      "383:\tlearn: 0.4110016\ttotal: 1.05s\tremaining: 1.69s\n",
      "384:\tlearn: 0.4108883\ttotal: 1.05s\tremaining: 1.69s\n",
      "385:\tlearn: 0.4108739\ttotal: 1.06s\tremaining: 1.68s\n",
      "386:\tlearn: 0.4108168\ttotal: 1.06s\tremaining: 1.68s\n",
      "387:\tlearn: 0.4107726\ttotal: 1.06s\tremaining: 1.68s\n",
      "388:\tlearn: 0.4107606\ttotal: 1.06s\tremaining: 1.67s\n",
      "389:\tlearn: 0.4107607\ttotal: 1.06s\tremaining: 1.67s\n",
      "390:\tlearn: 0.4107203\ttotal: 1.07s\tremaining: 1.66s\n",
      "391:\tlearn: 0.4106472\ttotal: 1.07s\tremaining: 1.66s\n",
      "392:\tlearn: 0.4105903\ttotal: 1.07s\tremaining: 1.66s\n",
      "393:\tlearn: 0.4105555\ttotal: 1.07s\tremaining: 1.65s\n",
      "394:\tlearn: 0.4105298\ttotal: 1.08s\tremaining: 1.65s\n"
     ]
    },
    {
     "name": "stdout",
     "output_type": "stream",
     "text": [
      "395:\tlearn: 0.4104696\ttotal: 1.08s\tremaining: 1.65s\n",
      "396:\tlearn: 0.4104456\ttotal: 1.08s\tremaining: 1.64s\n",
      "397:\tlearn: 0.4103792\ttotal: 1.08s\tremaining: 1.64s\n",
      "398:\tlearn: 0.4102899\ttotal: 1.09s\tremaining: 1.64s\n",
      "399:\tlearn: 0.4102769\ttotal: 1.09s\tremaining: 1.63s\n",
      "400:\tlearn: 0.4102318\ttotal: 1.09s\tremaining: 1.63s\n",
      "401:\tlearn: 0.4102091\ttotal: 1.09s\tremaining: 1.63s\n",
      "402:\tlearn: 0.4101781\ttotal: 1.1s\tremaining: 1.63s\n",
      "403:\tlearn: 0.4101201\ttotal: 1.1s\tremaining: 1.62s\n",
      "404:\tlearn: 0.4101096\ttotal: 1.1s\tremaining: 1.62s\n",
      "405:\tlearn: 0.4100682\ttotal: 1.1s\tremaining: 1.61s\n",
      "406:\tlearn: 0.4100147\ttotal: 1.11s\tremaining: 1.61s\n",
      "407:\tlearn: 0.4099097\ttotal: 1.11s\tremaining: 1.61s\n",
      "408:\tlearn: 0.4098497\ttotal: 1.11s\tremaining: 1.6s\n",
      "409:\tlearn: 0.4098111\ttotal: 1.11s\tremaining: 1.6s\n",
      "410:\tlearn: 0.4097264\ttotal: 1.11s\tremaining: 1.6s\n",
      "411:\tlearn: 0.4096501\ttotal: 1.12s\tremaining: 1.59s\n",
      "412:\tlearn: 0.4095766\ttotal: 1.12s\tremaining: 1.59s\n",
      "413:\tlearn: 0.4095226\ttotal: 1.12s\tremaining: 1.59s\n",
      "414:\tlearn: 0.4094870\ttotal: 1.12s\tremaining: 1.58s\n",
      "415:\tlearn: 0.4094366\ttotal: 1.13s\tremaining: 1.58s\n",
      "416:\tlearn: 0.4093738\ttotal: 1.13s\tremaining: 1.58s\n",
      "417:\tlearn: 0.4092864\ttotal: 1.13s\tremaining: 1.57s\n",
      "418:\tlearn: 0.4092554\ttotal: 1.13s\tremaining: 1.57s\n",
      "419:\tlearn: 0.4092128\ttotal: 1.14s\tremaining: 1.57s\n",
      "420:\tlearn: 0.4091838\ttotal: 1.14s\tremaining: 1.56s\n",
      "421:\tlearn: 0.4091335\ttotal: 1.14s\tremaining: 1.56s\n",
      "422:\tlearn: 0.4090947\ttotal: 1.14s\tremaining: 1.56s\n",
      "423:\tlearn: 0.4089914\ttotal: 1.14s\tremaining: 1.55s\n",
      "424:\tlearn: 0.4089843\ttotal: 1.15s\tremaining: 1.55s\n",
      "425:\tlearn: 0.4089430\ttotal: 1.15s\tremaining: 1.55s\n",
      "426:\tlearn: 0.4088586\ttotal: 1.15s\tremaining: 1.55s\n",
      "427:\tlearn: 0.4088182\ttotal: 1.15s\tremaining: 1.54s\n",
      "428:\tlearn: 0.4087397\ttotal: 1.16s\tremaining: 1.54s\n",
      "429:\tlearn: 0.4086839\ttotal: 1.16s\tremaining: 1.54s\n",
      "430:\tlearn: 0.4086463\ttotal: 1.16s\tremaining: 1.53s\n",
      "431:\tlearn: 0.4086113\ttotal: 1.16s\tremaining: 1.53s\n",
      "432:\tlearn: 0.4085381\ttotal: 1.17s\tremaining: 1.53s\n",
      "433:\tlearn: 0.4084726\ttotal: 1.17s\tremaining: 1.52s\n",
      "434:\tlearn: 0.4083888\ttotal: 1.17s\tremaining: 1.52s\n",
      "435:\tlearn: 0.4083406\ttotal: 1.17s\tremaining: 1.52s\n",
      "436:\tlearn: 0.4082589\ttotal: 1.18s\tremaining: 1.51s\n",
      "437:\tlearn: 0.4081731\ttotal: 1.18s\tremaining: 1.51s\n",
      "438:\tlearn: 0.4081519\ttotal: 1.18s\tremaining: 1.51s\n",
      "439:\tlearn: 0.4081424\ttotal: 1.18s\tremaining: 1.5s\n",
      "440:\tlearn: 0.4080732\ttotal: 1.19s\tremaining: 1.5s\n",
      "441:\tlearn: 0.4080091\ttotal: 1.19s\tremaining: 1.5s\n",
      "442:\tlearn: 0.4079858\ttotal: 1.19s\tremaining: 1.5s\n",
      "443:\tlearn: 0.4079465\ttotal: 1.19s\tremaining: 1.49s\n",
      "444:\tlearn: 0.4078825\ttotal: 1.19s\tremaining: 1.49s\n",
      "445:\tlearn: 0.4078622\ttotal: 1.2s\tremaining: 1.49s\n",
      "446:\tlearn: 0.4078239\ttotal: 1.2s\tremaining: 1.48s\n",
      "447:\tlearn: 0.4077015\ttotal: 1.2s\tremaining: 1.48s\n",
      "448:\tlearn: 0.4076077\ttotal: 1.2s\tremaining: 1.48s\n",
      "449:\tlearn: 0.4075842\ttotal: 1.21s\tremaining: 1.47s\n",
      "450:\tlearn: 0.4075729\ttotal: 1.21s\tremaining: 1.47s\n",
      "451:\tlearn: 0.4075255\ttotal: 1.21s\tremaining: 1.47s\n",
      "452:\tlearn: 0.4074892\ttotal: 1.21s\tremaining: 1.46s\n",
      "453:\tlearn: 0.4074704\ttotal: 1.21s\tremaining: 1.46s\n",
      "454:\tlearn: 0.4073958\ttotal: 1.22s\tremaining: 1.46s\n",
      "455:\tlearn: 0.4073772\ttotal: 1.22s\tremaining: 1.45s\n",
      "456:\tlearn: 0.4073499\ttotal: 1.22s\tremaining: 1.45s\n",
      "457:\tlearn: 0.4073159\ttotal: 1.22s\tremaining: 1.45s\n",
      "458:\tlearn: 0.4072433\ttotal: 1.23s\tremaining: 1.44s\n",
      "459:\tlearn: 0.4071867\ttotal: 1.23s\tremaining: 1.44s\n",
      "460:\tlearn: 0.4071160\ttotal: 1.23s\tremaining: 1.44s\n",
      "461:\tlearn: 0.4070809\ttotal: 1.23s\tremaining: 1.43s\n",
      "462:\tlearn: 0.4070355\ttotal: 1.23s\tremaining: 1.43s\n",
      "463:\tlearn: 0.4070020\ttotal: 1.24s\tremaining: 1.43s\n",
      "464:\tlearn: 0.4069428\ttotal: 1.24s\tremaining: 1.43s\n",
      "465:\tlearn: 0.4068771\ttotal: 1.24s\tremaining: 1.42s\n",
      "466:\tlearn: 0.4068530\ttotal: 1.24s\tremaining: 1.42s\n",
      "467:\tlearn: 0.4067593\ttotal: 1.25s\tremaining: 1.42s\n",
      "468:\tlearn: 0.4067307\ttotal: 1.25s\tremaining: 1.41s\n",
      "469:\tlearn: 0.4067083\ttotal: 1.25s\tremaining: 1.41s\n",
      "470:\tlearn: 0.4066617\ttotal: 1.25s\tremaining: 1.41s\n",
      "471:\tlearn: 0.4066244\ttotal: 1.25s\tremaining: 1.4s\n",
      "472:\tlearn: 0.4066101\ttotal: 1.26s\tremaining: 1.4s\n",
      "473:\tlearn: 0.4065979\ttotal: 1.26s\tremaining: 1.4s\n",
      "474:\tlearn: 0.4065767\ttotal: 1.26s\tremaining: 1.39s\n",
      "475:\tlearn: 0.4065372\ttotal: 1.26s\tremaining: 1.39s\n",
      "476:\tlearn: 0.4065042\ttotal: 1.27s\tremaining: 1.39s\n",
      "477:\tlearn: 0.4064734\ttotal: 1.27s\tremaining: 1.39s\n",
      "478:\tlearn: 0.4064465\ttotal: 1.27s\tremaining: 1.38s\n",
      "479:\tlearn: 0.4063751\ttotal: 1.27s\tremaining: 1.38s\n",
      "480:\tlearn: 0.4063632\ttotal: 1.28s\tremaining: 1.38s\n",
      "481:\tlearn: 0.4063041\ttotal: 1.28s\tremaining: 1.37s\n",
      "482:\tlearn: 0.4062668\ttotal: 1.28s\tremaining: 1.37s\n",
      "483:\tlearn: 0.4061936\ttotal: 1.28s\tremaining: 1.37s\n",
      "484:\tlearn: 0.4061425\ttotal: 1.28s\tremaining: 1.36s\n",
      "485:\tlearn: 0.4061204\ttotal: 1.29s\tremaining: 1.36s\n",
      "486:\tlearn: 0.4060600\ttotal: 1.29s\tremaining: 1.36s\n",
      "487:\tlearn: 0.4060098\ttotal: 1.29s\tremaining: 1.36s\n",
      "488:\tlearn: 0.4059577\ttotal: 1.29s\tremaining: 1.35s\n",
      "489:\tlearn: 0.4059406\ttotal: 1.3s\tremaining: 1.35s\n",
      "490:\tlearn: 0.4059125\ttotal: 1.3s\tremaining: 1.35s\n",
      "491:\tlearn: 0.4058730\ttotal: 1.3s\tremaining: 1.34s\n",
      "492:\tlearn: 0.4058232\ttotal: 1.3s\tremaining: 1.34s\n",
      "493:\tlearn: 0.4057633\ttotal: 1.31s\tremaining: 1.34s\n",
      "494:\tlearn: 0.4057359\ttotal: 1.31s\tremaining: 1.33s\n",
      "495:\tlearn: 0.4056857\ttotal: 1.31s\tremaining: 1.33s\n",
      "496:\tlearn: 0.4056186\ttotal: 1.31s\tremaining: 1.33s\n",
      "497:\tlearn: 0.4055762\ttotal: 1.31s\tremaining: 1.33s\n",
      "498:\tlearn: 0.4055415\ttotal: 1.32s\tremaining: 1.32s\n",
      "499:\tlearn: 0.4054636\ttotal: 1.32s\tremaining: 1.32s\n",
      "500:\tlearn: 0.4053860\ttotal: 1.32s\tremaining: 1.32s\n",
      "501:\tlearn: 0.4053720\ttotal: 1.32s\tremaining: 1.31s\n",
      "502:\tlearn: 0.4053663\ttotal: 1.33s\tremaining: 1.31s\n",
      "503:\tlearn: 0.4053317\ttotal: 1.33s\tremaining: 1.31s\n",
      "504:\tlearn: 0.4053101\ttotal: 1.33s\tremaining: 1.3s\n",
      "505:\tlearn: 0.4052917\ttotal: 1.33s\tremaining: 1.3s\n",
      "506:\tlearn: 0.4052515\ttotal: 1.33s\tremaining: 1.3s\n",
      "507:\tlearn: 0.4052020\ttotal: 1.34s\tremaining: 1.29s\n",
      "508:\tlearn: 0.4051541\ttotal: 1.34s\tremaining: 1.29s\n",
      "509:\tlearn: 0.4051240\ttotal: 1.34s\tremaining: 1.29s\n",
      "510:\tlearn: 0.4050731\ttotal: 1.34s\tremaining: 1.29s\n",
      "511:\tlearn: 0.4050432\ttotal: 1.35s\tremaining: 1.28s\n",
      "512:\tlearn: 0.4050095\ttotal: 1.35s\tremaining: 1.28s\n",
      "513:\tlearn: 0.4049690\ttotal: 1.35s\tremaining: 1.28s\n",
      "514:\tlearn: 0.4049086\ttotal: 1.35s\tremaining: 1.27s\n",
      "515:\tlearn: 0.4048867\ttotal: 1.36s\tremaining: 1.27s\n",
      "516:\tlearn: 0.4048406\ttotal: 1.36s\tremaining: 1.27s\n",
      "517:\tlearn: 0.4047707\ttotal: 1.36s\tremaining: 1.26s\n",
      "518:\tlearn: 0.4047457\ttotal: 1.36s\tremaining: 1.26s\n",
      "519:\tlearn: 0.4047196\ttotal: 1.36s\tremaining: 1.26s\n",
      "520:\tlearn: 0.4046961\ttotal: 1.37s\tremaining: 1.26s\n",
      "521:\tlearn: 0.4046709\ttotal: 1.37s\tremaining: 1.25s\n",
      "522:\tlearn: 0.4046326\ttotal: 1.37s\tremaining: 1.25s\n",
      "523:\tlearn: 0.4045900\ttotal: 1.37s\tremaining: 1.25s\n",
      "524:\tlearn: 0.4045532\ttotal: 1.38s\tremaining: 1.25s\n",
      "525:\tlearn: 0.4045299\ttotal: 1.38s\tremaining: 1.24s\n",
      "526:\tlearn: 0.4044992\ttotal: 1.38s\tremaining: 1.24s\n",
      "527:\tlearn: 0.4044640\ttotal: 1.38s\tremaining: 1.24s\n",
      "528:\tlearn: 0.4044577\ttotal: 1.38s\tremaining: 1.23s\n",
      "529:\tlearn: 0.4044249\ttotal: 1.39s\tremaining: 1.23s\n",
      "530:\tlearn: 0.4043985\ttotal: 1.39s\tremaining: 1.23s\n",
      "531:\tlearn: 0.4043742\ttotal: 1.39s\tremaining: 1.22s\n",
      "532:\tlearn: 0.4043465\ttotal: 1.39s\tremaining: 1.22s\n",
      "533:\tlearn: 0.4042928\ttotal: 1.4s\tremaining: 1.22s\n",
      "534:\tlearn: 0.4042377\ttotal: 1.4s\tremaining: 1.22s\n",
      "535:\tlearn: 0.4042055\ttotal: 1.4s\tremaining: 1.21s\n",
      "536:\tlearn: 0.4041570\ttotal: 1.4s\tremaining: 1.21s\n",
      "537:\tlearn: 0.4041315\ttotal: 1.4s\tremaining: 1.21s\n",
      "538:\tlearn: 0.4040871\ttotal: 1.41s\tremaining: 1.2s\n",
      "539:\tlearn: 0.4040454\ttotal: 1.41s\tremaining: 1.2s\n",
      "540:\tlearn: 0.4039958\ttotal: 1.41s\tremaining: 1.2s\n",
      "541:\tlearn: 0.4039331\ttotal: 1.41s\tremaining: 1.19s\n",
      "542:\tlearn: 0.4038904\ttotal: 1.42s\tremaining: 1.19s\n",
      "543:\tlearn: 0.4038711\ttotal: 1.42s\tremaining: 1.19s\n",
      "544:\tlearn: 0.4038438\ttotal: 1.42s\tremaining: 1.19s\n",
      "545:\tlearn: 0.4037997\ttotal: 1.42s\tremaining: 1.18s\n",
      "546:\tlearn: 0.4037783\ttotal: 1.43s\tremaining: 1.18s\n",
      "547:\tlearn: 0.4037415\ttotal: 1.43s\tremaining: 1.18s\n",
      "548:\tlearn: 0.4037094\ttotal: 1.43s\tremaining: 1.17s\n",
      "549:\tlearn: 0.4036717\ttotal: 1.43s\tremaining: 1.17s\n",
      "550:\tlearn: 0.4036484\ttotal: 1.43s\tremaining: 1.17s\n",
      "551:\tlearn: 0.4036379\ttotal: 1.44s\tremaining: 1.17s\n",
      "552:\tlearn: 0.4036119\ttotal: 1.44s\tremaining: 1.16s\n",
      "553:\tlearn: 0.4035961\ttotal: 1.44s\tremaining: 1.16s\n",
      "554:\tlearn: 0.4035376\ttotal: 1.44s\tremaining: 1.16s\n",
      "555:\tlearn: 0.4035165\ttotal: 1.45s\tremaining: 1.16s\n",
      "556:\tlearn: 0.4035117\ttotal: 1.45s\tremaining: 1.15s\n",
      "557:\tlearn: 0.4034761\ttotal: 1.45s\tremaining: 1.15s\n",
      "558:\tlearn: 0.4034567\ttotal: 1.45s\tremaining: 1.15s\n",
      "559:\tlearn: 0.4034406\ttotal: 1.46s\tremaining: 1.15s\n",
      "560:\tlearn: 0.4034036\ttotal: 1.46s\tremaining: 1.14s\n",
      "561:\tlearn: 0.4033649\ttotal: 1.46s\tremaining: 1.14s\n",
      "562:\tlearn: 0.4033388\ttotal: 1.46s\tremaining: 1.14s\n",
      "563:\tlearn: 0.4033076\ttotal: 1.47s\tremaining: 1.13s\n",
      "564:\tlearn: 0.4032755\ttotal: 1.47s\tremaining: 1.13s\n",
      "565:\tlearn: 0.4032551\ttotal: 1.47s\tremaining: 1.13s\n",
      "566:\tlearn: 0.4032181\ttotal: 1.47s\tremaining: 1.13s\n",
      "567:\tlearn: 0.4031786\ttotal: 1.48s\tremaining: 1.12s\n",
      "568:\tlearn: 0.4031582\ttotal: 1.48s\tremaining: 1.12s\n",
      "569:\tlearn: 0.4031458\ttotal: 1.48s\tremaining: 1.12s\n",
      "570:\tlearn: 0.4031135\ttotal: 1.48s\tremaining: 1.11s\n",
      "571:\tlearn: 0.4030811\ttotal: 1.49s\tremaining: 1.11s\n",
      "572:\tlearn: 0.4030439\ttotal: 1.49s\tremaining: 1.11s\n",
      "573:\tlearn: 0.4030150\ttotal: 1.49s\tremaining: 1.1s\n",
      "574:\tlearn: 0.4029912\ttotal: 1.49s\tremaining: 1.1s\n",
      "575:\tlearn: 0.4029483\ttotal: 1.49s\tremaining: 1.1s\n",
      "576:\tlearn: 0.4028902\ttotal: 1.5s\tremaining: 1.1s\n",
      "577:\tlearn: 0.4028706\ttotal: 1.5s\tremaining: 1.09s\n",
      "578:\tlearn: 0.4028451\ttotal: 1.5s\tremaining: 1.09s\n",
      "579:\tlearn: 0.4028372\ttotal: 1.5s\tremaining: 1.09s\n",
      "580:\tlearn: 0.4028152\ttotal: 1.5s\tremaining: 1.08s\n",
      "581:\tlearn: 0.4027777\ttotal: 1.51s\tremaining: 1.08s\n",
      "582:\tlearn: 0.4027648\ttotal: 1.51s\tremaining: 1.08s\n",
      "583:\tlearn: 0.4027570\ttotal: 1.51s\tremaining: 1.08s\n",
      "584:\tlearn: 0.4027365\ttotal: 1.51s\tremaining: 1.07s\n",
      "585:\tlearn: 0.4027047\ttotal: 1.52s\tremaining: 1.07s\n",
      "586:\tlearn: 0.4026765\ttotal: 1.52s\tremaining: 1.07s\n",
      "587:\tlearn: 0.4026493\ttotal: 1.52s\tremaining: 1.07s\n",
      "588:\tlearn: 0.4026119\ttotal: 1.52s\tremaining: 1.06s\n",
      "589:\tlearn: 0.4026030\ttotal: 1.52s\tremaining: 1.06s\n",
      "590:\tlearn: 0.4025918\ttotal: 1.53s\tremaining: 1.06s\n",
      "591:\tlearn: 0.4025603\ttotal: 1.53s\tremaining: 1.05s\n",
      "592:\tlearn: 0.4025325\ttotal: 1.53s\tremaining: 1.05s\n",
      "593:\tlearn: 0.4025197\ttotal: 1.53s\tremaining: 1.05s\n",
      "594:\tlearn: 0.4024820\ttotal: 1.54s\tremaining: 1.05s\n",
      "595:\tlearn: 0.4024693\ttotal: 1.54s\tremaining: 1.04s\n",
      "596:\tlearn: 0.4024456\ttotal: 1.54s\tremaining: 1.04s\n",
      "597:\tlearn: 0.4023926\ttotal: 1.54s\tremaining: 1.04s\n",
      "598:\tlearn: 0.4023589\ttotal: 1.54s\tremaining: 1.03s\n",
      "599:\tlearn: 0.4023081\ttotal: 1.55s\tremaining: 1.03s\n",
      "600:\tlearn: 0.4022915\ttotal: 1.55s\tremaining: 1.03s\n",
      "601:\tlearn: 0.4022641\ttotal: 1.55s\tremaining: 1.03s\n",
      "602:\tlearn: 0.4022274\ttotal: 1.55s\tremaining: 1.02s\n",
      "603:\tlearn: 0.4022103\ttotal: 1.56s\tremaining: 1.02s\n",
      "604:\tlearn: 0.4021652\ttotal: 1.56s\tremaining: 1.02s\n",
      "605:\tlearn: 0.4021418\ttotal: 1.56s\tremaining: 1.01s\n",
      "606:\tlearn: 0.4021204\ttotal: 1.56s\tremaining: 1.01s\n",
      "607:\tlearn: 0.4021099\ttotal: 1.57s\tremaining: 1.01s\n",
      "608:\tlearn: 0.4020481\ttotal: 1.57s\tremaining: 1.01s\n",
      "609:\tlearn: 0.4020255\ttotal: 1.57s\tremaining: 1s\n",
      "610:\tlearn: 0.4020138\ttotal: 1.57s\tremaining: 1s\n",
      "611:\tlearn: 0.4020086\ttotal: 1.57s\tremaining: 999ms\n",
      "612:\tlearn: 0.4019943\ttotal: 1.58s\tremaining: 996ms\n",
      "613:\tlearn: 0.4019651\ttotal: 1.58s\tremaining: 993ms\n",
      "614:\tlearn: 0.4019326\ttotal: 1.58s\tremaining: 990ms\n",
      "615:\tlearn: 0.4018539\ttotal: 1.58s\tremaining: 987ms\n",
      "616:\tlearn: 0.4018222\ttotal: 1.59s\tremaining: 985ms\n",
      "617:\tlearn: 0.4018093\ttotal: 1.59s\tremaining: 982ms\n",
      "618:\tlearn: 0.4017929\ttotal: 1.59s\tremaining: 979ms\n",
      "619:\tlearn: 0.4017423\ttotal: 1.59s\tremaining: 976ms\n",
      "620:\tlearn: 0.4017283\ttotal: 1.59s\tremaining: 974ms\n",
      "621:\tlearn: 0.4016812\ttotal: 1.6s\tremaining: 971ms\n",
      "622:\tlearn: 0.4016524\ttotal: 1.6s\tremaining: 968ms\n",
      "623:\tlearn: 0.4016309\ttotal: 1.6s\tremaining: 965ms\n",
      "624:\tlearn: 0.4015502\ttotal: 1.6s\tremaining: 963ms\n",
      "625:\tlearn: 0.4015144\ttotal: 1.61s\tremaining: 960ms\n",
      "626:\tlearn: 0.4014908\ttotal: 1.61s\tremaining: 957ms\n",
      "627:\tlearn: 0.4014642\ttotal: 1.61s\tremaining: 954ms\n",
      "628:\tlearn: 0.4014423\ttotal: 1.61s\tremaining: 952ms\n",
      "629:\tlearn: 0.4014283\ttotal: 1.61s\tremaining: 949ms\n",
      "630:\tlearn: 0.4013949\ttotal: 1.62s\tremaining: 946ms\n"
     ]
    },
    {
     "name": "stdout",
     "output_type": "stream",
     "text": [
      "631:\tlearn: 0.4013648\ttotal: 1.62s\tremaining: 944ms\n",
      "632:\tlearn: 0.4013553\ttotal: 1.62s\tremaining: 941ms\n",
      "633:\tlearn: 0.4013108\ttotal: 1.63s\tremaining: 939ms\n",
      "634:\tlearn: 0.4013016\ttotal: 1.63s\tremaining: 936ms\n",
      "635:\tlearn: 0.4012934\ttotal: 1.63s\tremaining: 934ms\n",
      "636:\tlearn: 0.4012661\ttotal: 1.63s\tremaining: 931ms\n",
      "637:\tlearn: 0.4012345\ttotal: 1.64s\tremaining: 929ms\n",
      "638:\tlearn: 0.4011997\ttotal: 1.64s\tremaining: 926ms\n",
      "639:\tlearn: 0.4011847\ttotal: 1.64s\tremaining: 923ms\n",
      "640:\tlearn: 0.4011762\ttotal: 1.64s\tremaining: 920ms\n",
      "641:\tlearn: 0.4011771\ttotal: 1.65s\tremaining: 918ms\n",
      "642:\tlearn: 0.4011762\ttotal: 1.65s\tremaining: 915ms\n",
      "643:\tlearn: 0.4011632\ttotal: 1.65s\tremaining: 912ms\n",
      "644:\tlearn: 0.4011356\ttotal: 1.65s\tremaining: 909ms\n",
      "645:\tlearn: 0.4011261\ttotal: 1.65s\tremaining: 907ms\n",
      "646:\tlearn: 0.4011082\ttotal: 1.66s\tremaining: 904ms\n",
      "647:\tlearn: 0.4010943\ttotal: 1.66s\tremaining: 901ms\n",
      "648:\tlearn: 0.4010600\ttotal: 1.66s\tremaining: 898ms\n",
      "649:\tlearn: 0.4010361\ttotal: 1.66s\tremaining: 896ms\n",
      "650:\tlearn: 0.4010341\ttotal: 1.67s\tremaining: 893ms\n",
      "651:\tlearn: 0.4009810\ttotal: 1.67s\tremaining: 890ms\n",
      "652:\tlearn: 0.4009536\ttotal: 1.67s\tremaining: 888ms\n",
      "653:\tlearn: 0.4009229\ttotal: 1.67s\tremaining: 885ms\n",
      "654:\tlearn: 0.4009170\ttotal: 1.67s\tremaining: 882ms\n",
      "655:\tlearn: 0.4009031\ttotal: 1.68s\tremaining: 879ms\n",
      "656:\tlearn: 0.4009010\ttotal: 1.68s\tremaining: 877ms\n",
      "657:\tlearn: 0.4008744\ttotal: 1.68s\tremaining: 874ms\n",
      "658:\tlearn: 0.4008415\ttotal: 1.68s\tremaining: 872ms\n",
      "659:\tlearn: 0.4008148\ttotal: 1.69s\tremaining: 869ms\n",
      "660:\tlearn: 0.4007997\ttotal: 1.69s\tremaining: 866ms\n",
      "661:\tlearn: 0.4007595\ttotal: 1.69s\tremaining: 863ms\n",
      "662:\tlearn: 0.4007381\ttotal: 1.69s\tremaining: 861ms\n",
      "663:\tlearn: 0.4007280\ttotal: 1.7s\tremaining: 858ms\n",
      "664:\tlearn: 0.4007210\ttotal: 1.7s\tremaining: 855ms\n",
      "665:\tlearn: 0.4007162\ttotal: 1.7s\tremaining: 853ms\n",
      "666:\tlearn: 0.4006827\ttotal: 1.7s\tremaining: 850ms\n",
      "667:\tlearn: 0.4006775\ttotal: 1.7s\tremaining: 847ms\n",
      "668:\tlearn: 0.4006460\ttotal: 1.71s\tremaining: 844ms\n",
      "669:\tlearn: 0.4006283\ttotal: 1.71s\tremaining: 842ms\n",
      "670:\tlearn: 0.4005975\ttotal: 1.71s\tremaining: 839ms\n",
      "671:\tlearn: 0.4005895\ttotal: 1.71s\tremaining: 836ms\n",
      "672:\tlearn: 0.4005854\ttotal: 1.72s\tremaining: 834ms\n",
      "673:\tlearn: 0.4005236\ttotal: 1.72s\tremaining: 831ms\n",
      "674:\tlearn: 0.4004992\ttotal: 1.72s\tremaining: 828ms\n",
      "675:\tlearn: 0.4004665\ttotal: 1.72s\tremaining: 825ms\n",
      "676:\tlearn: 0.4004611\ttotal: 1.72s\tremaining: 823ms\n",
      "677:\tlearn: 0.4004108\ttotal: 1.73s\tremaining: 820ms\n",
      "678:\tlearn: 0.4003622\ttotal: 1.73s\tremaining: 817ms\n",
      "679:\tlearn: 0.4003140\ttotal: 1.73s\tremaining: 815ms\n",
      "680:\tlearn: 0.4002605\ttotal: 1.73s\tremaining: 812ms\n",
      "681:\tlearn: 0.4002216\ttotal: 1.74s\tremaining: 809ms\n",
      "682:\tlearn: 0.4002142\ttotal: 1.74s\tremaining: 807ms\n",
      "683:\tlearn: 0.4001756\ttotal: 1.74s\tremaining: 804ms\n",
      "684:\tlearn: 0.4001725\ttotal: 1.74s\tremaining: 801ms\n",
      "685:\tlearn: 0.4001584\ttotal: 1.74s\tremaining: 799ms\n",
      "686:\tlearn: 0.4001329\ttotal: 1.75s\tremaining: 796ms\n",
      "687:\tlearn: 0.4001177\ttotal: 1.75s\tremaining: 793ms\n",
      "688:\tlearn: 0.4001049\ttotal: 1.75s\tremaining: 791ms\n",
      "689:\tlearn: 0.4000795\ttotal: 1.75s\tremaining: 788ms\n",
      "690:\tlearn: 0.4000759\ttotal: 1.75s\tremaining: 785ms\n",
      "691:\tlearn: 0.4000441\ttotal: 1.76s\tremaining: 782ms\n",
      "692:\tlearn: 0.4000178\ttotal: 1.76s\tremaining: 780ms\n",
      "693:\tlearn: 0.3999850\ttotal: 1.76s\tremaining: 777ms\n",
      "694:\tlearn: 0.3999453\ttotal: 1.76s\tremaining: 774ms\n",
      "695:\tlearn: 0.3999134\ttotal: 1.77s\tremaining: 772ms\n",
      "696:\tlearn: 0.3999001\ttotal: 1.77s\tremaining: 769ms\n",
      "697:\tlearn: 0.3998703\ttotal: 1.77s\tremaining: 766ms\n",
      "698:\tlearn: 0.3998671\ttotal: 1.77s\tremaining: 764ms\n",
      "699:\tlearn: 0.3998508\ttotal: 1.77s\tremaining: 761ms\n",
      "700:\tlearn: 0.3998359\ttotal: 1.78s\tremaining: 758ms\n",
      "701:\tlearn: 0.3997981\ttotal: 1.78s\tremaining: 756ms\n",
      "702:\tlearn: 0.3997552\ttotal: 1.78s\tremaining: 753ms\n",
      "703:\tlearn: 0.3997532\ttotal: 1.78s\tremaining: 750ms\n",
      "704:\tlearn: 0.3997267\ttotal: 1.79s\tremaining: 748ms\n",
      "705:\tlearn: 0.3997098\ttotal: 1.79s\tremaining: 745ms\n",
      "706:\tlearn: 0.3996738\ttotal: 1.79s\tremaining: 742ms\n",
      "707:\tlearn: 0.3996584\ttotal: 1.79s\tremaining: 740ms\n",
      "708:\tlearn: 0.3996516\ttotal: 1.79s\tremaining: 737ms\n",
      "709:\tlearn: 0.3996171\ttotal: 1.8s\tremaining: 735ms\n",
      "710:\tlearn: 0.3996034\ttotal: 1.8s\tremaining: 732ms\n",
      "711:\tlearn: 0.3995886\ttotal: 1.8s\tremaining: 730ms\n",
      "712:\tlearn: 0.3995854\ttotal: 1.81s\tremaining: 727ms\n",
      "713:\tlearn: 0.3995685\ttotal: 1.81s\tremaining: 725ms\n",
      "714:\tlearn: 0.3995392\ttotal: 1.81s\tremaining: 722ms\n",
      "715:\tlearn: 0.3995200\ttotal: 1.81s\tremaining: 719ms\n",
      "716:\tlearn: 0.3994922\ttotal: 1.81s\tremaining: 717ms\n",
      "717:\tlearn: 0.3994768\ttotal: 1.82s\tremaining: 714ms\n",
      "718:\tlearn: 0.3994671\ttotal: 1.82s\tremaining: 711ms\n",
      "719:\tlearn: 0.3994609\ttotal: 1.82s\tremaining: 709ms\n",
      "720:\tlearn: 0.3994512\ttotal: 1.82s\tremaining: 706ms\n",
      "721:\tlearn: 0.3994413\ttotal: 1.83s\tremaining: 703ms\n",
      "722:\tlearn: 0.3993580\ttotal: 1.83s\tremaining: 701ms\n",
      "723:\tlearn: 0.3993315\ttotal: 1.83s\tremaining: 698ms\n",
      "724:\tlearn: 0.3992953\ttotal: 1.83s\tremaining: 696ms\n",
      "725:\tlearn: 0.3992859\ttotal: 1.83s\tremaining: 693ms\n",
      "726:\tlearn: 0.3992517\ttotal: 1.84s\tremaining: 690ms\n",
      "727:\tlearn: 0.3992084\ttotal: 1.84s\tremaining: 688ms\n",
      "728:\tlearn: 0.3991757\ttotal: 1.84s\tremaining: 685ms\n",
      "729:\tlearn: 0.3991543\ttotal: 1.84s\tremaining: 682ms\n",
      "730:\tlearn: 0.3991366\ttotal: 1.85s\tremaining: 680ms\n",
      "731:\tlearn: 0.3990674\ttotal: 1.85s\tremaining: 677ms\n",
      "732:\tlearn: 0.3990233\ttotal: 1.85s\tremaining: 674ms\n",
      "733:\tlearn: 0.3990078\ttotal: 1.85s\tremaining: 672ms\n",
      "734:\tlearn: 0.3989873\ttotal: 1.86s\tremaining: 669ms\n",
      "735:\tlearn: 0.3989697\ttotal: 1.86s\tremaining: 667ms\n",
      "736:\tlearn: 0.3989616\ttotal: 1.86s\tremaining: 664ms\n",
      "737:\tlearn: 0.3989008\ttotal: 1.86s\tremaining: 661ms\n",
      "738:\tlearn: 0.3988687\ttotal: 1.86s\tremaining: 659ms\n",
      "739:\tlearn: 0.3988608\ttotal: 1.87s\tremaining: 656ms\n",
      "740:\tlearn: 0.3988455\ttotal: 1.87s\tremaining: 653ms\n",
      "741:\tlearn: 0.3988212\ttotal: 1.87s\tremaining: 651ms\n",
      "742:\tlearn: 0.3987962\ttotal: 1.87s\tremaining: 648ms\n",
      "743:\tlearn: 0.3987560\ttotal: 1.88s\tremaining: 646ms\n",
      "744:\tlearn: 0.3987319\ttotal: 1.88s\tremaining: 643ms\n",
      "745:\tlearn: 0.3987304\ttotal: 1.88s\tremaining: 640ms\n",
      "746:\tlearn: 0.3987195\ttotal: 1.88s\tremaining: 638ms\n",
      "747:\tlearn: 0.3986965\ttotal: 1.88s\tremaining: 635ms\n",
      "748:\tlearn: 0.3986546\ttotal: 1.89s\tremaining: 632ms\n",
      "749:\tlearn: 0.3986382\ttotal: 1.89s\tremaining: 630ms\n",
      "750:\tlearn: 0.3986249\ttotal: 1.89s\tremaining: 627ms\n",
      "751:\tlearn: 0.3986054\ttotal: 1.89s\tremaining: 625ms\n",
      "752:\tlearn: 0.3985741\ttotal: 1.9s\tremaining: 622ms\n",
      "753:\tlearn: 0.3985584\ttotal: 1.9s\tremaining: 619ms\n",
      "754:\tlearn: 0.3985478\ttotal: 1.9s\tremaining: 617ms\n",
      "755:\tlearn: 0.3984856\ttotal: 1.9s\tremaining: 614ms\n",
      "756:\tlearn: 0.3984724\ttotal: 1.91s\tremaining: 612ms\n",
      "757:\tlearn: 0.3984503\ttotal: 1.91s\tremaining: 609ms\n",
      "758:\tlearn: 0.3984448\ttotal: 1.91s\tremaining: 606ms\n",
      "759:\tlearn: 0.3984255\ttotal: 1.91s\tremaining: 604ms\n",
      "760:\tlearn: 0.3983679\ttotal: 1.91s\tremaining: 601ms\n",
      "761:\tlearn: 0.3983414\ttotal: 1.92s\tremaining: 599ms\n",
      "762:\tlearn: 0.3983400\ttotal: 1.92s\tremaining: 596ms\n",
      "763:\tlearn: 0.3983215\ttotal: 1.92s\tremaining: 593ms\n",
      "764:\tlearn: 0.3983048\ttotal: 1.92s\tremaining: 591ms\n",
      "765:\tlearn: 0.3982650\ttotal: 1.93s\tremaining: 588ms\n",
      "766:\tlearn: 0.3982662\ttotal: 1.93s\tremaining: 585ms\n",
      "767:\tlearn: 0.3982422\ttotal: 1.93s\tremaining: 583ms\n",
      "768:\tlearn: 0.3982177\ttotal: 1.93s\tremaining: 580ms\n",
      "769:\tlearn: 0.3982189\ttotal: 1.93s\tremaining: 577ms\n",
      "770:\tlearn: 0.3982059\ttotal: 1.93s\tremaining: 575ms\n",
      "771:\tlearn: 0.3981909\ttotal: 1.94s\tremaining: 572ms\n",
      "772:\tlearn: 0.3981902\ttotal: 1.94s\tremaining: 569ms\n",
      "773:\tlearn: 0.3981885\ttotal: 1.94s\tremaining: 567ms\n",
      "774:\tlearn: 0.3981685\ttotal: 1.94s\tremaining: 564ms\n",
      "775:\tlearn: 0.3981679\ttotal: 1.95s\tremaining: 561ms\n",
      "776:\tlearn: 0.3981588\ttotal: 1.95s\tremaining: 559ms\n",
      "777:\tlearn: 0.3981609\ttotal: 1.95s\tremaining: 556ms\n",
      "778:\tlearn: 0.3981528\ttotal: 1.95s\tremaining: 554ms\n",
      "779:\tlearn: 0.3981441\ttotal: 1.95s\tremaining: 551ms\n",
      "780:\tlearn: 0.3981123\ttotal: 1.96s\tremaining: 549ms\n",
      "781:\tlearn: 0.3980821\ttotal: 1.96s\tremaining: 546ms\n",
      "782:\tlearn: 0.3980583\ttotal: 1.96s\tremaining: 543ms\n",
      "783:\tlearn: 0.3980279\ttotal: 1.96s\tremaining: 541ms\n",
      "784:\tlearn: 0.3980007\ttotal: 1.97s\tremaining: 538ms\n",
      "785:\tlearn: 0.3979403\ttotal: 1.97s\tremaining: 536ms\n",
      "786:\tlearn: 0.3979082\ttotal: 1.97s\tremaining: 533ms\n",
      "787:\tlearn: 0.3978926\ttotal: 1.97s\tremaining: 530ms\n",
      "788:\tlearn: 0.3978871\ttotal: 1.97s\tremaining: 528ms\n"
     ]
    },
    {
     "name": "stdout",
     "output_type": "stream",
     "text": [
      "789:\tlearn: 0.3978699\ttotal: 1.98s\tremaining: 525ms\n",
      "790:\tlearn: 0.3978421\ttotal: 1.98s\tremaining: 523ms\n",
      "791:\tlearn: 0.3978245\ttotal: 1.98s\tremaining: 520ms\n",
      "792:\tlearn: 0.3977823\ttotal: 1.98s\tremaining: 518ms\n",
      "793:\tlearn: 0.3977728\ttotal: 1.99s\tremaining: 515ms\n",
      "794:\tlearn: 0.3977480\ttotal: 1.99s\tremaining: 513ms\n",
      "795:\tlearn: 0.3977355\ttotal: 1.99s\tremaining: 511ms\n",
      "796:\tlearn: 0.3977334\ttotal: 1.99s\tremaining: 508ms\n",
      "797:\tlearn: 0.3977136\ttotal: 2s\tremaining: 505ms\n",
      "798:\tlearn: 0.3976938\ttotal: 2s\tremaining: 503ms\n",
      "799:\tlearn: 0.3976718\ttotal: 2s\tremaining: 500ms\n",
      "800:\tlearn: 0.3976607\ttotal: 2s\tremaining: 498ms\n",
      "801:\tlearn: 0.3976400\ttotal: 2s\tremaining: 495ms\n",
      "802:\tlearn: 0.3975977\ttotal: 2.01s\tremaining: 493ms\n",
      "803:\tlearn: 0.3975863\ttotal: 2.01s\tremaining: 490ms\n",
      "804:\tlearn: 0.3975583\ttotal: 2.01s\tremaining: 487ms\n",
      "805:\tlearn: 0.3975523\ttotal: 2.01s\tremaining: 485ms\n",
      "806:\tlearn: 0.3975424\ttotal: 2.02s\tremaining: 482ms\n",
      "807:\tlearn: 0.3975175\ttotal: 2.02s\tremaining: 480ms\n",
      "808:\tlearn: 0.3975003\ttotal: 2.02s\tremaining: 477ms\n",
      "809:\tlearn: 0.3974899\ttotal: 2.02s\tremaining: 475ms\n",
      "810:\tlearn: 0.3974610\ttotal: 2.02s\tremaining: 472ms\n",
      "811:\tlearn: 0.3974605\ttotal: 2.03s\tremaining: 469ms\n",
      "812:\tlearn: 0.3974391\ttotal: 2.03s\tremaining: 467ms\n",
      "813:\tlearn: 0.3974181\ttotal: 2.03s\tremaining: 464ms\n",
      "814:\tlearn: 0.3974098\ttotal: 2.03s\tremaining: 462ms\n",
      "815:\tlearn: 0.3974042\ttotal: 2.04s\tremaining: 459ms\n",
      "816:\tlearn: 0.3973990\ttotal: 2.04s\tremaining: 457ms\n",
      "817:\tlearn: 0.3973822\ttotal: 2.04s\tremaining: 454ms\n",
      "818:\tlearn: 0.3973743\ttotal: 2.04s\tremaining: 452ms\n",
      "819:\tlearn: 0.3973624\ttotal: 2.04s\tremaining: 449ms\n",
      "820:\tlearn: 0.3973504\ttotal: 2.05s\tremaining: 446ms\n",
      "821:\tlearn: 0.3973278\ttotal: 2.05s\tremaining: 444ms\n",
      "822:\tlearn: 0.3973138\ttotal: 2.05s\tremaining: 441ms\n",
      "823:\tlearn: 0.3972948\ttotal: 2.05s\tremaining: 439ms\n",
      "824:\tlearn: 0.3972841\ttotal: 2.06s\tremaining: 436ms\n",
      "825:\tlearn: 0.3972495\ttotal: 2.06s\tremaining: 434ms\n",
      "826:\tlearn: 0.3972325\ttotal: 2.06s\tremaining: 431ms\n",
      "827:\tlearn: 0.3971939\ttotal: 2.06s\tremaining: 429ms\n",
      "828:\tlearn: 0.3971825\ttotal: 2.06s\tremaining: 426ms\n",
      "829:\tlearn: 0.3971751\ttotal: 2.07s\tremaining: 424ms\n",
      "830:\tlearn: 0.3971545\ttotal: 2.07s\tremaining: 421ms\n",
      "831:\tlearn: 0.3971273\ttotal: 2.07s\tremaining: 418ms\n",
      "832:\tlearn: 0.3971267\ttotal: 2.07s\tremaining: 416ms\n",
      "833:\tlearn: 0.3970861\ttotal: 2.08s\tremaining: 413ms\n",
      "834:\tlearn: 0.3970625\ttotal: 2.08s\tremaining: 411ms\n",
      "835:\tlearn: 0.3970317\ttotal: 2.08s\tremaining: 408ms\n",
      "836:\tlearn: 0.3970256\ttotal: 2.08s\tremaining: 406ms\n",
      "837:\tlearn: 0.3970090\ttotal: 2.08s\tremaining: 403ms\n",
      "838:\tlearn: 0.3970072\ttotal: 2.09s\tremaining: 401ms\n",
      "839:\tlearn: 0.3970022\ttotal: 2.09s\tremaining: 398ms\n",
      "840:\tlearn: 0.3969907\ttotal: 2.09s\tremaining: 396ms\n",
      "841:\tlearn: 0.3969745\ttotal: 2.09s\tremaining: 393ms\n",
      "842:\tlearn: 0.3969569\ttotal: 2.1s\tremaining: 390ms\n",
      "843:\tlearn: 0.3969543\ttotal: 2.1s\tremaining: 388ms\n",
      "844:\tlearn: 0.3969421\ttotal: 2.1s\tremaining: 385ms\n",
      "845:\tlearn: 0.3969368\ttotal: 2.1s\tremaining: 383ms\n",
      "846:\tlearn: 0.3969196\ttotal: 2.1s\tremaining: 380ms\n",
      "847:\tlearn: 0.3968517\ttotal: 2.11s\tremaining: 378ms\n",
      "848:\tlearn: 0.3968503\ttotal: 2.11s\tremaining: 375ms\n",
      "849:\tlearn: 0.3968338\ttotal: 2.11s\tremaining: 373ms\n",
      "850:\tlearn: 0.3968030\ttotal: 2.11s\tremaining: 370ms\n",
      "851:\tlearn: 0.3967863\ttotal: 2.12s\tremaining: 368ms\n",
      "852:\tlearn: 0.3967493\ttotal: 2.12s\tremaining: 365ms\n",
      "853:\tlearn: 0.3967389\ttotal: 2.12s\tremaining: 363ms\n",
      "854:\tlearn: 0.3967223\ttotal: 2.12s\tremaining: 360ms\n",
      "855:\tlearn: 0.3966941\ttotal: 2.13s\tremaining: 358ms\n",
      "856:\tlearn: 0.3966540\ttotal: 2.13s\tremaining: 355ms\n",
      "857:\tlearn: 0.3966012\ttotal: 2.13s\tremaining: 353ms\n",
      "858:\tlearn: 0.3965416\ttotal: 2.13s\tremaining: 350ms\n",
      "859:\tlearn: 0.3965198\ttotal: 2.13s\tremaining: 348ms\n",
      "860:\tlearn: 0.3965166\ttotal: 2.14s\tremaining: 345ms\n",
      "861:\tlearn: 0.3965097\ttotal: 2.14s\tremaining: 342ms\n",
      "862:\tlearn: 0.3965006\ttotal: 2.14s\tremaining: 340ms\n",
      "863:\tlearn: 0.3964773\ttotal: 2.14s\tremaining: 337ms\n",
      "864:\tlearn: 0.3964507\ttotal: 2.15s\tremaining: 335ms\n",
      "865:\tlearn: 0.3964236\ttotal: 2.15s\tremaining: 332ms\n",
      "866:\tlearn: 0.3964173\ttotal: 2.15s\tremaining: 330ms\n",
      "867:\tlearn: 0.3963462\ttotal: 2.15s\tremaining: 327ms\n",
      "868:\tlearn: 0.3963113\ttotal: 2.15s\tremaining: 325ms\n",
      "869:\tlearn: 0.3962776\ttotal: 2.16s\tremaining: 322ms\n",
      "870:\tlearn: 0.3962417\ttotal: 2.16s\tremaining: 320ms\n",
      "871:\tlearn: 0.3962330\ttotal: 2.16s\tremaining: 317ms\n",
      "872:\tlearn: 0.3961820\ttotal: 2.16s\tremaining: 315ms\n",
      "873:\tlearn: 0.3961698\ttotal: 2.17s\tremaining: 312ms\n",
      "874:\tlearn: 0.3961360\ttotal: 2.17s\tremaining: 310ms\n",
      "875:\tlearn: 0.3961229\ttotal: 2.17s\tremaining: 307ms\n",
      "876:\tlearn: 0.3961229\ttotal: 2.17s\tremaining: 305ms\n",
      "877:\tlearn: 0.3961095\ttotal: 2.18s\tremaining: 302ms\n",
      "878:\tlearn: 0.3960906\ttotal: 2.18s\tremaining: 300ms\n",
      "879:\tlearn: 0.3960872\ttotal: 2.18s\tremaining: 297ms\n",
      "880:\tlearn: 0.3960774\ttotal: 2.18s\tremaining: 295ms\n",
      "881:\tlearn: 0.3960774\ttotal: 2.19s\tremaining: 292ms\n",
      "882:\tlearn: 0.3960329\ttotal: 2.19s\tremaining: 290ms\n",
      "883:\tlearn: 0.3960179\ttotal: 2.19s\tremaining: 287ms\n",
      "884:\tlearn: 0.3959988\ttotal: 2.19s\tremaining: 285ms\n",
      "885:\tlearn: 0.3959976\ttotal: 2.19s\tremaining: 282ms\n",
      "886:\tlearn: 0.3959493\ttotal: 2.19s\tremaining: 280ms\n",
      "887:\tlearn: 0.3959314\ttotal: 2.2s\tremaining: 277ms\n",
      "888:\tlearn: 0.3958949\ttotal: 2.2s\tremaining: 275ms\n",
      "889:\tlearn: 0.3958734\ttotal: 2.2s\tremaining: 272ms\n",
      "890:\tlearn: 0.3958593\ttotal: 2.2s\tremaining: 270ms\n",
      "891:\tlearn: 0.3958588\ttotal: 2.21s\tremaining: 267ms\n",
      "892:\tlearn: 0.3958512\ttotal: 2.21s\tremaining: 265ms\n",
      "893:\tlearn: 0.3958332\ttotal: 2.21s\tremaining: 262ms\n",
      "894:\tlearn: 0.3958192\ttotal: 2.21s\tremaining: 260ms\n",
      "895:\tlearn: 0.3958180\ttotal: 2.22s\tremaining: 257ms\n",
      "896:\tlearn: 0.3957748\ttotal: 2.22s\tremaining: 255ms\n",
      "897:\tlearn: 0.3957555\ttotal: 2.22s\tremaining: 252ms\n",
      "898:\tlearn: 0.3957551\ttotal: 2.22s\tremaining: 250ms\n",
      "899:\tlearn: 0.3957360\ttotal: 2.22s\tremaining: 247ms\n",
      "900:\tlearn: 0.3957194\ttotal: 2.23s\tremaining: 245ms\n",
      "901:\tlearn: 0.3957171\ttotal: 2.23s\tremaining: 242ms\n",
      "902:\tlearn: 0.3957071\ttotal: 2.23s\tremaining: 240ms\n",
      "903:\tlearn: 0.3957029\ttotal: 2.23s\tremaining: 237ms\n",
      "904:\tlearn: 0.3956907\ttotal: 2.23s\tremaining: 235ms\n",
      "905:\tlearn: 0.3956549\ttotal: 2.24s\tremaining: 232ms\n",
      "906:\tlearn: 0.3956450\ttotal: 2.24s\tremaining: 230ms\n",
      "907:\tlearn: 0.3956262\ttotal: 2.24s\tremaining: 227ms\n",
      "908:\tlearn: 0.3956178\ttotal: 2.24s\tremaining: 225ms\n",
      "909:\tlearn: 0.3955892\ttotal: 2.25s\tremaining: 222ms\n",
      "910:\tlearn: 0.3955797\ttotal: 2.25s\tremaining: 220ms\n",
      "911:\tlearn: 0.3955592\ttotal: 2.25s\tremaining: 217ms\n",
      "912:\tlearn: 0.3955475\ttotal: 2.25s\tremaining: 215ms\n",
      "913:\tlearn: 0.3955458\ttotal: 2.25s\tremaining: 212ms\n",
      "914:\tlearn: 0.3955391\ttotal: 2.26s\tremaining: 210ms\n",
      "915:\tlearn: 0.3955269\ttotal: 2.26s\tremaining: 207ms\n",
      "916:\tlearn: 0.3955112\ttotal: 2.26s\tremaining: 205ms\n",
      "917:\tlearn: 0.3955014\ttotal: 2.26s\tremaining: 202ms\n",
      "918:\tlearn: 0.3954875\ttotal: 2.27s\tremaining: 200ms\n",
      "919:\tlearn: 0.3954710\ttotal: 2.27s\tremaining: 197ms\n",
      "920:\tlearn: 0.3954455\ttotal: 2.27s\tremaining: 195ms\n",
      "921:\tlearn: 0.3954246\ttotal: 2.27s\tremaining: 192ms\n",
      "922:\tlearn: 0.3954217\ttotal: 2.27s\tremaining: 190ms\n",
      "923:\tlearn: 0.3954148\ttotal: 2.28s\tremaining: 187ms\n",
      "924:\tlearn: 0.3954016\ttotal: 2.28s\tremaining: 185ms\n",
      "925:\tlearn: 0.3954014\ttotal: 2.28s\tremaining: 182ms\n",
      "926:\tlearn: 0.3953885\ttotal: 2.28s\tremaining: 180ms\n",
      "927:\tlearn: 0.3953823\ttotal: 2.29s\tremaining: 177ms\n",
      "928:\tlearn: 0.3953733\ttotal: 2.29s\tremaining: 175ms\n",
      "929:\tlearn: 0.3953634\ttotal: 2.29s\tremaining: 172ms\n",
      "930:\tlearn: 0.3953510\ttotal: 2.29s\tremaining: 170ms\n",
      "931:\tlearn: 0.3953377\ttotal: 2.29s\tremaining: 167ms\n",
      "932:\tlearn: 0.3953366\ttotal: 2.3s\tremaining: 165ms\n",
      "933:\tlearn: 0.3953044\ttotal: 2.3s\tremaining: 163ms\n",
      "934:\tlearn: 0.3952852\ttotal: 2.3s\tremaining: 160ms\n",
      "935:\tlearn: 0.3952642\ttotal: 2.3s\tremaining: 158ms\n",
      "936:\tlearn: 0.3952350\ttotal: 2.31s\tremaining: 155ms\n",
      "937:\tlearn: 0.3952395\ttotal: 2.31s\tremaining: 153ms\n",
      "938:\tlearn: 0.3952377\ttotal: 2.31s\tremaining: 150ms\n",
      "939:\tlearn: 0.3952359\ttotal: 2.31s\tremaining: 148ms\n",
      "940:\tlearn: 0.3952330\ttotal: 2.31s\tremaining: 145ms\n",
      "941:\tlearn: 0.3952215\ttotal: 2.32s\tremaining: 143ms\n",
      "942:\tlearn: 0.3952150\ttotal: 2.32s\tremaining: 140ms\n",
      "943:\tlearn: 0.3952009\ttotal: 2.32s\tremaining: 138ms\n",
      "944:\tlearn: 0.3951808\ttotal: 2.32s\tremaining: 135ms\n",
      "945:\tlearn: 0.3951755\ttotal: 2.33s\tremaining: 133ms\n",
      "946:\tlearn: 0.3951636\ttotal: 2.33s\tremaining: 130ms\n",
      "947:\tlearn: 0.3951321\ttotal: 2.33s\tremaining: 128ms\n",
      "948:\tlearn: 0.3951220\ttotal: 2.33s\tremaining: 125ms\n",
      "949:\tlearn: 0.3950972\ttotal: 2.33s\tremaining: 123ms\n",
      "950:\tlearn: 0.3950601\ttotal: 2.34s\tremaining: 120ms\n",
      "951:\tlearn: 0.3950500\ttotal: 2.34s\tremaining: 118ms\n",
      "952:\tlearn: 0.3950426\ttotal: 2.34s\tremaining: 115ms\n",
      "953:\tlearn: 0.3950403\ttotal: 2.34s\tremaining: 113ms\n",
      "954:\tlearn: 0.3950316\ttotal: 2.35s\tremaining: 111ms\n",
      "955:\tlearn: 0.3949625\ttotal: 2.35s\tremaining: 108ms\n",
      "956:\tlearn: 0.3949613\ttotal: 2.35s\tremaining: 106ms\n",
      "957:\tlearn: 0.3949371\ttotal: 2.35s\tremaining: 103ms\n",
      "958:\tlearn: 0.3948942\ttotal: 2.35s\tremaining: 101ms\n",
      "959:\tlearn: 0.3948628\ttotal: 2.36s\tremaining: 98.2ms\n"
     ]
    },
    {
     "name": "stdout",
     "output_type": "stream",
     "text": [
      "960:\tlearn: 0.3947996\ttotal: 2.36s\tremaining: 95.8ms\n",
      "961:\tlearn: 0.3947916\ttotal: 2.36s\tremaining: 93.3ms\n",
      "962:\tlearn: 0.3947718\ttotal: 2.37s\tremaining: 90.9ms\n",
      "963:\tlearn: 0.3947608\ttotal: 2.37s\tremaining: 88.4ms\n",
      "964:\tlearn: 0.3947479\ttotal: 2.37s\tremaining: 86ms\n",
      "965:\tlearn: 0.3947401\ttotal: 2.37s\tremaining: 83.5ms\n",
      "966:\tlearn: 0.3947314\ttotal: 2.38s\tremaining: 81.1ms\n",
      "967:\tlearn: 0.3947151\ttotal: 2.38s\tremaining: 78.6ms\n",
      "968:\tlearn: 0.3947076\ttotal: 2.38s\tremaining: 76.1ms\n",
      "969:\tlearn: 0.3947008\ttotal: 2.38s\tremaining: 73.7ms\n",
      "970:\tlearn: 0.3946755\ttotal: 2.38s\tremaining: 71.2ms\n",
      "971:\tlearn: 0.3946684\ttotal: 2.39s\tremaining: 68.8ms\n",
      "972:\tlearn: 0.3946558\ttotal: 2.39s\tremaining: 66.3ms\n",
      "973:\tlearn: 0.3946494\ttotal: 2.39s\tremaining: 63.8ms\n",
      "974:\tlearn: 0.3946444\ttotal: 2.39s\tremaining: 61.4ms\n",
      "975:\tlearn: 0.3946207\ttotal: 2.4s\tremaining: 58.9ms\n",
      "976:\tlearn: 0.3946193\ttotal: 2.4s\tremaining: 56.5ms\n",
      "977:\tlearn: 0.3946104\ttotal: 2.4s\tremaining: 54ms\n",
      "978:\tlearn: 0.3945989\ttotal: 2.4s\tremaining: 51.5ms\n",
      "979:\tlearn: 0.3945910\ttotal: 2.4s\tremaining: 49.1ms\n",
      "980:\tlearn: 0.3945547\ttotal: 2.41s\tremaining: 46.6ms\n",
      "981:\tlearn: 0.3945429\ttotal: 2.41s\tremaining: 44.2ms\n",
      "982:\tlearn: 0.3945308\ttotal: 2.41s\tremaining: 41.7ms\n",
      "983:\tlearn: 0.3945193\ttotal: 2.41s\tremaining: 39.3ms\n",
      "984:\tlearn: 0.3944592\ttotal: 2.42s\tremaining: 36.8ms\n",
      "985:\tlearn: 0.3944475\ttotal: 2.42s\tremaining: 34.3ms\n",
      "986:\tlearn: 0.3944405\ttotal: 2.42s\tremaining: 31.9ms\n",
      "987:\tlearn: 0.3944303\ttotal: 2.42s\tremaining: 29.4ms\n",
      "988:\tlearn: 0.3944114\ttotal: 2.42s\tremaining: 27ms\n",
      "989:\tlearn: 0.3943945\ttotal: 2.43s\tremaining: 24.5ms\n",
      "990:\tlearn: 0.3943839\ttotal: 2.43s\tremaining: 22.1ms\n",
      "991:\tlearn: 0.3943844\ttotal: 2.43s\tremaining: 19.6ms\n",
      "992:\tlearn: 0.3943469\ttotal: 2.43s\tremaining: 17.2ms\n",
      "993:\tlearn: 0.3943388\ttotal: 2.44s\tremaining: 14.7ms\n",
      "994:\tlearn: 0.3943190\ttotal: 2.44s\tremaining: 12.3ms\n",
      "995:\tlearn: 0.3943126\ttotal: 2.44s\tremaining: 9.8ms\n",
      "996:\tlearn: 0.3943018\ttotal: 2.44s\tremaining: 7.35ms\n",
      "997:\tlearn: 0.3942724\ttotal: 2.44s\tremaining: 4.9ms\n",
      "998:\tlearn: 0.3942602\ttotal: 2.45s\tremaining: 2.45ms\n",
      "999:\tlearn: 0.3942442\ttotal: 2.45s\tremaining: 0us\n",
      "Accuracy score (training): 0.8183220600450931\n",
      "Accuracy score (validation): 0.758125\n"
     ]
    }
   ],
   "source": [
    "from catboost import CatBoostClassifier\n",
    "cbr = CatBoostClassifier()\n",
    "# Fit model\n",
    "cbr.fit(X_tr_smote, y_tr_smote)\n",
    "# Get predictions\n",
    "cbr_pred = cbr.predict(X_test)\n",
    "cbr_ac=accuracy_score(y_test, cbr_pred)\n",
    "\n",
    "\n",
    "print(\"Accuracy score (training):\" ,cbr.score(X_tr_smote, y_tr_smote))\n",
    "print(\"Accuracy score (validation):\",(cbr.score(X_val, y_val)))"
   ]
  },
  {
   "cell_type": "code",
   "execution_count": 39,
   "id": "a5566504",
   "metadata": {},
   "outputs": [
    {
     "name": "stdout",
     "output_type": "stream",
     "text": [
      "Cat Boost Classifier: \n",
      " Accuracy: 0.7800 \n",
      " Precision: 0.6134 \n",
      " Recall: 0.8246 \n",
      " F1: 0.7035\n"
     ]
    }
   ],
   "source": [
    "print('Cat Boost Classifier: \\n Accuracy: %.4f \\n Precision: %.4f \\n Recall: %.4f \\n F1: %.4f' %\n",
    "        (accuracy(y_test, cbr.predict(X_test)), \n",
    "         precision(y_test, cbr.predict(X_test)), \n",
    "         recall(y_test, cbr.predict(X_test)),\n",
    "         F1(y_test, cbr.predict(X_test))\n",
    "        )\n",
    "     )"
   ]
  },
  {
   "cell_type": "markdown",
   "id": "d19a7e4c",
   "metadata": {},
   "source": [
    "## Voting Classifier"
   ]
  },
  {
   "cell_type": "code",
   "execution_count": 40,
   "id": "ad65702c",
   "metadata": {},
   "outputs": [
    {
     "data": {
      "text/plain": [
       "[('lr_c', LogisticRegression(max_iter=400, random_state=42)),\n",
       " ('rf_clf', RandomForestClassifier(n_estimators=10, random_state=42)),\n",
       " ('clf', DecisionTreeClassifier()),\n",
       " ('svc_r', SVC(probability=True, random_state=0)),\n",
       " ('knn', KNeighborsClassifier()),\n",
       " ('abc', AdaBoostClassifier(learning_rate=1)),\n",
       " ('gb_clf', GradientBoostingClassifier(learning_rate=0.71)),\n",
       " ('xgb_clf',\n",
       "  XGBClassifier(base_score=0.5, booster='gbtree', colsample_bylevel=1,\n",
       "                colsample_bynode=1, colsample_bytree=1, enable_categorical=False,\n",
       "                gamma=0, gpu_id=-1, importance_type=None,\n",
       "                interaction_constraints='', learning_rate=0.300000012,\n",
       "                max_delta_step=0, max_depth=6, min_child_weight=1, missing=nan,\n",
       "                monotone_constraints='()', n_estimators=100, n_jobs=8,\n",
       "                num_parallel_tree=1, predictor='auto', random_state=0,\n",
       "                reg_alpha=0, reg_lambda=1, scale_pos_weight=1, subsample=1,\n",
       "                tree_method='exact', validate_parameters=1, verbosity=None)),\n",
       " ('cbr', <catboost.core.CatBoostClassifier at 0x2788973dc40>)]"
      ]
     },
     "execution_count": 40,
     "metadata": {},
     "output_type": "execute_result"
    }
   ],
   "source": [
    "model_names = [\"lr_c\", \"rf_clf\", 'clf',\"svc_r\", \"knn\",\"abc\",\"gb_clf\",\"xgb_clf\",\"cbr\"]\n",
    "model_var = [eval(n) for n in model_names]\n",
    "model_list = list(zip(model_names, model_var))\n",
    "model_list"
   ]
  },
  {
   "cell_type": "code",
   "execution_count": 41,
   "id": "4d3a37fa",
   "metadata": {},
   "outputs": [
    {
     "name": "stdout",
     "output_type": "stream",
     "text": [
      "lr_c score: 0.7825\n",
      "rf_clf score: 0.774\n",
      "clf score: 0.7735\n",
      "svc_r score: 0.7695\n",
      "knn score: 0.7575\n",
      "abc score: 0.7825\n",
      "gb_clf score: 0.7775\n",
      "xgb_clf score: 0.7765\n",
      "cbr score: 0.78\n"
     ]
    }
   ],
   "source": [
    "for model_name in model_names:\n",
    "    curr_model = eval(model_name)\n",
    "    print(f'{model_name} score: {curr_model.score(X_test, y_test)}')"
   ]
  },
  {
   "cell_type": "code",
   "execution_count": 42,
   "id": "e7b2aa57",
   "metadata": {},
   "outputs": [
    {
     "data": {
      "text/plain": [
       "VotingClassifier(estimators=[('lr_c',\n",
       "                              LogisticRegression(max_iter=400,\n",
       "                                                 random_state=42)),\n",
       "                             ('rf_clf',\n",
       "                              RandomForestClassifier(n_estimators=10,\n",
       "                                                     random_state=42)),\n",
       "                             ('clf', DecisionTreeClassifier()),\n",
       "                             ('svc_r', SVC(probability=True, random_state=0)),\n",
       "                             ('knn', KNeighborsClassifier()),\n",
       "                             ('abc', AdaBoostClassifier(learning_rate=1)),\n",
       "                             ('gb_clf',\n",
       "                              GradientBoostingClassifier(lear...\n",
       "                                            max_delta_step=0, max_depth=6,\n",
       "                                            min_child_weight=1, missing=nan,\n",
       "                                            monotone_constraints='()',\n",
       "                                            n_estimators=100, n_jobs=8,\n",
       "                                            num_parallel_tree=1,\n",
       "                                            predictor='auto', random_state=0,\n",
       "                                            reg_alpha=0, reg_lambda=1,\n",
       "                                            scale_pos_weight=1, subsample=1,\n",
       "                                            tree_method='exact',\n",
       "                                            validate_parameters=1,\n",
       "                                            verbosity=None)),\n",
       "                             ('cbr',\n",
       "                              <catboost.core.CatBoostClassifier object at 0x000002788973DC40>)],\n",
       "                 n_jobs=-1)"
      ]
     },
     "execution_count": 42,
     "metadata": {},
     "output_type": "execute_result"
    }
   ],
   "source": [
    "from sklearn.ensemble import VotingClassifier\n",
    "voting_classifer = VotingClassifier(estimators=model_list,\n",
    "                                    voting='hard', #<-- sklearn calls this hard voting\n",
    "                                    n_jobs=-1)\n",
    "voting_classifer.fit(X_tr_smote, y_tr_smote)"
   ]
  },
  {
   "cell_type": "code",
   "execution_count": 43,
   "id": "04d9b5eb",
   "metadata": {},
   "outputs": [
    {
     "data": {
      "text/plain": [
       "0.78"
      ]
     },
     "execution_count": 43,
     "metadata": {},
     "output_type": "execute_result"
    }
   ],
   "source": [
    "y_pred1 = voting_classifer.predict(X_test)\n",
    "accuracy_score(y_test, y_pred1)"
   ]
  },
  {
   "cell_type": "code",
   "execution_count": 44,
   "id": "cfa6ebf5",
   "metadata": {},
   "outputs": [
    {
     "data": {
      "text/plain": [
       "Text(0.5, 1.0, 'Model Accuracy')"
      ]
     },
     "execution_count": 44,
     "metadata": {},
     "output_type": "execute_result"
    },
    {
     "data": {
      "image/png": "[encoded data removed]",
      "text/plain": [
       "<Figure size 576x576 with 1 Axes>"
      ]
     },
     "metadata": {
      "needs_background": "light"
     },
     "output_type": "display_data"
    }
   ],
   "source": [
    "#Plot of accuracy of all models\n",
    "%matplotlib inline\n",
    "model_accuracy = pd.Series(data=[lr_ac,rf_ac, clf_ac,svr_ac, knn_ac,abc_ac,gb_clf_ac,xgb_clf_ac,cbr_ac], \n",
    "        index=['Logistic Regression','Random Forest Classifier','Decision Tree Classifier','SVC','K Neighbors Classifier','Ada Boost Classifier','Gradient Boosting Classifier','XGB Classifier','Cat Boost Classifier'])\n",
    "fig= plt.figure(figsize=(8,8))\n",
    "model_accuracy.sort_values().plot.barh()\n",
    "plt.title('Model Accuracy')"
   ]
  },
  {
   "cell_type": "markdown",
   "id": "2ba761b9",
   "metadata": {},
   "source": [
    "## Plot the ROC Curve\n",
    "\n",
    "Next, we’ll calculate the true positive rate and the false positive rate and create a ROC curve for for all the models by using the Matplotlib data visualization package"
   ]
  },
  {
   "cell_type": "code",
   "execution_count": 45,
   "id": "3347ef0e",
   "metadata": {},
   "outputs": [
    {
     "data": {
      "image/png": "[encoded data removed]",
      "text/plain": [
       "<Figure size 432x288 with 1 Axes>"
      ]
     },
     "metadata": {
      "needs_background": "light"
     },
     "output_type": "display_data"
    }
   ],
   "source": [
    "import matplotlib.pyplot as plt\n",
    "from sklearn.datasets import make_classification\n",
    "from sklearn.metrics import RocCurveDisplay\n",
    "\n",
    "#create ROC curve for all the models (stands for: “receiver operating characteristic” curve)\n",
    "\n",
    "disp =  RocCurveDisplay.from_estimator(lr_c, X_test, y_test)\n",
    "\n",
    "RocCurveDisplay.from_estimator(rf_clf, X_tr_smote, y_tr_smote, ax=disp.ax_);\n",
    "RocCurveDisplay.from_estimator(clf, X_tr_smote, y_tr_smote, ax=disp.ax_);\n",
    "RocCurveDisplay.from_estimator(svc_r, X_tr_smote, y_tr_smote, ax=disp.ax_);\n",
    "RocCurveDisplay.from_estimator(knn, X_tr_smote, y_tr_smote, ax=disp.ax_);\n",
    "RocCurveDisplay.from_estimator(abc, X_tr_smote, y_tr_smote, ax=disp.ax_);\n",
    "RocCurveDisplay.from_estimator(gb_clf, X_tr_smote, y_tr_smote, ax=disp.ax_);\n",
    "RocCurveDisplay.from_estimator(xgb_clf, X_tr_smote, y_tr_smote, ax=disp.ax_);\n",
    "RocCurveDisplay.from_estimator(cbr, X_tr_smote, y_tr_smote, ax=disp.ax_);"
   ]
  },
  {
   "cell_type": "markdown",
   "id": "2d41f958",
   "metadata": {},
   "source": [
    "### As we can see  Logistic Regression, Ada Boost and CatBoost are our best models.\n"
   ]
  }
 ],
 "metadata": {
  "kernelspec": {
   "display_name": "Python 3",
   "language": "python",
   "name": "python3"
  },
  "language_info": {
   "codemirror_mode": {
    "name": "ipython",
    "version": 3
   },
   "file_extension": ".py",
   "mimetype": "text/x-python",
   "name": "python",
   "nbconvert_exporter": "python",
   "pygments_lexer": "ipython3",
   "version": "3.8.8"
  }
 },
 "nbformat": 4,
 "nbformat_minor": 5
}
