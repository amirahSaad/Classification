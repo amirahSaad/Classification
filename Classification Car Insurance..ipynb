{
 "cells": [
  {
   "cell_type": "markdown",
   "id": "abcee029",
   "metadata": {},
   "source": [
    "# Car Insurance Modeling\n"
   ]
  },
  {
   "cell_type": "markdown",
   "id": "55222b94",
   "metadata": {},
   "source": [
    "### Import libraries"
   ]
  },
  {
   "cell_type": "code",
   "execution_count": 2,
   "id": "0fbcf46c",
   "metadata": {},
   "outputs": [],
   "source": [
    "import pandas as pd\n",
    "import numpy as np\n",
    "import matplotlib.pyplot as plt\n",
    "import seaborn as sns"
   ]
  },
  {
   "cell_type": "code",
   "execution_count": 3,
   "id": "f07f997f",
   "metadata": {},
   "outputs": [],
   "source": [
    "#Load data as dataframe\n",
    "df = pd.read_csv(\"Car_insurance_clean+EDA.csv\",index_col=0)"
   ]
  },
  {
   "cell_type": "code",
   "execution_count": 4,
   "id": "45d8124d",
   "metadata": {},
   "outputs": [
    {
     "data": {
      "text/html": [
       "<div>\n",
       "<style scoped>\n",
       "    .dataframe tbody tr th:only-of-type {\n",
       "        vertical-align: middle;\n",
       "    }\n",
       "\n",
       "    .dataframe tbody tr th {\n",
       "        vertical-align: top;\n",
       "    }\n",
       "\n",
       "    .dataframe thead th {\n",
       "        text-align: right;\n",
       "    }\n",
       "</style>\n",
       "<table border=\"1\" class=\"dataframe\">\n",
       "  <thead>\n",
       "    <tr style=\"text-align: right;\">\n",
       "      <th></th>\n",
       "      <th>AGE</th>\n",
       "      <th>DRIVING_EXPERIENCE</th>\n",
       "      <th>CREDIT_SCORE</th>\n",
       "      <th>VEHICLE_OWNERSHIP</th>\n",
       "      <th>MARRIED</th>\n",
       "      <th>ANNUAL_MILEAGE</th>\n",
       "      <th>SPEEDING_VIOLATIONS</th>\n",
       "      <th>DUIS</th>\n",
       "      <th>PAST_ACCIDENTS</th>\n",
       "      <th>OUTCOME</th>\n",
       "      <th>GENDER</th>\n",
       "      <th>VEHICLE_YEAR(before 2015)</th>\n",
       "      <th>VEHICLE_TYPE(sports car)</th>\n",
       "    </tr>\n",
       "  </thead>\n",
       "  <tbody>\n",
       "    <tr>\n",
       "      <th>0</th>\n",
       "      <td>3</td>\n",
       "      <td>0</td>\n",
       "      <td>0.629027</td>\n",
       "      <td>1.0</td>\n",
       "      <td>0.0</td>\n",
       "      <td>12.0</td>\n",
       "      <td>0</td>\n",
       "      <td>0</td>\n",
       "      <td>0</td>\n",
       "      <td>0.0</td>\n",
       "      <td>0</td>\n",
       "      <td>0</td>\n",
       "      <td>0</td>\n",
       "    </tr>\n",
       "    <tr>\n",
       "      <th>1</th>\n",
       "      <td>0</td>\n",
       "      <td>0</td>\n",
       "      <td>0.357757</td>\n",
       "      <td>0.0</td>\n",
       "      <td>0.0</td>\n",
       "      <td>16.0</td>\n",
       "      <td>0</td>\n",
       "      <td>0</td>\n",
       "      <td>0</td>\n",
       "      <td>1.0</td>\n",
       "      <td>1</td>\n",
       "      <td>1</td>\n",
       "      <td>0</td>\n",
       "    </tr>\n",
       "    <tr>\n",
       "      <th>2</th>\n",
       "      <td>0</td>\n",
       "      <td>0</td>\n",
       "      <td>0.493146</td>\n",
       "      <td>1.0</td>\n",
       "      <td>0.0</td>\n",
       "      <td>11.0</td>\n",
       "      <td>0</td>\n",
       "      <td>0</td>\n",
       "      <td>0</td>\n",
       "      <td>0.0</td>\n",
       "      <td>0</td>\n",
       "      <td>1</td>\n",
       "      <td>0</td>\n",
       "    </tr>\n",
       "    <tr>\n",
       "      <th>3</th>\n",
       "      <td>0</td>\n",
       "      <td>0</td>\n",
       "      <td>0.206013</td>\n",
       "      <td>1.0</td>\n",
       "      <td>0.0</td>\n",
       "      <td>11.0</td>\n",
       "      <td>0</td>\n",
       "      <td>0</td>\n",
       "      <td>0</td>\n",
       "      <td>0.0</td>\n",
       "      <td>1</td>\n",
       "      <td>1</td>\n",
       "      <td>0</td>\n",
       "    </tr>\n",
       "    <tr>\n",
       "      <th>4</th>\n",
       "      <td>1</td>\n",
       "      <td>1</td>\n",
       "      <td>0.388366</td>\n",
       "      <td>1.0</td>\n",
       "      <td>0.0</td>\n",
       "      <td>12.0</td>\n",
       "      <td>2</td>\n",
       "      <td>0</td>\n",
       "      <td>1</td>\n",
       "      <td>1.0</td>\n",
       "      <td>1</td>\n",
       "      <td>1</td>\n",
       "      <td>0</td>\n",
       "    </tr>\n",
       "  </tbody>\n",
       "</table>\n",
       "</div>"
      ],
      "text/plain": [
       "   AGE  DRIVING_EXPERIENCE  CREDIT_SCORE  VEHICLE_OWNERSHIP  MARRIED  \\\n",
       "0    3                   0      0.629027                1.0      0.0   \n",
       "1    0                   0      0.357757                0.0      0.0   \n",
       "2    0                   0      0.493146                1.0      0.0   \n",
       "3    0                   0      0.206013                1.0      0.0   \n",
       "4    1                   1      0.388366                1.0      0.0   \n",
       "\n",
       "   ANNUAL_MILEAGE  SPEEDING_VIOLATIONS  DUIS  PAST_ACCIDENTS  OUTCOME  GENDER  \\\n",
       "0            12.0                    0     0               0      0.0       0   \n",
       "1            16.0                    0     0               0      1.0       1   \n",
       "2            11.0                    0     0               0      0.0       0   \n",
       "3            11.0                    0     0               0      0.0       1   \n",
       "4            12.0                    2     0               1      1.0       1   \n",
       "\n",
       "   VEHICLE_YEAR(before 2015)  VEHICLE_TYPE(sports car)  \n",
       "0                          0                         0  \n",
       "1                          1                         0  \n",
       "2                          1                         0  \n",
       "3                          1                         0  \n",
       "4                          1                         0  "
      ]
     },
     "execution_count": 4,
     "metadata": {},
     "output_type": "execute_result"
    }
   ],
   "source": [
    "df.head()"
   ]
  },
  {
   "cell_type": "code",
   "execution_count": 5,
   "id": "85c14db9",
   "metadata": {
    "scrolled": true
   },
   "outputs": [
    {
     "data": {
      "text/plain": [
       "Index(['AGE', 'DRIVING_EXPERIENCE', 'CREDIT_SCORE', 'VEHICLE_OWNERSHIP',\n",
       "       'MARRIED', 'ANNUAL_MILEAGE', 'SPEEDING_VIOLATIONS', 'DUIS',\n",
       "       'PAST_ACCIDENTS', 'OUTCOME', 'GENDER', 'VEHICLE_YEAR(before 2015)',\n",
       "       'VEHICLE_TYPE(sports car)'],\n",
       "      dtype='object')"
      ]
     },
     "execution_count": 5,
     "metadata": {},
     "output_type": "execute_result"
    }
   ],
   "source": [
    "df.columns"
   ]
  },
  {
   "cell_type": "markdown",
   "id": "18c2ace0",
   "metadata": {},
   "source": [
    "## Split the Data"
   ]
  },
  {
   "cell_type": "code",
   "execution_count": 6,
   "id": "9f320949",
   "metadata": {},
   "outputs": [],
   "source": [
    "#Take the 6 best Feauters\n",
    "from sklearn.model_selection import train_test_split\n",
    "X, y = df.drop(['OUTCOME','CREDIT_SCORE','MARRIED','ANNUAL_MILEAGE','GENDER','VEHICLE_YEAR(before 2015)', 'VEHICLE_TYPE(sports car)'],axis=1), df['OUTCOME']\n"
   ]
  },
  {
   "cell_type": "code",
   "execution_count": 7,
   "id": "b6533527",
   "metadata": {
    "scrolled": true
   },
   "outputs": [
    {
     "data": {
      "text/html": [
       "<div>\n",
       "<style scoped>\n",
       "    .dataframe tbody tr th:only-of-type {\n",
       "        vertical-align: middle;\n",
       "    }\n",
       "\n",
       "    .dataframe tbody tr th {\n",
       "        vertical-align: top;\n",
       "    }\n",
       "\n",
       "    .dataframe thead th {\n",
       "        text-align: right;\n",
       "    }\n",
       "</style>\n",
       "<table border=\"1\" class=\"dataframe\">\n",
       "  <thead>\n",
       "    <tr style=\"text-align: right;\">\n",
       "      <th></th>\n",
       "      <th>AGE</th>\n",
       "      <th>DRIVING_EXPERIENCE</th>\n",
       "      <th>VEHICLE_OWNERSHIP</th>\n",
       "      <th>SPEEDING_VIOLATIONS</th>\n",
       "      <th>DUIS</th>\n",
       "      <th>PAST_ACCIDENTS</th>\n",
       "    </tr>\n",
       "  </thead>\n",
       "  <tbody>\n",
       "    <tr>\n",
       "      <th>0</th>\n",
       "      <td>3</td>\n",
       "      <td>0</td>\n",
       "      <td>1.0</td>\n",
       "      <td>0</td>\n",
       "      <td>0</td>\n",
       "      <td>0</td>\n",
       "    </tr>\n",
       "    <tr>\n",
       "      <th>1</th>\n",
       "      <td>0</td>\n",
       "      <td>0</td>\n",
       "      <td>0.0</td>\n",
       "      <td>0</td>\n",
       "      <td>0</td>\n",
       "      <td>0</td>\n",
       "    </tr>\n",
       "    <tr>\n",
       "      <th>2</th>\n",
       "      <td>0</td>\n",
       "      <td>0</td>\n",
       "      <td>1.0</td>\n",
       "      <td>0</td>\n",
       "      <td>0</td>\n",
       "      <td>0</td>\n",
       "    </tr>\n",
       "    <tr>\n",
       "      <th>3</th>\n",
       "      <td>0</td>\n",
       "      <td>0</td>\n",
       "      <td>1.0</td>\n",
       "      <td>0</td>\n",
       "      <td>0</td>\n",
       "      <td>0</td>\n",
       "    </tr>\n",
       "    <tr>\n",
       "      <th>4</th>\n",
       "      <td>1</td>\n",
       "      <td>1</td>\n",
       "      <td>1.0</td>\n",
       "      <td>2</td>\n",
       "      <td>0</td>\n",
       "      <td>1</td>\n",
       "    </tr>\n",
       "  </tbody>\n",
       "</table>\n",
       "</div>"
      ],
      "text/plain": [
       "   AGE  DRIVING_EXPERIENCE  VEHICLE_OWNERSHIP  SPEEDING_VIOLATIONS  DUIS  \\\n",
       "0    3                   0                1.0                    0     0   \n",
       "1    0                   0                0.0                    0     0   \n",
       "2    0                   0                1.0                    0     0   \n",
       "3    0                   0                1.0                    0     0   \n",
       "4    1                   1                1.0                    2     0   \n",
       "\n",
       "   PAST_ACCIDENTS  \n",
       "0               0  \n",
       "1               0  \n",
       "2               0  \n",
       "3               0  \n",
       "4               1  "
      ]
     },
     "execution_count": 7,
     "metadata": {},
     "output_type": "execute_result"
    }
   ],
   "source": [
    "X.head()"
   ]
  },
  {
   "cell_type": "code",
   "execution_count": 8,
   "id": "068125fd",
   "metadata": {},
   "outputs": [],
   "source": [
    "# Split data into 80% train and 20% test\n",
    "X_train, X_test, y_train, y_test = train_test_split(X, y, test_size=0.2, random_state=42)"
   ]
  },
  {
   "cell_type": "code",
   "execution_count": 9,
   "id": "77c117fb",
   "metadata": {},
   "outputs": [],
   "source": [
    "# Split data into 80% train and 20% validation\n",
    "X_train, X_val, y_train, y_val = train_test_split(X_train, y_train, test_size=.2, random_state=42)"
   ]
  },
  {
   "cell_type": "code",
   "execution_count": 10,
   "id": "2398bd03",
   "metadata": {
    "scrolled": true
   },
   "outputs": [
    {
     "data": {
      "text/plain": [
       "<AxesSubplot:>"
      ]
     },
     "execution_count": 10,
     "metadata": {},
     "output_type": "execute_result"
    },
    {
     "data": {
      "image/png": "[encoded data removed]",
      "text/plain": [
       "<Figure size 432x288 with 1 Axes>"
      ]
     },
     "metadata": {
      "needs_background": "light"
     },
     "output_type": "display_data"
    }
   ],
   "source": [
    "y_train.hist()"
   ]
  },
  {
   "cell_type": "code",
   "execution_count": 11,
   "id": "c8ac9c55",
   "metadata": {},
   "outputs": [
    {
     "data": {
      "image/png": "[encoded data removed]",
      "text/plain": [
       "<Figure size 1138x1080 with 42 Axes>"
      ]
     },
     "metadata": {
      "needs_background": "light"
     },
     "output_type": "display_data"
    }
   ],
   "source": [
    "sns.pairplot(pd.concat([X_train, y_train], axis=1), hue='OUTCOME');"
   ]
  },
  {
   "cell_type": "code",
   "execution_count": 12,
   "id": "d1cba2b9",
   "metadata": {},
   "outputs": [],
   "source": [
    "#scaling the data\n",
    "from sklearn.preprocessing import StandardScaler\n",
    "scaler = StandardScaler()\n",
    "X_train = scaler.fit_transform(X_train)\n",
    "X_test = scaler.transform(X_test)\n",
    "X_val = scaler.transform(X_val)"
   ]
  },
  {
   "cell_type": "code",
   "execution_count": 13,
   "id": "c320bcd1",
   "metadata": {},
   "outputs": [
    {
     "data": {
      "text/plain": [
       "0.0    4373\n",
       "1.0    2027\n",
       "Name: OUTCOME, dtype: int64"
      ]
     },
     "execution_count": 13,
     "metadata": {},
     "output_type": "execute_result"
    }
   ],
   "source": [
    "y_train.value_counts()"
   ]
  },
  {
   "cell_type": "code",
   "execution_count": 14,
   "id": "3b8ace57",
   "metadata": {},
   "outputs": [
    {
     "data": {
      "text/plain": [
       "0.0    1367\n",
       "1.0     633\n",
       "Name: OUTCOME, dtype: int64"
      ]
     },
     "execution_count": 14,
     "metadata": {},
     "output_type": "execute_result"
    }
   ],
   "source": [
    "y_test.value_counts()"
   ]
  },
  {
   "cell_type": "code",
   "execution_count": 15,
   "id": "2a6a1ecf",
   "metadata": {},
   "outputs": [
    {
     "data": {
      "text/plain": [
       "0.0    6867\n",
       "1.0    3133\n",
       "Name: OUTCOME, dtype: int64"
      ]
     },
     "execution_count": 15,
     "metadata": {},
     "output_type": "execute_result"
    }
   ],
   "source": [
    "y.value_counts()"
   ]
  },
  {
   "cell_type": "code",
   "execution_count": 16,
   "id": "e92ee55d",
   "metadata": {},
   "outputs": [
    {
     "data": {
      "text/plain": [
       "0.31671875"
      ]
     },
     "execution_count": 16,
     "metadata": {},
     "output_type": "execute_result"
    }
   ],
   "source": [
    "np.mean(y_train)"
   ]
  },
  {
   "cell_type": "markdown",
   "id": "216bc973",
   "metadata": {},
   "source": [
    "## Modeling"
   ]
  },
  {
   "cell_type": "code",
   "execution_count": 17,
   "id": "0efc8702",
   "metadata": {},
   "outputs": [],
   "source": [
    "from sklearn.linear_model import LogisticRegression\n",
    "from sklearn.metrics import confusion_matrix\n",
    "from sklearn.metrics import accuracy_score\n",
    "from sklearn.neighbors import KNeighborsClassifier\n",
    "from sklearn.svm import SVC\n",
    "from sklearn.tree import DecisionTreeClassifier\n",
    "import sklearn.ensemble\n",
    "from sklearn.ensemble import RandomForestClassifier, AdaBoostClassifier, GradientBoostingClassifier\n",
    "from sklearn.ensemble import GradientBoostingClassifier\n",
    "from sklearn.model_selection import cross_val_score\n",
    "#import lightgbm as ltb\n",
    "from sklearn.metrics import confusion_matrix\n",
    "from sklearn.metrics import precision_score, recall_score, precision_recall_curve,f1_score, fbeta_score\n"
   ]
  },
  {
   "cell_type": "code",
   "execution_count": 18,
   "id": "6181b213",
   "metadata": {},
   "outputs": [],
   "source": [
    "def accuracy(actuals, preds):\n",
    "    return np.mean(actuals == preds)\n",
    "\n",
    "def precision(actuals, preds):\n",
    "    tp = np.sum((actuals == 1) & (preds == 1))\n",
    "    fp = np.sum((actuals == 0) & (preds == 1))\n",
    "    return tp / (tp + fp)\n",
    "\n",
    "def recall(actuals, preds):\n",
    "    tp = np.sum((actuals == 1) & (preds == 1))\n",
    "    fn = np.sum((actuals == 1) & (preds == 0))\n",
    "    return tp / (tp + fn)\n",
    "\n",
    "def F1(actuals, preds):\n",
    "    p, r = precision(actuals, preds), recall(actuals, preds)\n",
    "    return 2*p*r / (p + r)"
   ]
  },
  {
   "cell_type": "markdown",
   "id": "67629677",
   "metadata": {},
   "source": [
    "### LogisticRegression"
   ]
  },
  {
   "cell_type": "code",
   "execution_count": 19,
   "id": "9dee47cf",
   "metadata": {},
   "outputs": [
    {
     "name": "stdout",
     "output_type": "stream",
     "text": [
      "Accuracy on training set: 0.800625\n",
      "Accuracy on validation set: 0.800625\n"
     ]
    }
   ],
   "source": [
    "lr_c=LogisticRegression(random_state=42, solver='lbfgs',max_iter=400 )\n",
    "lr_c.fit(X_train,y_train)\n",
    "lr_pred=lr_c.predict(X_test)\n",
    "lr_cm=confusion_matrix(y_test,lr_pred)\n",
    "lr_ac=accuracy_score(y_test, lr_pred)\n",
    "print('Accuracy on training set:',lr_c.score(X_train,y_train))\n",
    "print('Accuracy on validation set:',lr_c.score(X_val,y_val))"
   ]
  },
  {
   "cell_type": "code",
   "execution_count": 20,
   "id": "bdea9c12",
   "metadata": {
    "scrolled": true
   },
   "outputs": [
    {
     "name": "stdout",
     "output_type": "stream",
     "text": [
      "Confusion Matrix for Logistic Regression Classifier \n",
      "\n"
     ]
    },
    {
     "data": {
      "image/png": "[encoded data removed]",
      "text/plain": [
       "<Figure size 432x288 with 2 Axes>"
      ]
     },
     "metadata": {
      "needs_background": "light"
     },
     "output_type": "display_data"
    },
    {
     "name": "stdout",
     "output_type": "stream",
     "text": [
      "\n",
      "\n"
     ]
    }
   ],
   "source": [
    "#Confusion matrix for logistic regression model\n",
    "print(\"Confusion Matrix for Logistic Regression Classifier\",\"\\n\")\n",
    "score = round(accuracy_score(y_test, lr_pred),3) \n",
    "cm1 = confusion_matrix(y_test, lr_pred)\n",
    "sns.heatmap(cm1, annot=True, fmt=\".1f\", linewidths=.3, \n",
    "        square = True, cmap = 'PuBu')\n",
    "plt.ylabel('Actual label')\n",
    "plt.xlabel('Predicted label')\n",
    "plt.title('Accuracy Score: {0}'.format(score), size = 12)\n",
    "plt.show()\n",
    "print(\"\\n\")"
   ]
  },
  {
   "cell_type": "code",
   "execution_count": 21,
   "id": "ee6fb84b",
   "metadata": {},
   "outputs": [
    {
     "name": "stdout",
     "output_type": "stream",
     "text": [
      "Logistic regression validation metrics: \n",
      " Accuracy: 0.7970 \n",
      " Precision: 0.7075 \n",
      " Recall: 0.6114 \n",
      " F1: 0.6559\n"
     ]
    }
   ],
   "source": [
    "print('Logistic regression validation metrics: \\n Accuracy: %.4f \\n Precision: %.4f \\n Recall: %.4f \\n F1: %.4f' %\n",
    "        (accuracy(y_test, lr_c.predict(X_test)), \n",
    "         precision(y_test, lr_c.predict(X_test)), \n",
    "         recall(y_test, lr_c.predict(X_test)),\n",
    "         F1(y_test, lr_c.predict(X_test))\n",
    "        )\n",
    "     )"
   ]
  },
  {
   "cell_type": "markdown",
   "id": "860e29cc",
   "metadata": {},
   "source": [
    "### Random Forest"
   ]
  },
  {
   "cell_type": "code",
   "execution_count": 22,
   "id": "d10d2818",
   "metadata": {
    "scrolled": true
   },
   "outputs": [
    {
     "name": "stdout",
     "output_type": "stream",
     "text": [
      "Accuracy on training set: 0.81703125\n",
      "Accuracy on validation set: 0.783125\n"
     ]
    }
   ],
   "source": [
    "rf_clf = RandomForestClassifier(n_estimators = 10, random_state = 42)\n",
    "rf_clf.fit(X_train, y_train)\n",
    "rf_pred=rf_clf.predict(X_test)\n",
    "rf_ac=accuracy_score(y_test, rf_pred)\n",
    "print('Accuracy on training set:',rf_clf.score(X_train,y_train))\n",
    "print('Accuracy on validation set:',rf_clf.score(X_val,y_val))"
   ]
  },
  {
   "cell_type": "code",
   "execution_count": 23,
   "id": "28d66cbb",
   "metadata": {},
   "outputs": [
    {
     "name": "stdout",
     "output_type": "stream",
     "text": [
      "RandomForestClassifiern: \n",
      " Accuracy: 0.7920 \n",
      " Precision: 0.6776 \n",
      " Recall: 0.6540 \n",
      " F1: 0.6656\n"
     ]
    }
   ],
   "source": [
    "print('RandomForestClassifiern: \\n Accuracy: %.4f \\n Precision: %.4f \\n Recall: %.4f \\n F1: %.4f' %\n",
    "        (accuracy(y_test, rf_clf.predict(X_test)), \n",
    "         precision(y_test, rf_clf.predict(X_test)), \n",
    "         recall(y_test, rf_clf.predict(X_test)),\n",
    "         F1(y_test, rf_clf.predict(X_test))\n",
    "        )\n",
    "     )"
   ]
  },
  {
   "cell_type": "markdown",
   "id": "27e45c0a",
   "metadata": {},
   "source": [
    "### Decision Tree"
   ]
  },
  {
   "cell_type": "code",
   "execution_count": 24,
   "id": "5a5a735e",
   "metadata": {},
   "outputs": [
    {
     "name": "stdout",
     "output_type": "stream",
     "text": [
      "Accuracy on training set: 0.81765625\n",
      "Accuracy on validation set: 0.78375\n"
     ]
    }
   ],
   "source": [
    "# Create Decision Tree classifer object\n",
    "clf = DecisionTreeClassifier()\n",
    "\n",
    "# Train Decision Tree Classifer\n",
    "clf = clf.fit(X_train,y_train)\n",
    "\n",
    "#Predict the response for test dataset\n",
    "clf_pred = clf.predict(X_test)\n",
    "clf_ac=accuracy_score(y_test, clf_pred)\n",
    "print('Accuracy on training set:',clf.score(X_train,y_train))\n",
    "print('Accuracy on validation set:',clf.score(X_val,y_val))"
   ]
  },
  {
   "cell_type": "code",
   "execution_count": 25,
   "id": "c57adff0",
   "metadata": {},
   "outputs": [
    {
     "name": "stdout",
     "output_type": "stream",
     "text": [
      "Decision Tree: \n",
      " Accuracy: 0.7920 \n",
      " Precision: 0.6848 \n",
      " Recall: 0.6351 \n",
      " F1: 0.6590\n"
     ]
    }
   ],
   "source": [
    "print('Decision Tree: \\n Accuracy: %.4f \\n Precision: %.4f \\n Recall: %.4f \\n F1: %.4f' %\n",
    "        (accuracy(y_test, clf.predict(X_test)), \n",
    "         precision(y_test, clf.predict(X_test)), \n",
    "         recall(y_test, clf.predict(X_test)),\n",
    "         F1(y_test, clf.predict(X_test))\n",
    "        )\n",
    "     )"
   ]
  },
  {
   "cell_type": "markdown",
   "id": "1b577a25",
   "metadata": {},
   "source": [
    "### SVC"
   ]
  },
  {
   "cell_type": "code",
   "execution_count": 26,
   "id": "b924d9a2",
   "metadata": {},
   "outputs": [
    {
     "name": "stdout",
     "output_type": "stream",
     "text": [
      "Accuracy of training set:  0.7955\n",
      "Accuracy of training set:  0.795\n"
     ]
    }
   ],
   "source": [
    "svc_r=SVC(kernel='rbf', random_state=0, probability=True)\n",
    "svc_r.fit(X_train,y_train)\n",
    "svr_pred=svc_r.predict(X_test)\n",
    "svr_ac=accuracy_score(y_test, svr_pred)\n",
    "svr_val=svc_r.score(X_val,y_val)\n",
    "pred_prob1 = svc_r.predict_proba(X_test)\n",
    "print('Accuracy of training set: ', svr_ac)\n",
    "print('Accuracy of training set: ', svr_val)\n"
   ]
  },
  {
   "cell_type": "code",
   "execution_count": 27,
   "id": "ea49fd68",
   "metadata": {},
   "outputs": [
    {
     "name": "stdout",
     "output_type": "stream",
     "text": [
      "SVC: \n",
      " Accuracy: 0.7955 \n",
      " Precision: 0.7090 \n",
      " Recall: 0.6003 \n",
      " F1: 0.6501\n"
     ]
    }
   ],
   "source": [
    "print('SVC: \\n Accuracy: %.4f \\n Precision: %.4f \\n Recall: %.4f \\n F1: %.4f' %\n",
    "        (accuracy(y_test, svc_r.predict(X_test)), \n",
    "         precision(y_test, svc_r.predict(X_test)), \n",
    "         recall(y_test, svc_r.predict(X_test)),\n",
    "         F1(y_test, svc_r.predict(X_test))\n",
    "        )\n",
    "     )"
   ]
  },
  {
   "cell_type": "markdown",
   "id": "22812f82",
   "metadata": {},
   "source": [
    "### K-nearest nieghbours\n"
   ]
  },
  {
   "cell_type": "code",
   "execution_count": 28,
   "id": "a6bc82fb",
   "metadata": {},
   "outputs": [
    {
     "name": "stdout",
     "output_type": "stream",
     "text": [
      "Accuracy on training set: 0.78171875\n",
      "Accuracy on validation set: 0.763125\n"
     ]
    }
   ],
   "source": [
    "knn = KNeighborsClassifier()\n",
    "knn.fit(X_train,y_train)\n",
    "knn_pred = knn.predict(X_test)\n",
    "knn_val=clf.score(X_val,y_val)\n",
    "knn_ac=accuracy_score(y_test, knn_pred)\n",
    "print('Accuracy on training set:',knn.score(X_train,y_train))\n",
    "print('Accuracy on validation set:',knn.score(X_val,y_val))"
   ]
  },
  {
   "cell_type": "code",
   "execution_count": 29,
   "id": "764f71c4",
   "metadata": {},
   "outputs": [
    {
     "name": "stdout",
     "output_type": "stream",
     "text": [
      "K-nearest nieghbours: \n",
      " Accuracy: 0.7600 \n",
      " Precision: 0.6759 \n",
      " Recall: 0.4645 \n",
      " F1: 0.5506\n"
     ]
    }
   ],
   "source": [
    "print('K-nearest nieghbours: \\n Accuracy: %.4f \\n Precision: %.4f \\n Recall: %.4f \\n F1: %.4f' %\n",
    "        (accuracy(y_test, knn.predict(X_test)), \n",
    "         precision(y_test, knn.predict(X_test)), \n",
    "         recall(y_test, knn.predict(X_test)),\n",
    "         F1(y_test, knn.predict(X_test))\n",
    "        )\n",
    "     )"
   ]
  },
  {
   "cell_type": "markdown",
   "id": "6360e2fd",
   "metadata": {},
   "source": [
    "### AdaBoostClassifier"
   ]
  },
  {
   "cell_type": "code",
   "execution_count": 30,
   "id": "c6591cca",
   "metadata": {},
   "outputs": [
    {
     "name": "stdout",
     "output_type": "stream",
     "text": [
      "Accuracy on training set: 0.8\n",
      "Accuracy on validation set: 0.796875\n"
     ]
    }
   ],
   "source": [
    "abc = AdaBoostClassifier(n_estimators=50,learning_rate=1)\n",
    "# Train Adaboost Classifer\n",
    "abc.fit(X_train, y_train)\n",
    "\n",
    "#Predict the response for test dataset\n",
    "abc_pred = abc.predict(X_test)\n",
    "abc_ac=accuracy_score(y_test, abc_pred)\n",
    "print('Accuracy on training set:',abc.score(X_train,y_train))\n",
    "print('Accuracy on validation set:',abc.score(X_val,y_val))"
   ]
  },
  {
   "cell_type": "code",
   "execution_count": 31,
   "id": "efa24602",
   "metadata": {},
   "outputs": [
    {
     "name": "stdout",
     "output_type": "stream",
     "text": [
      "AdaBoostClassifier: \n",
      " Accuracy: 0.7990 \n",
      " Precision: 0.7200 \n",
      " Recall: 0.5972 \n",
      " F1: 0.6528\n"
     ]
    }
   ],
   "source": [
    "print('AdaBoostClassifier: \\n Accuracy: %.4f \\n Precision: %.4f \\n Recall: %.4f \\n F1: %.4f' %\n",
    "        (accuracy(y_test, abc.predict(X_test)), \n",
    "         precision(y_test, abc.predict(X_test)), \n",
    "         recall(y_test, abc.predict(X_test)),\n",
    "         F1(y_test, abc.predict(X_test))\n",
    "        )\n",
    "     )"
   ]
  },
  {
   "cell_type": "markdown",
   "id": "96e93053",
   "metadata": {},
   "source": [
    "### GradientBoostingClassifier"
   ]
  },
  {
   "cell_type": "code",
   "execution_count": 32,
   "id": "3bf12232",
   "metadata": {},
   "outputs": [
    {
     "name": "stdout",
     "output_type": "stream",
     "text": [
      "Accuracy score (training): 0.8128125\n",
      "Accuracy score (validation): 0.78875\n"
     ]
    }
   ],
   "source": [
    "gb_clf = GradientBoostingClassifier(n_estimators=100, max_depth=3,\n",
    "                               learning_rate=.71)\n",
    "gb_clf.fit(X_train, y_train)\n",
    "gb_clf_pred = gb_clf.predict(X_test)\n",
    "gb_clf_ac=accuracy_score(y_test, gb_clf_pred)\n",
    "print(\"Accuracy score (training):\" ,gb_clf.score(X_train, y_train))\n",
    "print(\"Accuracy score (validation):\",(gb_clf.score(X_val, y_val)))"
   ]
  },
  {
   "cell_type": "code",
   "execution_count": 33,
   "id": "b5cad2ac",
   "metadata": {},
   "outputs": [
    {
     "name": "stdout",
     "output_type": "stream",
     "text": [
      "GradientBoostingClassifier: \n",
      " Accuracy: 0.7940 \n",
      " Precision: 0.6908 \n",
      " Recall: 0.6319 \n",
      " F1: 0.6601\n"
     ]
    }
   ],
   "source": [
    "print('GradientBoostingClassifier: \\n Accuracy: %.4f \\n Precision: %.4f \\n Recall: %.4f \\n F1: %.4f' %\n",
    "        (accuracy(y_test, gb_clf.predict(X_test)), \n",
    "         precision(y_test, gb_clf.predict(X_test)), \n",
    "         recall(y_test, gb_clf.predict(X_test)),\n",
    "         F1(y_test, gb_clf.predict(X_test))\n",
    "        )\n",
    "     )"
   ]
  },
  {
   "cell_type": "markdown",
   "id": "dc266975",
   "metadata": {},
   "source": [
    "### XGBClassifier"
   ]
  },
  {
   "cell_type": "code",
   "execution_count": 34,
   "id": "05036d93",
   "metadata": {},
   "outputs": [],
   "source": [
    "#!pip install xgboost"
   ]
  },
  {
   "cell_type": "code",
   "execution_count": 35,
   "id": "96425be4",
   "metadata": {},
   "outputs": [
    {
     "name": "stderr",
     "output_type": "stream",
     "text": [
      "C:\\Users\\amira\\anaconda\\lib\\site-packages\\xgboost\\sklearn.py:1224: UserWarning: The use of label encoder in XGBClassifier is deprecated and will be removed in a future release. To remove this warning, do the following: 1) Pass option use_label_encoder=False when constructing XGBClassifier object; and 2) Encode your labels (y) as integers starting with 0, i.e. 0, 1, 2, ..., [num_class - 1].\n",
      "  warnings.warn(label_encoder_deprecation_msg, UserWarning)\n"
     ]
    },
    {
     "name": "stdout",
     "output_type": "stream",
     "text": [
      "[15:47:58] WARNING: C:/Users/Administrator/workspace/xgboost-win64_release_1.5.0/src/learner.cc:1115: Starting in XGBoost 1.3.0, the default evaluation metric used with the objective 'binary:logistic' was changed from 'error' to 'logloss'. Explicitly set eval_metric if you'd like to restore the old behavior.\n",
      "Accuracy score (training): 0.81328125\n",
      "Accuracy score (validation): 0.788125\n"
     ]
    }
   ],
   "source": [
    "from xgboost import XGBClassifier\n",
    "xgb_clf = XGBClassifier()\n",
    "xgb_clf.fit(X_train, y_train)\n",
    "xgb_clf_pred = xgb_clf.predict(X_test)\n",
    "xgb_clf_ac=accuracy_score(y_test, xgb_clf_pred)\n",
    "print(\"Accuracy score (training):\" ,xgb_clf.score(X_train, y_train))\n",
    "print(\"Accuracy score (validation):\",(xgb_clf.score(X_val, y_val)))"
   ]
  },
  {
   "cell_type": "code",
   "execution_count": 36,
   "id": "3bcb5af8",
   "metadata": {},
   "outputs": [
    {
     "name": "stdout",
     "output_type": "stream",
     "text": [
      "XGBClassifier: \n",
      " Accuracy: 0.7910 \n",
      " Precision: 0.6831 \n",
      " Recall: 0.6335 \n",
      " F1: 0.6574\n"
     ]
    }
   ],
   "source": [
    "print('XGBClassifier: \\n Accuracy: %.4f \\n Precision: %.4f \\n Recall: %.4f \\n F1: %.4f' %\n",
    "        (accuracy(y_test, xgb_clf.predict(X_test)), \n",
    "         precision(y_test, xgb_clf.predict(X_test)), \n",
    "         recall(y_test, xgb_clf.predict(X_test)),\n",
    "         F1(y_test, xgb_clf.predict(X_test))\n",
    "        )\n",
    "     )"
   ]
  },
  {
   "cell_type": "markdown",
   "id": "3e7d6c70",
   "metadata": {},
   "source": [
    "### CatBoostRegressor"
   ]
  },
  {
   "cell_type": "code",
   "execution_count": 37,
   "id": "6d1be11a",
   "metadata": {},
   "outputs": [],
   "source": [
    "#!pip install catboost"
   ]
  },
  {
   "cell_type": "code",
   "execution_count": 38,
   "id": "465fe336",
   "metadata": {},
   "outputs": [
    {
     "name": "stdout",
     "output_type": "stream",
     "text": [
      "Learning rate set to 0.02276\n",
      "0:\tlearn: 0.6765566\ttotal: 151ms\tremaining: 2m 31s\n",
      "1:\tlearn: 0.6606576\ttotal: 156ms\tremaining: 1m 17s\n",
      "2:\tlearn: 0.6467184\ttotal: 161ms\tremaining: 53.4s\n",
      "3:\tlearn: 0.6328466\ttotal: 164ms\tremaining: 40.9s\n",
      "4:\tlearn: 0.6198457\ttotal: 168ms\tremaining: 33.4s\n",
      "5:\tlearn: 0.6069685\ttotal: 172ms\tremaining: 28.4s\n",
      "6:\tlearn: 0.5954530\ttotal: 176ms\tremaining: 24.9s\n",
      "7:\tlearn: 0.5848017\ttotal: 179ms\tremaining: 22.3s\n",
      "8:\tlearn: 0.5751770\ttotal: 184ms\tremaining: 20.2s\n",
      "9:\tlearn: 0.5655299\ttotal: 187ms\tremaining: 18.5s\n",
      "10:\tlearn: 0.5561587\ttotal: 191ms\tremaining: 17.2s\n",
      "11:\tlearn: 0.5475585\ttotal: 195ms\tremaining: 16.1s\n",
      "12:\tlearn: 0.5395506\ttotal: 200ms\tremaining: 15.1s\n",
      "13:\tlearn: 0.5318652\ttotal: 205ms\tremaining: 14.4s\n",
      "14:\tlearn: 0.5248415\ttotal: 209ms\tremaining: 13.7s\n",
      "15:\tlearn: 0.5181161\ttotal: 213ms\tremaining: 13.1s\n",
      "16:\tlearn: 0.5117052\ttotal: 217ms\tremaining: 12.5s\n",
      "17:\tlearn: 0.5056633\ttotal: 221ms\tremaining: 12.1s\n",
      "18:\tlearn: 0.5005181\ttotal: 225ms\tremaining: 11.6s\n",
      "19:\tlearn: 0.4961501\ttotal: 228ms\tremaining: 11.2s\n",
      "20:\tlearn: 0.4912273\ttotal: 232ms\tremaining: 10.8s\n",
      "21:\tlearn: 0.4864351\ttotal: 235ms\tremaining: 10.5s\n",
      "22:\tlearn: 0.4820754\ttotal: 239ms\tremaining: 10.2s\n",
      "23:\tlearn: 0.4779234\ttotal: 243ms\tremaining: 9.88s\n",
      "24:\tlearn: 0.4741718\ttotal: 247ms\tremaining: 9.62s\n",
      "25:\tlearn: 0.4707327\ttotal: 250ms\tremaining: 9.37s\n",
      "26:\tlearn: 0.4679065\ttotal: 254ms\tremaining: 9.14s\n",
      "27:\tlearn: 0.4646795\ttotal: 257ms\tremaining: 8.92s\n",
      "28:\tlearn: 0.4616757\ttotal: 261ms\tremaining: 8.73s\n",
      "29:\tlearn: 0.4587094\ttotal: 265ms\tremaining: 8.55s\n",
      "30:\tlearn: 0.4559875\ttotal: 269ms\tremaining: 8.4s\n",
      "31:\tlearn: 0.4534460\ttotal: 273ms\tremaining: 8.25s\n",
      "32:\tlearn: 0.4510786\ttotal: 277ms\tremaining: 8.12s\n",
      "33:\tlearn: 0.4488485\ttotal: 281ms\tremaining: 7.98s\n",
      "34:\tlearn: 0.4466760\ttotal: 285ms\tremaining: 7.86s\n",
      "35:\tlearn: 0.4443748\ttotal: 290ms\tremaining: 7.76s\n",
      "36:\tlearn: 0.4427390\ttotal: 293ms\tremaining: 7.63s\n",
      "37:\tlearn: 0.4410168\ttotal: 298ms\tremaining: 7.54s\n",
      "38:\tlearn: 0.4392815\ttotal: 302ms\tremaining: 7.44s\n",
      "39:\tlearn: 0.4376760\ttotal: 306ms\tremaining: 7.35s\n",
      "40:\tlearn: 0.4363086\ttotal: 310ms\tremaining: 7.25s\n",
      "41:\tlearn: 0.4346358\ttotal: 314ms\tremaining: 7.17s\n",
      "42:\tlearn: 0.4330503\ttotal: 319ms\tremaining: 7.1s\n",
      "43:\tlearn: 0.4315906\ttotal: 323ms\tremaining: 7.02s\n",
      "44:\tlearn: 0.4305615\ttotal: 326ms\tremaining: 6.92s\n",
      "45:\tlearn: 0.4296616\ttotal: 331ms\tremaining: 6.86s\n",
      "46:\tlearn: 0.4283035\ttotal: 335ms\tremaining: 6.79s\n",
      "47:\tlearn: 0.4277473\ttotal: 338ms\tremaining: 6.7s\n",
      "48:\tlearn: 0.4266576\ttotal: 342ms\tremaining: 6.64s\n",
      "49:\tlearn: 0.4256409\ttotal: 347ms\tremaining: 6.6s\n",
      "50:\tlearn: 0.4248301\ttotal: 352ms\tremaining: 6.54s\n",
      "51:\tlearn: 0.4239233\ttotal: 357ms\tremaining: 6.5s\n",
      "52:\tlearn: 0.4230010\ttotal: 362ms\tremaining: 6.46s\n",
      "53:\tlearn: 0.4220005\ttotal: 366ms\tremaining: 6.42s\n",
      "54:\tlearn: 0.4215090\ttotal: 369ms\tremaining: 6.34s\n",
      "55:\tlearn: 0.4210419\ttotal: 372ms\tremaining: 6.28s\n",
      "56:\tlearn: 0.4204321\ttotal: 376ms\tremaining: 6.21s\n",
      "57:\tlearn: 0.4197516\ttotal: 380ms\tremaining: 6.17s\n",
      "58:\tlearn: 0.4190933\ttotal: 384ms\tremaining: 6.12s\n",
      "59:\tlearn: 0.4184130\ttotal: 388ms\tremaining: 6.08s\n",
      "60:\tlearn: 0.4178000\ttotal: 392ms\tremaining: 6.04s\n",
      "61:\tlearn: 0.4170221\ttotal: 397ms\tremaining: 6s\n",
      "62:\tlearn: 0.4167772\ttotal: 400ms\tremaining: 5.95s\n",
      "63:\tlearn: 0.4161369\ttotal: 404ms\tremaining: 5.91s\n",
      "64:\tlearn: 0.4156005\ttotal: 408ms\tremaining: 5.87s\n",
      "65:\tlearn: 0.4151603\ttotal: 412ms\tremaining: 5.83s\n",
      "66:\tlearn: 0.4146978\ttotal: 416ms\tremaining: 5.8s\n",
      "67:\tlearn: 0.4141647\ttotal: 421ms\tremaining: 5.76s\n",
      "68:\tlearn: 0.4135717\ttotal: 425ms\tremaining: 5.73s\n",
      "69:\tlearn: 0.4130814\ttotal: 428ms\tremaining: 5.69s\n",
      "70:\tlearn: 0.4125706\ttotal: 432ms\tremaining: 5.65s\n",
      "71:\tlearn: 0.4120744\ttotal: 435ms\tremaining: 5.61s\n",
      "72:\tlearn: 0.4117180\ttotal: 439ms\tremaining: 5.57s\n",
      "73:\tlearn: 0.4112752\ttotal: 441ms\tremaining: 5.52s\n",
      "74:\tlearn: 0.4110192\ttotal: 444ms\tremaining: 5.47s\n",
      "75:\tlearn: 0.4107860\ttotal: 446ms\tremaining: 5.42s\n",
      "76:\tlearn: 0.4103399\ttotal: 448ms\tremaining: 5.37s\n",
      "77:\tlearn: 0.4100752\ttotal: 450ms\tremaining: 5.32s\n",
      "78:\tlearn: 0.4096882\ttotal: 452ms\tremaining: 5.27s\n",
      "79:\tlearn: 0.4094452\ttotal: 454ms\tremaining: 5.22s\n",
      "80:\tlearn: 0.4091762\ttotal: 456ms\tremaining: 5.17s\n",
      "81:\tlearn: 0.4089234\ttotal: 458ms\tremaining: 5.13s\n",
      "82:\tlearn: 0.4085791\ttotal: 460ms\tremaining: 5.08s\n",
      "83:\tlearn: 0.4083194\ttotal: 462ms\tremaining: 5.04s\n",
      "84:\tlearn: 0.4080535\ttotal: 464ms\tremaining: 4.99s\n",
      "85:\tlearn: 0.4077954\ttotal: 466ms\tremaining: 4.95s\n",
      "86:\tlearn: 0.4076527\ttotal: 467ms\tremaining: 4.9s\n",
      "87:\tlearn: 0.4074221\ttotal: 469ms\tremaining: 4.86s\n",
      "88:\tlearn: 0.4072073\ttotal: 470ms\tremaining: 4.82s\n",
      "89:\tlearn: 0.4070184\ttotal: 472ms\tremaining: 4.77s\n",
      "90:\tlearn: 0.4067873\ttotal: 474ms\tremaining: 4.73s\n",
      "91:\tlearn: 0.4065803\ttotal: 475ms\tremaining: 4.69s\n",
      "92:\tlearn: 0.4065215\ttotal: 477ms\tremaining: 4.65s\n",
      "93:\tlearn: 0.4062421\ttotal: 478ms\tremaining: 4.61s\n",
      "94:\tlearn: 0.4059775\ttotal: 480ms\tremaining: 4.57s\n",
      "95:\tlearn: 0.4058846\ttotal: 481ms\tremaining: 4.53s\n",
      "96:\tlearn: 0.4057975\ttotal: 482ms\tremaining: 4.49s\n",
      "97:\tlearn: 0.4057438\ttotal: 484ms\tremaining: 4.45s\n",
      "98:\tlearn: 0.4056158\ttotal: 485ms\tremaining: 4.42s\n",
      "99:\tlearn: 0.4054538\ttotal: 487ms\tremaining: 4.38s\n",
      "100:\tlearn: 0.4052872\ttotal: 488ms\tremaining: 4.35s\n",
      "101:\tlearn: 0.4050425\ttotal: 490ms\tremaining: 4.31s\n",
      "102:\tlearn: 0.4049183\ttotal: 492ms\tremaining: 4.28s\n",
      "103:\tlearn: 0.4047955\ttotal: 493ms\tremaining: 4.25s\n",
      "104:\tlearn: 0.4046662\ttotal: 495ms\tremaining: 4.22s\n",
      "105:\tlearn: 0.4045361\ttotal: 497ms\tremaining: 4.19s\n",
      "106:\tlearn: 0.4042927\ttotal: 498ms\tremaining: 4.16s\n",
      "107:\tlearn: 0.4041647\ttotal: 500ms\tremaining: 4.13s\n",
      "108:\tlearn: 0.4039539\ttotal: 502ms\tremaining: 4.1s\n",
      "109:\tlearn: 0.4037207\ttotal: 503ms\tremaining: 4.07s\n",
      "110:\tlearn: 0.4036047\ttotal: 505ms\tremaining: 4.04s\n",
      "111:\tlearn: 0.4035191\ttotal: 507ms\tremaining: 4.02s\n",
      "112:\tlearn: 0.4033947\ttotal: 508ms\tremaining: 3.99s\n",
      "113:\tlearn: 0.4033797\ttotal: 510ms\tremaining: 3.96s\n",
      "114:\tlearn: 0.4033449\ttotal: 511ms\tremaining: 3.93s\n",
      "115:\tlearn: 0.4032388\ttotal: 512ms\tremaining: 3.9s\n",
      "116:\tlearn: 0.4030846\ttotal: 514ms\tremaining: 3.88s\n",
      "117:\tlearn: 0.4029464\ttotal: 516ms\tremaining: 3.85s\n",
      "118:\tlearn: 0.4028334\ttotal: 517ms\tremaining: 3.83s\n",
      "119:\tlearn: 0.4026574\ttotal: 519ms\tremaining: 3.81s\n",
      "120:\tlearn: 0.4025521\ttotal: 521ms\tremaining: 3.78s\n",
      "121:\tlearn: 0.4024100\ttotal: 523ms\tremaining: 3.76s\n",
      "122:\tlearn: 0.4022921\ttotal: 524ms\tremaining: 3.74s\n",
      "123:\tlearn: 0.4021889\ttotal: 526ms\tremaining: 3.71s\n",
      "124:\tlearn: 0.4020670\ttotal: 528ms\tremaining: 3.69s\n",
      "125:\tlearn: 0.4019826\ttotal: 529ms\tremaining: 3.67s\n",
      "126:\tlearn: 0.4019278\ttotal: 531ms\tremaining: 3.65s\n",
      "127:\tlearn: 0.4018144\ttotal: 532ms\tremaining: 3.63s\n",
      "128:\tlearn: 0.4017479\ttotal: 534ms\tremaining: 3.61s\n",
      "129:\tlearn: 0.4016348\ttotal: 536ms\tremaining: 3.59s\n",
      "130:\tlearn: 0.4015107\ttotal: 538ms\tremaining: 3.57s\n",
      "131:\tlearn: 0.4014671\ttotal: 540ms\tremaining: 3.55s\n",
      "132:\tlearn: 0.4013654\ttotal: 542ms\tremaining: 3.54s\n",
      "133:\tlearn: 0.4012691\ttotal: 545ms\tremaining: 3.52s\n",
      "134:\tlearn: 0.4012170\ttotal: 547ms\tremaining: 3.5s\n",
      "135:\tlearn: 0.4012173\ttotal: 549ms\tremaining: 3.48s\n",
      "136:\tlearn: 0.4011033\ttotal: 551ms\tremaining: 3.47s\n",
      "137:\tlearn: 0.4009909\ttotal: 553ms\tremaining: 3.46s\n",
      "138:\tlearn: 0.4009427\ttotal: 556ms\tremaining: 3.44s\n",
      "139:\tlearn: 0.4008470\ttotal: 558ms\tremaining: 3.43s\n",
      "140:\tlearn: 0.4007085\ttotal: 561ms\tremaining: 3.42s\n",
      "141:\tlearn: 0.4006190\ttotal: 564ms\tremaining: 3.4s\n",
      "142:\tlearn: 0.4005568\ttotal: 567ms\tremaining: 3.4s\n",
      "143:\tlearn: 0.4004808\ttotal: 569ms\tremaining: 3.38s\n",
      "144:\tlearn: 0.4004111\ttotal: 571ms\tremaining: 3.37s\n",
      "145:\tlearn: 0.4003554\ttotal: 574ms\tremaining: 3.35s\n",
      "146:\tlearn: 0.4003415\ttotal: 575ms\tremaining: 3.34s\n",
      "147:\tlearn: 0.4002478\ttotal: 577ms\tremaining: 3.32s\n",
      "148:\tlearn: 0.4002276\ttotal: 579ms\tremaining: 3.31s\n",
      "149:\tlearn: 0.4002060\ttotal: 582ms\tremaining: 3.29s\n",
      "150:\tlearn: 0.4001975\ttotal: 584ms\tremaining: 3.28s\n",
      "151:\tlearn: 0.4001596\ttotal: 587ms\tremaining: 3.27s\n",
      "152:\tlearn: 0.4000075\ttotal: 589ms\tremaining: 3.26s\n",
      "153:\tlearn: 0.3999858\ttotal: 591ms\tremaining: 3.25s\n",
      "154:\tlearn: 0.3999309\ttotal: 594ms\tremaining: 3.24s\n",
      "155:\tlearn: 0.3998447\ttotal: 596ms\tremaining: 3.23s\n",
      "156:\tlearn: 0.3997820\ttotal: 599ms\tremaining: 3.21s\n",
      "157:\tlearn: 0.3997426\ttotal: 602ms\tremaining: 3.21s\n",
      "158:\tlearn: 0.3997269\ttotal: 604ms\tremaining: 3.19s\n",
      "159:\tlearn: 0.3997086\ttotal: 606ms\tremaining: 3.18s\n",
      "160:\tlearn: 0.3996925\ttotal: 607ms\tremaining: 3.17s\n",
      "161:\tlearn: 0.3996777\ttotal: 609ms\tremaining: 3.15s\n",
      "162:\tlearn: 0.3996376\ttotal: 611ms\tremaining: 3.14s\n",
      "163:\tlearn: 0.3996172\ttotal: 613ms\tremaining: 3.12s\n",
      "164:\tlearn: 0.3995697\ttotal: 615ms\tremaining: 3.11s\n",
      "165:\tlearn: 0.3994569\ttotal: 617ms\tremaining: 3.1s\n",
      "166:\tlearn: 0.3994207\ttotal: 618ms\tremaining: 3.08s\n",
      "167:\tlearn: 0.3993423\ttotal: 620ms\tremaining: 3.07s\n",
      "168:\tlearn: 0.3993044\ttotal: 622ms\tremaining: 3.06s\n",
      "169:\tlearn: 0.3992992\ttotal: 623ms\tremaining: 3.04s\n",
      "170:\tlearn: 0.3992687\ttotal: 625ms\tremaining: 3.03s\n",
      "171:\tlearn: 0.3992297\ttotal: 627ms\tremaining: 3.02s\n",
      "172:\tlearn: 0.3991394\ttotal: 629ms\tremaining: 3s\n",
      "173:\tlearn: 0.3991184\ttotal: 630ms\tremaining: 2.99s\n",
      "174:\tlearn: 0.3991119\ttotal: 632ms\tremaining: 2.98s\n",
      "175:\tlearn: 0.3990346\ttotal: 634ms\tremaining: 2.97s\n",
      "176:\tlearn: 0.3988961\ttotal: 636ms\tremaining: 2.96s\n",
      "177:\tlearn: 0.3988892\ttotal: 637ms\tremaining: 2.94s\n",
      "178:\tlearn: 0.3987502\ttotal: 639ms\tremaining: 2.93s\n",
      "179:\tlearn: 0.3987061\ttotal: 641ms\tremaining: 2.92s\n",
      "180:\tlearn: 0.3986515\ttotal: 642ms\tremaining: 2.9s\n",
      "181:\tlearn: 0.3986201\ttotal: 644ms\tremaining: 2.89s\n",
      "182:\tlearn: 0.3985622\ttotal: 646ms\tremaining: 2.88s\n",
      "183:\tlearn: 0.3985444\ttotal: 647ms\tremaining: 2.87s\n",
      "184:\tlearn: 0.3984936\ttotal: 649ms\tremaining: 2.86s\n",
      "185:\tlearn: 0.3984627\ttotal: 651ms\tremaining: 2.85s\n",
      "186:\tlearn: 0.3984629\ttotal: 652ms\tremaining: 2.83s\n",
      "187:\tlearn: 0.3984121\ttotal: 654ms\tremaining: 2.82s\n",
      "188:\tlearn: 0.3983698\ttotal: 655ms\tremaining: 2.81s\n",
      "189:\tlearn: 0.3983368\ttotal: 657ms\tremaining: 2.8s\n",
      "190:\tlearn: 0.3983211\ttotal: 659ms\tremaining: 2.79s\n",
      "191:\tlearn: 0.3982738\ttotal: 660ms\tremaining: 2.78s\n",
      "192:\tlearn: 0.3982705\ttotal: 662ms\tremaining: 2.77s\n",
      "193:\tlearn: 0.3981117\ttotal: 664ms\tremaining: 2.76s\n",
      "194:\tlearn: 0.3981071\ttotal: 665ms\tremaining: 2.75s\n",
      "195:\tlearn: 0.3980059\ttotal: 667ms\tremaining: 2.73s\n",
      "196:\tlearn: 0.3979630\ttotal: 669ms\tremaining: 2.73s\n",
      "197:\tlearn: 0.3979169\ttotal: 670ms\tremaining: 2.71s\n",
      "198:\tlearn: 0.3978341\ttotal: 672ms\tremaining: 2.71s\n",
      "199:\tlearn: 0.3977654\ttotal: 674ms\tremaining: 2.69s\n",
      "200:\tlearn: 0.3977356\ttotal: 676ms\tremaining: 2.69s\n",
      "201:\tlearn: 0.3976177\ttotal: 677ms\tremaining: 2.68s\n",
      "202:\tlearn: 0.3976094\ttotal: 679ms\tremaining: 2.66s\n",
      "203:\tlearn: 0.3974869\ttotal: 680ms\tremaining: 2.65s\n",
      "204:\tlearn: 0.3974153\ttotal: 682ms\tremaining: 2.65s\n",
      "205:\tlearn: 0.3973882\ttotal: 684ms\tremaining: 2.63s\n",
      "206:\tlearn: 0.3972952\ttotal: 686ms\tremaining: 2.63s\n",
      "207:\tlearn: 0.3972374\ttotal: 687ms\tremaining: 2.62s\n",
      "208:\tlearn: 0.3971513\ttotal: 689ms\tremaining: 2.61s\n",
      "209:\tlearn: 0.3970919\ttotal: 691ms\tremaining: 2.6s\n",
      "210:\tlearn: 0.3970652\ttotal: 693ms\tremaining: 2.59s\n",
      "211:\tlearn: 0.3970311\ttotal: 694ms\tremaining: 2.58s\n",
      "212:\tlearn: 0.3970034\ttotal: 696ms\tremaining: 2.57s\n",
      "213:\tlearn: 0.3968493\ttotal: 698ms\tremaining: 2.56s\n",
      "214:\tlearn: 0.3967251\ttotal: 700ms\tremaining: 2.55s\n",
      "215:\tlearn: 0.3966650\ttotal: 701ms\tremaining: 2.54s\n",
      "216:\tlearn: 0.3966126\ttotal: 703ms\tremaining: 2.54s\n",
      "217:\tlearn: 0.3965729\ttotal: 705ms\tremaining: 2.53s\n"
     ]
    },
    {
     "name": "stdout",
     "output_type": "stream",
     "text": [
      "218:\tlearn: 0.3965707\ttotal: 706ms\tremaining: 2.52s\n",
      "219:\tlearn: 0.3965398\ttotal: 709ms\tremaining: 2.51s\n",
      "220:\tlearn: 0.3965375\ttotal: 710ms\tremaining: 2.5s\n",
      "221:\tlearn: 0.3965141\ttotal: 712ms\tremaining: 2.5s\n",
      "222:\tlearn: 0.3964927\ttotal: 714ms\tremaining: 2.49s\n",
      "223:\tlearn: 0.3964793\ttotal: 716ms\tremaining: 2.48s\n",
      "224:\tlearn: 0.3964748\ttotal: 718ms\tremaining: 2.47s\n",
      "225:\tlearn: 0.3964227\ttotal: 720ms\tremaining: 2.47s\n",
      "226:\tlearn: 0.3964220\ttotal: 722ms\tremaining: 2.46s\n",
      "227:\tlearn: 0.3963644\ttotal: 724ms\tremaining: 2.45s\n",
      "228:\tlearn: 0.3963063\ttotal: 727ms\tremaining: 2.45s\n",
      "229:\tlearn: 0.3962840\ttotal: 729ms\tremaining: 2.44s\n",
      "230:\tlearn: 0.3962285\ttotal: 730ms\tremaining: 2.43s\n",
      "231:\tlearn: 0.3961762\ttotal: 732ms\tremaining: 2.42s\n",
      "232:\tlearn: 0.3960768\ttotal: 734ms\tremaining: 2.42s\n",
      "233:\tlearn: 0.3960362\ttotal: 735ms\tremaining: 2.41s\n",
      "234:\tlearn: 0.3959921\ttotal: 737ms\tremaining: 2.4s\n",
      "235:\tlearn: 0.3959738\ttotal: 739ms\tremaining: 2.39s\n",
      "236:\tlearn: 0.3959442\ttotal: 741ms\tremaining: 2.38s\n",
      "237:\tlearn: 0.3959099\ttotal: 743ms\tremaining: 2.38s\n",
      "238:\tlearn: 0.3959026\ttotal: 744ms\tremaining: 2.37s\n",
      "239:\tlearn: 0.3958754\ttotal: 746ms\tremaining: 2.36s\n",
      "240:\tlearn: 0.3958633\ttotal: 747ms\tremaining: 2.35s\n",
      "241:\tlearn: 0.3958160\ttotal: 749ms\tremaining: 2.35s\n",
      "242:\tlearn: 0.3958128\ttotal: 750ms\tremaining: 2.34s\n",
      "243:\tlearn: 0.3957859\ttotal: 752ms\tremaining: 2.33s\n",
      "244:\tlearn: 0.3957240\ttotal: 754ms\tremaining: 2.32s\n",
      "245:\tlearn: 0.3957136\ttotal: 755ms\tremaining: 2.31s\n",
      "246:\tlearn: 0.3956858\ttotal: 757ms\tremaining: 2.31s\n",
      "247:\tlearn: 0.3956627\ttotal: 759ms\tremaining: 2.3s\n",
      "248:\tlearn: 0.3956244\ttotal: 761ms\tremaining: 2.29s\n",
      "249:\tlearn: 0.3956224\ttotal: 762ms\tremaining: 2.29s\n",
      "250:\tlearn: 0.3956218\ttotal: 763ms\tremaining: 2.28s\n",
      "251:\tlearn: 0.3956131\ttotal: 765ms\tremaining: 2.27s\n",
      "252:\tlearn: 0.3955785\ttotal: 767ms\tremaining: 2.26s\n",
      "253:\tlearn: 0.3955382\ttotal: 768ms\tremaining: 2.26s\n",
      "254:\tlearn: 0.3954834\ttotal: 770ms\tremaining: 2.25s\n",
      "255:\tlearn: 0.3954488\ttotal: 772ms\tremaining: 2.24s\n",
      "256:\tlearn: 0.3954368\ttotal: 774ms\tremaining: 2.24s\n",
      "257:\tlearn: 0.3953875\ttotal: 775ms\tremaining: 2.23s\n",
      "258:\tlearn: 0.3953650\ttotal: 777ms\tremaining: 2.22s\n",
      "259:\tlearn: 0.3953174\ttotal: 779ms\tremaining: 2.22s\n",
      "260:\tlearn: 0.3952881\ttotal: 781ms\tremaining: 2.21s\n",
      "261:\tlearn: 0.3952592\ttotal: 782ms\tremaining: 2.2s\n",
      "262:\tlearn: 0.3952329\ttotal: 784ms\tremaining: 2.2s\n",
      "263:\tlearn: 0.3952161\ttotal: 786ms\tremaining: 2.19s\n",
      "264:\tlearn: 0.3951609\ttotal: 788ms\tremaining: 2.19s\n",
      "265:\tlearn: 0.3951454\ttotal: 790ms\tremaining: 2.18s\n",
      "266:\tlearn: 0.3951146\ttotal: 791ms\tremaining: 2.17s\n",
      "267:\tlearn: 0.3951033\ttotal: 793ms\tremaining: 2.17s\n",
      "268:\tlearn: 0.3950871\ttotal: 795ms\tremaining: 2.16s\n",
      "269:\tlearn: 0.3950714\ttotal: 797ms\tremaining: 2.15s\n",
      "270:\tlearn: 0.3950666\ttotal: 798ms\tremaining: 2.15s\n",
      "271:\tlearn: 0.3950584\ttotal: 800ms\tremaining: 2.14s\n",
      "272:\tlearn: 0.3950326\ttotal: 802ms\tremaining: 2.13s\n",
      "273:\tlearn: 0.3950132\ttotal: 804ms\tremaining: 2.13s\n",
      "274:\tlearn: 0.3950056\ttotal: 805ms\tremaining: 2.12s\n",
      "275:\tlearn: 0.3949815\ttotal: 807ms\tremaining: 2.12s\n",
      "276:\tlearn: 0.3949688\ttotal: 809ms\tremaining: 2.11s\n",
      "277:\tlearn: 0.3949191\ttotal: 811ms\tremaining: 2.1s\n",
      "278:\tlearn: 0.3948766\ttotal: 813ms\tremaining: 2.1s\n",
      "279:\tlearn: 0.3948376\ttotal: 814ms\tremaining: 2.09s\n",
      "280:\tlearn: 0.3947901\ttotal: 816ms\tremaining: 2.09s\n",
      "281:\tlearn: 0.3947795\ttotal: 818ms\tremaining: 2.08s\n",
      "282:\tlearn: 0.3947783\ttotal: 819ms\tremaining: 2.08s\n",
      "283:\tlearn: 0.3947166\ttotal: 821ms\tremaining: 2.07s\n",
      "284:\tlearn: 0.3947157\ttotal: 822ms\tremaining: 2.06s\n",
      "285:\tlearn: 0.3946918\ttotal: 824ms\tremaining: 2.06s\n",
      "286:\tlearn: 0.3946899\ttotal: 825ms\tremaining: 2.05s\n",
      "287:\tlearn: 0.3946244\ttotal: 827ms\tremaining: 2.04s\n",
      "288:\tlearn: 0.3946223\ttotal: 829ms\tremaining: 2.04s\n",
      "289:\tlearn: 0.3945978\ttotal: 830ms\tremaining: 2.03s\n",
      "290:\tlearn: 0.3945950\ttotal: 832ms\tremaining: 2.03s\n",
      "291:\tlearn: 0.3945935\ttotal: 833ms\tremaining: 2.02s\n",
      "292:\tlearn: 0.3945896\ttotal: 835ms\tremaining: 2.01s\n",
      "293:\tlearn: 0.3945641\ttotal: 837ms\tremaining: 2.01s\n",
      "294:\tlearn: 0.3945136\ttotal: 838ms\tremaining: 2s\n",
      "295:\tlearn: 0.3945141\ttotal: 840ms\tremaining: 2s\n",
      "296:\tlearn: 0.3944637\ttotal: 841ms\tremaining: 1.99s\n",
      "297:\tlearn: 0.3944627\ttotal: 843ms\tremaining: 1.99s\n",
      "298:\tlearn: 0.3944413\ttotal: 844ms\tremaining: 1.98s\n",
      "299:\tlearn: 0.3944373\ttotal: 846ms\tremaining: 1.97s\n",
      "300:\tlearn: 0.3944008\ttotal: 848ms\tremaining: 1.97s\n",
      "301:\tlearn: 0.3943541\ttotal: 850ms\tremaining: 1.96s\n",
      "302:\tlearn: 0.3942771\ttotal: 851ms\tremaining: 1.96s\n",
      "303:\tlearn: 0.3942533\ttotal: 853ms\tremaining: 1.95s\n",
      "304:\tlearn: 0.3941508\ttotal: 855ms\tremaining: 1.95s\n",
      "305:\tlearn: 0.3941508\ttotal: 856ms\tremaining: 1.94s\n",
      "306:\tlearn: 0.3941257\ttotal: 858ms\tremaining: 1.94s\n",
      "307:\tlearn: 0.3941217\ttotal: 860ms\tremaining: 1.93s\n",
      "308:\tlearn: 0.3940974\ttotal: 861ms\tremaining: 1.93s\n",
      "309:\tlearn: 0.3939925\ttotal: 863ms\tremaining: 1.92s\n",
      "310:\tlearn: 0.3939500\ttotal: 865ms\tremaining: 1.92s\n",
      "311:\tlearn: 0.3939323\ttotal: 867ms\tremaining: 1.91s\n",
      "312:\tlearn: 0.3938992\ttotal: 869ms\tremaining: 1.91s\n",
      "313:\tlearn: 0.3938797\ttotal: 871ms\tremaining: 1.9s\n",
      "314:\tlearn: 0.3938153\ttotal: 873ms\tremaining: 1.9s\n",
      "315:\tlearn: 0.3937717\ttotal: 874ms\tremaining: 1.89s\n",
      "316:\tlearn: 0.3937092\ttotal: 876ms\tremaining: 1.89s\n",
      "317:\tlearn: 0.3937100\ttotal: 877ms\tremaining: 1.88s\n",
      "318:\tlearn: 0.3937008\ttotal: 879ms\tremaining: 1.88s\n",
      "319:\tlearn: 0.3936969\ttotal: 881ms\tremaining: 1.87s\n",
      "320:\tlearn: 0.3936801\ttotal: 882ms\tremaining: 1.87s\n",
      "321:\tlearn: 0.3936293\ttotal: 884ms\tremaining: 1.86s\n",
      "322:\tlearn: 0.3936268\ttotal: 885ms\tremaining: 1.85s\n",
      "323:\tlearn: 0.3936057\ttotal: 887ms\tremaining: 1.85s\n",
      "324:\tlearn: 0.3935885\ttotal: 889ms\tremaining: 1.84s\n",
      "325:\tlearn: 0.3935586\ttotal: 890ms\tremaining: 1.84s\n",
      "326:\tlearn: 0.3935585\ttotal: 892ms\tremaining: 1.83s\n",
      "327:\tlearn: 0.3935416\ttotal: 894ms\tremaining: 1.83s\n",
      "328:\tlearn: 0.3935121\ttotal: 896ms\tremaining: 1.83s\n",
      "329:\tlearn: 0.3934852\ttotal: 898ms\tremaining: 1.82s\n",
      "330:\tlearn: 0.3934557\ttotal: 901ms\tremaining: 1.82s\n",
      "331:\tlearn: 0.3934453\ttotal: 903ms\tremaining: 1.82s\n",
      "332:\tlearn: 0.3934077\ttotal: 905ms\tremaining: 1.81s\n",
      "333:\tlearn: 0.3934013\ttotal: 906ms\tremaining: 1.81s\n",
      "334:\tlearn: 0.3933820\ttotal: 908ms\tremaining: 1.8s\n",
      "335:\tlearn: 0.3933528\ttotal: 910ms\tremaining: 1.8s\n",
      "336:\tlearn: 0.3933509\ttotal: 911ms\tremaining: 1.79s\n",
      "337:\tlearn: 0.3932539\ttotal: 913ms\tremaining: 1.79s\n",
      "338:\tlearn: 0.3932214\ttotal: 915ms\tremaining: 1.78s\n",
      "339:\tlearn: 0.3931742\ttotal: 918ms\tremaining: 1.78s\n",
      "340:\tlearn: 0.3931557\ttotal: 920ms\tremaining: 1.78s\n",
      "341:\tlearn: 0.3931314\ttotal: 922ms\tremaining: 1.77s\n",
      "342:\tlearn: 0.3930287\ttotal: 924ms\tremaining: 1.77s\n",
      "343:\tlearn: 0.3929476\ttotal: 926ms\tremaining: 1.76s\n",
      "344:\tlearn: 0.3929145\ttotal: 928ms\tremaining: 1.76s\n",
      "345:\tlearn: 0.3929145\ttotal: 929ms\tremaining: 1.76s\n",
      "346:\tlearn: 0.3929121\ttotal: 931ms\tremaining: 1.75s\n",
      "347:\tlearn: 0.3929049\ttotal: 933ms\tremaining: 1.75s\n",
      "348:\tlearn: 0.3928615\ttotal: 935ms\tremaining: 1.74s\n",
      "349:\tlearn: 0.3928491\ttotal: 936ms\tremaining: 1.74s\n",
      "350:\tlearn: 0.3928191\ttotal: 938ms\tremaining: 1.73s\n",
      "351:\tlearn: 0.3927608\ttotal: 940ms\tremaining: 1.73s\n",
      "352:\tlearn: 0.3927570\ttotal: 941ms\tremaining: 1.73s\n",
      "353:\tlearn: 0.3927487\ttotal: 943ms\tremaining: 1.72s\n",
      "354:\tlearn: 0.3926999\ttotal: 945ms\tremaining: 1.72s\n",
      "355:\tlearn: 0.3926943\ttotal: 947ms\tremaining: 1.71s\n",
      "356:\tlearn: 0.3926850\ttotal: 949ms\tremaining: 1.71s\n",
      "357:\tlearn: 0.3926447\ttotal: 950ms\tremaining: 1.7s\n",
      "358:\tlearn: 0.3926334\ttotal: 952ms\tremaining: 1.7s\n",
      "359:\tlearn: 0.3926030\ttotal: 954ms\tremaining: 1.7s\n",
      "360:\tlearn: 0.3925500\ttotal: 956ms\tremaining: 1.69s\n",
      "361:\tlearn: 0.3925407\ttotal: 958ms\tremaining: 1.69s\n",
      "362:\tlearn: 0.3925321\ttotal: 960ms\tremaining: 1.68s\n",
      "363:\tlearn: 0.3924788\ttotal: 961ms\tremaining: 1.68s\n",
      "364:\tlearn: 0.3924323\ttotal: 963ms\tremaining: 1.68s\n",
      "365:\tlearn: 0.3924303\ttotal: 964ms\tremaining: 1.67s\n",
      "366:\tlearn: 0.3923991\ttotal: 966ms\tremaining: 1.67s\n",
      "367:\tlearn: 0.3923972\ttotal: 967ms\tremaining: 1.66s\n",
      "368:\tlearn: 0.3923367\ttotal: 969ms\tremaining: 1.66s\n",
      "369:\tlearn: 0.3922535\ttotal: 971ms\tremaining: 1.65s\n",
      "370:\tlearn: 0.3921883\ttotal: 973ms\tremaining: 1.65s\n",
      "371:\tlearn: 0.3921864\ttotal: 974ms\tremaining: 1.64s\n",
      "372:\tlearn: 0.3921269\ttotal: 976ms\tremaining: 1.64s\n",
      "373:\tlearn: 0.3920976\ttotal: 978ms\tremaining: 1.64s\n",
      "374:\tlearn: 0.3920496\ttotal: 980ms\tremaining: 1.63s\n",
      "375:\tlearn: 0.3920264\ttotal: 981ms\tremaining: 1.63s\n",
      "376:\tlearn: 0.3920036\ttotal: 983ms\tremaining: 1.62s\n",
      "377:\tlearn: 0.3919453\ttotal: 985ms\tremaining: 1.62s\n",
      "378:\tlearn: 0.3918902\ttotal: 987ms\tremaining: 1.62s\n",
      "379:\tlearn: 0.3918649\ttotal: 988ms\tremaining: 1.61s\n",
      "380:\tlearn: 0.3918626\ttotal: 990ms\tremaining: 1.61s\n",
      "381:\tlearn: 0.3918318\ttotal: 992ms\tremaining: 1.6s\n",
      "382:\tlearn: 0.3917928\ttotal: 994ms\tremaining: 1.6s\n",
      "383:\tlearn: 0.3917627\ttotal: 995ms\tremaining: 1.6s\n",
      "384:\tlearn: 0.3917316\ttotal: 997ms\tremaining: 1.59s\n",
      "385:\tlearn: 0.3917002\ttotal: 999ms\tremaining: 1.59s\n",
      "386:\tlearn: 0.3916961\ttotal: 1s\tremaining: 1.58s\n",
      "387:\tlearn: 0.3916498\ttotal: 1s\tremaining: 1.58s\n",
      "388:\tlearn: 0.3916222\ttotal: 1s\tremaining: 1.58s\n",
      "389:\tlearn: 0.3915824\ttotal: 1.01s\tremaining: 1.57s\n",
      "390:\tlearn: 0.3915730\ttotal: 1.01s\tremaining: 1.57s\n",
      "391:\tlearn: 0.3915579\ttotal: 1.01s\tremaining: 1.56s\n",
      "392:\tlearn: 0.3914962\ttotal: 1.01s\tremaining: 1.56s\n",
      "393:\tlearn: 0.3914810\ttotal: 1.01s\tremaining: 1.56s\n",
      "394:\tlearn: 0.3914489\ttotal: 1.01s\tremaining: 1.55s\n",
      "395:\tlearn: 0.3914221\ttotal: 1.02s\tremaining: 1.55s\n",
      "396:\tlearn: 0.3913473\ttotal: 1.02s\tremaining: 1.55s\n",
      "397:\tlearn: 0.3913327\ttotal: 1.02s\tremaining: 1.54s\n",
      "398:\tlearn: 0.3913198\ttotal: 1.02s\tremaining: 1.54s\n",
      "399:\tlearn: 0.3912988\ttotal: 1.02s\tremaining: 1.53s\n",
      "400:\tlearn: 0.3912555\ttotal: 1.02s\tremaining: 1.53s\n",
      "401:\tlearn: 0.3912203\ttotal: 1.03s\tremaining: 1.53s\n",
      "402:\tlearn: 0.3912019\ttotal: 1.03s\tremaining: 1.52s\n",
      "403:\tlearn: 0.3911124\ttotal: 1.03s\tremaining: 1.52s\n",
      "404:\tlearn: 0.3910718\ttotal: 1.03s\tremaining: 1.52s\n",
      "405:\tlearn: 0.3910307\ttotal: 1.03s\tremaining: 1.51s\n",
      "406:\tlearn: 0.3910121\ttotal: 1.04s\tremaining: 1.51s\n",
      "407:\tlearn: 0.3909432\ttotal: 1.04s\tremaining: 1.51s\n",
      "408:\tlearn: 0.3909340\ttotal: 1.04s\tremaining: 1.5s\n",
      "409:\tlearn: 0.3909207\ttotal: 1.04s\tremaining: 1.5s\n",
      "410:\tlearn: 0.3908821\ttotal: 1.04s\tremaining: 1.5s\n",
      "411:\tlearn: 0.3908237\ttotal: 1.04s\tremaining: 1.49s\n",
      "412:\tlearn: 0.3907837\ttotal: 1.05s\tremaining: 1.49s\n",
      "413:\tlearn: 0.3907771\ttotal: 1.05s\tremaining: 1.48s\n",
      "414:\tlearn: 0.3907378\ttotal: 1.05s\tremaining: 1.48s\n",
      "415:\tlearn: 0.3907059\ttotal: 1.05s\tremaining: 1.48s\n",
      "416:\tlearn: 0.3906663\ttotal: 1.05s\tremaining: 1.47s\n",
      "417:\tlearn: 0.3906581\ttotal: 1.05s\tremaining: 1.47s\n",
      "418:\tlearn: 0.3906403\ttotal: 1.06s\tremaining: 1.47s\n",
      "419:\tlearn: 0.3905844\ttotal: 1.06s\tremaining: 1.46s\n",
      "420:\tlearn: 0.3905430\ttotal: 1.06s\tremaining: 1.46s\n",
      "421:\tlearn: 0.3904757\ttotal: 1.06s\tremaining: 1.46s\n",
      "422:\tlearn: 0.3904581\ttotal: 1.06s\tremaining: 1.45s\n",
      "423:\tlearn: 0.3904393\ttotal: 1.07s\tremaining: 1.45s\n",
      "424:\tlearn: 0.3904328\ttotal: 1.07s\tremaining: 1.45s\n",
      "425:\tlearn: 0.3904243\ttotal: 1.07s\tremaining: 1.44s\n"
     ]
    },
    {
     "name": "stdout",
     "output_type": "stream",
     "text": [
      "426:\tlearn: 0.3903580\ttotal: 1.07s\tremaining: 1.44s\n",
      "427:\tlearn: 0.3903421\ttotal: 1.07s\tremaining: 1.44s\n",
      "428:\tlearn: 0.3903016\ttotal: 1.08s\tremaining: 1.43s\n",
      "429:\tlearn: 0.3902505\ttotal: 1.08s\tremaining: 1.43s\n",
      "430:\tlearn: 0.3902339\ttotal: 1.08s\tremaining: 1.43s\n",
      "431:\tlearn: 0.3901987\ttotal: 1.08s\tremaining: 1.42s\n",
      "432:\tlearn: 0.3901685\ttotal: 1.08s\tremaining: 1.42s\n",
      "433:\tlearn: 0.3901246\ttotal: 1.09s\tremaining: 1.42s\n",
      "434:\tlearn: 0.3901217\ttotal: 1.09s\tremaining: 1.42s\n",
      "435:\tlearn: 0.3900882\ttotal: 1.09s\tremaining: 1.41s\n",
      "436:\tlearn: 0.3900621\ttotal: 1.09s\tremaining: 1.41s\n",
      "437:\tlearn: 0.3900401\ttotal: 1.09s\tremaining: 1.41s\n",
      "438:\tlearn: 0.3899945\ttotal: 1.1s\tremaining: 1.4s\n",
      "439:\tlearn: 0.3899313\ttotal: 1.1s\tremaining: 1.4s\n",
      "440:\tlearn: 0.3898934\ttotal: 1.1s\tremaining: 1.4s\n",
      "441:\tlearn: 0.3898610\ttotal: 1.1s\tremaining: 1.39s\n",
      "442:\tlearn: 0.3898330\ttotal: 1.1s\tremaining: 1.39s\n",
      "443:\tlearn: 0.3897854\ttotal: 1.11s\tremaining: 1.39s\n",
      "444:\tlearn: 0.3897072\ttotal: 1.11s\tremaining: 1.38s\n",
      "445:\tlearn: 0.3896825\ttotal: 1.11s\tremaining: 1.38s\n",
      "446:\tlearn: 0.3896351\ttotal: 1.11s\tremaining: 1.38s\n",
      "447:\tlearn: 0.3896214\ttotal: 1.11s\tremaining: 1.37s\n",
      "448:\tlearn: 0.3896020\ttotal: 1.12s\tremaining: 1.37s\n",
      "449:\tlearn: 0.3895763\ttotal: 1.12s\tremaining: 1.37s\n",
      "450:\tlearn: 0.3895559\ttotal: 1.12s\tremaining: 1.36s\n",
      "451:\tlearn: 0.3895412\ttotal: 1.12s\tremaining: 1.36s\n",
      "452:\tlearn: 0.3895277\ttotal: 1.12s\tremaining: 1.36s\n",
      "453:\tlearn: 0.3895103\ttotal: 1.13s\tremaining: 1.35s\n",
      "454:\tlearn: 0.3894855\ttotal: 1.13s\tremaining: 1.35s\n",
      "455:\tlearn: 0.3894176\ttotal: 1.13s\tremaining: 1.35s\n",
      "456:\tlearn: 0.3893584\ttotal: 1.13s\tremaining: 1.34s\n",
      "457:\tlearn: 0.3893124\ttotal: 1.13s\tremaining: 1.34s\n",
      "458:\tlearn: 0.3892558\ttotal: 1.13s\tremaining: 1.34s\n",
      "459:\tlearn: 0.3892343\ttotal: 1.14s\tremaining: 1.33s\n",
      "460:\tlearn: 0.3892088\ttotal: 1.14s\tremaining: 1.33s\n",
      "461:\tlearn: 0.3891627\ttotal: 1.14s\tremaining: 1.33s\n",
      "462:\tlearn: 0.3891144\ttotal: 1.14s\tremaining: 1.32s\n",
      "463:\tlearn: 0.3891046\ttotal: 1.14s\tremaining: 1.32s\n",
      "464:\tlearn: 0.3890612\ttotal: 1.15s\tremaining: 1.32s\n",
      "465:\tlearn: 0.3890379\ttotal: 1.15s\tremaining: 1.31s\n",
      "466:\tlearn: 0.3889345\ttotal: 1.15s\tremaining: 1.31s\n",
      "467:\tlearn: 0.3888815\ttotal: 1.15s\tremaining: 1.31s\n",
      "468:\tlearn: 0.3888499\ttotal: 1.15s\tremaining: 1.31s\n",
      "469:\tlearn: 0.3888047\ttotal: 1.16s\tremaining: 1.3s\n",
      "470:\tlearn: 0.3887788\ttotal: 1.16s\tremaining: 1.3s\n",
      "471:\tlearn: 0.3887560\ttotal: 1.16s\tremaining: 1.3s\n",
      "472:\tlearn: 0.3887003\ttotal: 1.16s\tremaining: 1.29s\n",
      "473:\tlearn: 0.3886503\ttotal: 1.16s\tremaining: 1.29s\n",
      "474:\tlearn: 0.3886127\ttotal: 1.16s\tremaining: 1.29s\n",
      "475:\tlearn: 0.3885817\ttotal: 1.17s\tremaining: 1.28s\n",
      "476:\tlearn: 0.3885369\ttotal: 1.17s\tremaining: 1.28s\n",
      "477:\tlearn: 0.3884819\ttotal: 1.17s\tremaining: 1.28s\n",
      "478:\tlearn: 0.3884687\ttotal: 1.17s\tremaining: 1.27s\n",
      "479:\tlearn: 0.3884219\ttotal: 1.17s\tremaining: 1.27s\n",
      "480:\tlearn: 0.3883623\ttotal: 1.18s\tremaining: 1.27s\n",
      "481:\tlearn: 0.3883365\ttotal: 1.18s\tremaining: 1.26s\n",
      "482:\tlearn: 0.3883151\ttotal: 1.18s\tremaining: 1.26s\n",
      "483:\tlearn: 0.3882636\ttotal: 1.18s\tremaining: 1.26s\n",
      "484:\tlearn: 0.3882387\ttotal: 1.18s\tremaining: 1.25s\n",
      "485:\tlearn: 0.3882138\ttotal: 1.18s\tremaining: 1.25s\n",
      "486:\tlearn: 0.3881730\ttotal: 1.19s\tremaining: 1.25s\n",
      "487:\tlearn: 0.3881232\ttotal: 1.19s\tremaining: 1.25s\n",
      "488:\tlearn: 0.3880814\ttotal: 1.19s\tremaining: 1.24s\n",
      "489:\tlearn: 0.3880309\ttotal: 1.19s\tremaining: 1.24s\n",
      "490:\tlearn: 0.3879894\ttotal: 1.19s\tremaining: 1.24s\n",
      "491:\tlearn: 0.3879517\ttotal: 1.2s\tremaining: 1.23s\n",
      "492:\tlearn: 0.3879115\ttotal: 1.2s\tremaining: 1.23s\n",
      "493:\tlearn: 0.3878852\ttotal: 1.2s\tremaining: 1.23s\n",
      "494:\tlearn: 0.3878550\ttotal: 1.2s\tremaining: 1.22s\n",
      "495:\tlearn: 0.3878114\ttotal: 1.2s\tremaining: 1.22s\n",
      "496:\tlearn: 0.3877906\ttotal: 1.2s\tremaining: 1.22s\n",
      "497:\tlearn: 0.3877739\ttotal: 1.21s\tremaining: 1.22s\n",
      "498:\tlearn: 0.3877673\ttotal: 1.21s\tremaining: 1.21s\n",
      "499:\tlearn: 0.3877436\ttotal: 1.21s\tremaining: 1.21s\n",
      "500:\tlearn: 0.3877092\ttotal: 1.21s\tremaining: 1.21s\n",
      "501:\tlearn: 0.3876747\ttotal: 1.21s\tremaining: 1.2s\n",
      "502:\tlearn: 0.3876147\ttotal: 1.21s\tremaining: 1.2s\n",
      "503:\tlearn: 0.3875744\ttotal: 1.22s\tremaining: 1.2s\n",
      "504:\tlearn: 0.3875470\ttotal: 1.22s\tremaining: 1.19s\n",
      "505:\tlearn: 0.3875273\ttotal: 1.22s\tremaining: 1.19s\n",
      "506:\tlearn: 0.3874883\ttotal: 1.22s\tremaining: 1.19s\n",
      "507:\tlearn: 0.3874660\ttotal: 1.22s\tremaining: 1.19s\n",
      "508:\tlearn: 0.3874331\ttotal: 1.23s\tremaining: 1.18s\n",
      "509:\tlearn: 0.3873954\ttotal: 1.23s\tremaining: 1.18s\n",
      "510:\tlearn: 0.3873602\ttotal: 1.23s\tremaining: 1.18s\n",
      "511:\tlearn: 0.3873592\ttotal: 1.23s\tremaining: 1.17s\n",
      "512:\tlearn: 0.3873096\ttotal: 1.23s\tremaining: 1.17s\n",
      "513:\tlearn: 0.3872553\ttotal: 1.23s\tremaining: 1.17s\n",
      "514:\tlearn: 0.3872388\ttotal: 1.24s\tremaining: 1.16s\n",
      "515:\tlearn: 0.3872099\ttotal: 1.24s\tremaining: 1.16s\n",
      "516:\tlearn: 0.3871799\ttotal: 1.24s\tremaining: 1.16s\n",
      "517:\tlearn: 0.3871553\ttotal: 1.24s\tremaining: 1.16s\n",
      "518:\tlearn: 0.3871230\ttotal: 1.24s\tremaining: 1.15s\n",
      "519:\tlearn: 0.3870903\ttotal: 1.25s\tremaining: 1.15s\n",
      "520:\tlearn: 0.3870662\ttotal: 1.25s\tremaining: 1.15s\n",
      "521:\tlearn: 0.3870337\ttotal: 1.25s\tremaining: 1.15s\n",
      "522:\tlearn: 0.3869809\ttotal: 1.25s\tremaining: 1.14s\n",
      "523:\tlearn: 0.3869641\ttotal: 1.25s\tremaining: 1.14s\n",
      "524:\tlearn: 0.3869185\ttotal: 1.26s\tremaining: 1.14s\n",
      "525:\tlearn: 0.3868962\ttotal: 1.26s\tremaining: 1.14s\n",
      "526:\tlearn: 0.3868803\ttotal: 1.26s\tremaining: 1.13s\n",
      "527:\tlearn: 0.3868578\ttotal: 1.26s\tremaining: 1.13s\n",
      "528:\tlearn: 0.3868409\ttotal: 1.26s\tremaining: 1.13s\n",
      "529:\tlearn: 0.3868254\ttotal: 1.27s\tremaining: 1.12s\n",
      "530:\tlearn: 0.3868128\ttotal: 1.27s\tremaining: 1.12s\n",
      "531:\tlearn: 0.3867973\ttotal: 1.27s\tremaining: 1.12s\n",
      "532:\tlearn: 0.3867873\ttotal: 1.27s\tremaining: 1.12s\n",
      "533:\tlearn: 0.3867808\ttotal: 1.28s\tremaining: 1.11s\n",
      "534:\tlearn: 0.3867229\ttotal: 1.28s\tremaining: 1.11s\n",
      "535:\tlearn: 0.3867170\ttotal: 1.28s\tremaining: 1.11s\n",
      "536:\tlearn: 0.3866584\ttotal: 1.28s\tremaining: 1.1s\n",
      "537:\tlearn: 0.3866090\ttotal: 1.28s\tremaining: 1.1s\n",
      "538:\tlearn: 0.3865661\ttotal: 1.28s\tremaining: 1.1s\n",
      "539:\tlearn: 0.3865115\ttotal: 1.29s\tremaining: 1.1s\n",
      "540:\tlearn: 0.3864940\ttotal: 1.29s\tremaining: 1.09s\n",
      "541:\tlearn: 0.3864732\ttotal: 1.29s\tremaining: 1.09s\n",
      "542:\tlearn: 0.3864561\ttotal: 1.29s\tremaining: 1.09s\n",
      "543:\tlearn: 0.3864356\ttotal: 1.29s\tremaining: 1.08s\n",
      "544:\tlearn: 0.3864068\ttotal: 1.3s\tremaining: 1.08s\n",
      "545:\tlearn: 0.3863484\ttotal: 1.3s\tremaining: 1.08s\n",
      "546:\tlearn: 0.3862923\ttotal: 1.3s\tremaining: 1.08s\n",
      "547:\tlearn: 0.3862707\ttotal: 1.3s\tremaining: 1.07s\n",
      "548:\tlearn: 0.3862335\ttotal: 1.3s\tremaining: 1.07s\n",
      "549:\tlearn: 0.3862183\ttotal: 1.3s\tremaining: 1.07s\n",
      "550:\tlearn: 0.3861902\ttotal: 1.31s\tremaining: 1.06s\n",
      "551:\tlearn: 0.3861606\ttotal: 1.31s\tremaining: 1.06s\n",
      "552:\tlearn: 0.3861416\ttotal: 1.31s\tremaining: 1.06s\n",
      "553:\tlearn: 0.3861257\ttotal: 1.31s\tremaining: 1.06s\n",
      "554:\tlearn: 0.3861074\ttotal: 1.31s\tremaining: 1.05s\n",
      "555:\tlearn: 0.3860426\ttotal: 1.32s\tremaining: 1.05s\n",
      "556:\tlearn: 0.3860079\ttotal: 1.32s\tremaining: 1.05s\n",
      "557:\tlearn: 0.3859874\ttotal: 1.32s\tremaining: 1.04s\n",
      "558:\tlearn: 0.3859535\ttotal: 1.32s\tremaining: 1.04s\n",
      "559:\tlearn: 0.3859287\ttotal: 1.32s\tremaining: 1.04s\n",
      "560:\tlearn: 0.3859014\ttotal: 1.32s\tremaining: 1.04s\n",
      "561:\tlearn: 0.3858490\ttotal: 1.33s\tremaining: 1.03s\n",
      "562:\tlearn: 0.3858212\ttotal: 1.33s\tremaining: 1.03s\n",
      "563:\tlearn: 0.3857947\ttotal: 1.33s\tremaining: 1.03s\n",
      "564:\tlearn: 0.3857602\ttotal: 1.33s\tremaining: 1.02s\n",
      "565:\tlearn: 0.3857028\ttotal: 1.33s\tremaining: 1.02s\n",
      "566:\tlearn: 0.3856941\ttotal: 1.33s\tremaining: 1.02s\n",
      "567:\tlearn: 0.3856722\ttotal: 1.34s\tremaining: 1.02s\n",
      "568:\tlearn: 0.3856421\ttotal: 1.34s\tremaining: 1.01s\n",
      "569:\tlearn: 0.3856286\ttotal: 1.34s\tremaining: 1.01s\n",
      "570:\tlearn: 0.3856249\ttotal: 1.34s\tremaining: 1.01s\n",
      "571:\tlearn: 0.3856065\ttotal: 1.34s\tremaining: 1.01s\n",
      "572:\tlearn: 0.3855703\ttotal: 1.35s\tremaining: 1s\n",
      "573:\tlearn: 0.3855358\ttotal: 1.35s\tremaining: 1s\n",
      "574:\tlearn: 0.3855271\ttotal: 1.35s\tremaining: 998ms\n",
      "575:\tlearn: 0.3855045\ttotal: 1.35s\tremaining: 995ms\n",
      "576:\tlearn: 0.3854967\ttotal: 1.35s\tremaining: 993ms\n",
      "577:\tlearn: 0.3854691\ttotal: 1.35s\tremaining: 990ms\n",
      "578:\tlearn: 0.3854458\ttotal: 1.36s\tremaining: 987ms\n",
      "579:\tlearn: 0.3854354\ttotal: 1.36s\tremaining: 984ms\n",
      "580:\tlearn: 0.3854195\ttotal: 1.36s\tremaining: 982ms\n",
      "581:\tlearn: 0.3853944\ttotal: 1.36s\tremaining: 979ms\n",
      "582:\tlearn: 0.3853701\ttotal: 1.36s\tremaining: 976ms\n",
      "583:\tlearn: 0.3853488\ttotal: 1.37s\tremaining: 973ms\n",
      "584:\tlearn: 0.3853271\ttotal: 1.37s\tremaining: 971ms\n",
      "585:\tlearn: 0.3853167\ttotal: 1.37s\tremaining: 968ms\n",
      "586:\tlearn: 0.3852732\ttotal: 1.37s\tremaining: 965ms\n",
      "587:\tlearn: 0.3852598\ttotal: 1.37s\tremaining: 963ms\n",
      "588:\tlearn: 0.3852422\ttotal: 1.38s\tremaining: 960ms\n",
      "589:\tlearn: 0.3852337\ttotal: 1.38s\tremaining: 957ms\n",
      "590:\tlearn: 0.3852257\ttotal: 1.38s\tremaining: 954ms\n",
      "591:\tlearn: 0.3852185\ttotal: 1.38s\tremaining: 952ms\n",
      "592:\tlearn: 0.3852023\ttotal: 1.38s\tremaining: 949ms\n",
      "593:\tlearn: 0.3851811\ttotal: 1.38s\tremaining: 946ms\n",
      "594:\tlearn: 0.3851686\ttotal: 1.39s\tremaining: 944ms\n",
      "595:\tlearn: 0.3851331\ttotal: 1.39s\tremaining: 941ms\n",
      "596:\tlearn: 0.3851146\ttotal: 1.39s\tremaining: 938ms\n",
      "597:\tlearn: 0.3851005\ttotal: 1.39s\tremaining: 936ms\n",
      "598:\tlearn: 0.3850567\ttotal: 1.39s\tremaining: 933ms\n",
      "599:\tlearn: 0.3850364\ttotal: 1.4s\tremaining: 930ms\n",
      "600:\tlearn: 0.3850051\ttotal: 1.4s\tremaining: 928ms\n",
      "601:\tlearn: 0.3849964\ttotal: 1.4s\tremaining: 925ms\n",
      "602:\tlearn: 0.3849816\ttotal: 1.4s\tremaining: 922ms\n",
      "603:\tlearn: 0.3849696\ttotal: 1.4s\tremaining: 919ms\n",
      "604:\tlearn: 0.3849532\ttotal: 1.4s\tremaining: 917ms\n",
      "605:\tlearn: 0.3849414\ttotal: 1.41s\tremaining: 914ms\n",
      "606:\tlearn: 0.3849242\ttotal: 1.41s\tremaining: 911ms\n",
      "607:\tlearn: 0.3848809\ttotal: 1.41s\tremaining: 909ms\n",
      "608:\tlearn: 0.3848539\ttotal: 1.41s\tremaining: 906ms\n",
      "609:\tlearn: 0.3848186\ttotal: 1.41s\tremaining: 903ms\n",
      "610:\tlearn: 0.3847793\ttotal: 1.41s\tremaining: 901ms\n"
     ]
    },
    {
     "name": "stdout",
     "output_type": "stream",
     "text": [
      "611:\tlearn: 0.3847715\ttotal: 1.42s\tremaining: 898ms\n",
      "612:\tlearn: 0.3847391\ttotal: 1.42s\tremaining: 896ms\n",
      "613:\tlearn: 0.3846681\ttotal: 1.42s\tremaining: 894ms\n",
      "614:\tlearn: 0.3846655\ttotal: 1.42s\tremaining: 891ms\n",
      "615:\tlearn: 0.3846532\ttotal: 1.43s\tremaining: 889ms\n",
      "616:\tlearn: 0.3846452\ttotal: 1.43s\tremaining: 887ms\n",
      "617:\tlearn: 0.3846006\ttotal: 1.43s\tremaining: 884ms\n",
      "618:\tlearn: 0.3845507\ttotal: 1.43s\tremaining: 882ms\n",
      "619:\tlearn: 0.3845240\ttotal: 1.43s\tremaining: 879ms\n",
      "620:\tlearn: 0.3844954\ttotal: 1.44s\tremaining: 877ms\n",
      "621:\tlearn: 0.3844822\ttotal: 1.44s\tremaining: 874ms\n",
      "622:\tlearn: 0.3844548\ttotal: 1.44s\tremaining: 872ms\n",
      "623:\tlearn: 0.3844414\ttotal: 1.44s\tremaining: 869ms\n",
      "624:\tlearn: 0.3844309\ttotal: 1.44s\tremaining: 866ms\n",
      "625:\tlearn: 0.3844072\ttotal: 1.45s\tremaining: 864ms\n",
      "626:\tlearn: 0.3843967\ttotal: 1.45s\tremaining: 861ms\n",
      "627:\tlearn: 0.3843655\ttotal: 1.45s\tremaining: 859ms\n",
      "628:\tlearn: 0.3843188\ttotal: 1.45s\tremaining: 856ms\n",
      "629:\tlearn: 0.3843008\ttotal: 1.45s\tremaining: 854ms\n",
      "630:\tlearn: 0.3842855\ttotal: 1.46s\tremaining: 851ms\n",
      "631:\tlearn: 0.3842820\ttotal: 1.46s\tremaining: 848ms\n",
      "632:\tlearn: 0.3842593\ttotal: 1.46s\tremaining: 846ms\n",
      "633:\tlearn: 0.3842519\ttotal: 1.46s\tremaining: 843ms\n",
      "634:\tlearn: 0.3842239\ttotal: 1.46s\tremaining: 841ms\n",
      "635:\tlearn: 0.3841860\ttotal: 1.46s\tremaining: 838ms\n",
      "636:\tlearn: 0.3841685\ttotal: 1.47s\tremaining: 836ms\n",
      "637:\tlearn: 0.3841322\ttotal: 1.47s\tremaining: 833ms\n",
      "638:\tlearn: 0.3841092\ttotal: 1.47s\tremaining: 830ms\n",
      "639:\tlearn: 0.3840818\ttotal: 1.47s\tremaining: 828ms\n",
      "640:\tlearn: 0.3840758\ttotal: 1.47s\tremaining: 825ms\n",
      "641:\tlearn: 0.3840481\ttotal: 1.48s\tremaining: 823ms\n",
      "642:\tlearn: 0.3840352\ttotal: 1.48s\tremaining: 820ms\n",
      "643:\tlearn: 0.3840062\ttotal: 1.48s\tremaining: 818ms\n",
      "644:\tlearn: 0.3839904\ttotal: 1.48s\tremaining: 815ms\n",
      "645:\tlearn: 0.3839825\ttotal: 1.48s\tremaining: 812ms\n",
      "646:\tlearn: 0.3839584\ttotal: 1.48s\tremaining: 810ms\n",
      "647:\tlearn: 0.3839423\ttotal: 1.49s\tremaining: 807ms\n",
      "648:\tlearn: 0.3839289\ttotal: 1.49s\tremaining: 805ms\n",
      "649:\tlearn: 0.3839092\ttotal: 1.49s\tremaining: 802ms\n",
      "650:\tlearn: 0.3838756\ttotal: 1.49s\tremaining: 800ms\n",
      "651:\tlearn: 0.3838158\ttotal: 1.49s\tremaining: 797ms\n",
      "652:\tlearn: 0.3837996\ttotal: 1.5s\tremaining: 795ms\n",
      "653:\tlearn: 0.3837560\ttotal: 1.5s\tremaining: 792ms\n",
      "654:\tlearn: 0.3837261\ttotal: 1.5s\tremaining: 789ms\n",
      "655:\tlearn: 0.3837201\ttotal: 1.5s\tremaining: 787ms\n",
      "656:\tlearn: 0.3837027\ttotal: 1.5s\tremaining: 784ms\n",
      "657:\tlearn: 0.3836811\ttotal: 1.5s\tremaining: 782ms\n",
      "658:\tlearn: 0.3836369\ttotal: 1.5s\tremaining: 779ms\n",
      "659:\tlearn: 0.3836164\ttotal: 1.51s\tremaining: 777ms\n",
      "660:\tlearn: 0.3835985\ttotal: 1.51s\tremaining: 774ms\n",
      "661:\tlearn: 0.3835860\ttotal: 1.51s\tremaining: 772ms\n",
      "662:\tlearn: 0.3835739\ttotal: 1.51s\tremaining: 769ms\n",
      "663:\tlearn: 0.3835458\ttotal: 1.51s\tremaining: 767ms\n",
      "664:\tlearn: 0.3835363\ttotal: 1.52s\tremaining: 764ms\n",
      "665:\tlearn: 0.3835233\ttotal: 1.52s\tremaining: 762ms\n",
      "666:\tlearn: 0.3834984\ttotal: 1.52s\tremaining: 759ms\n",
      "667:\tlearn: 0.3834882\ttotal: 1.52s\tremaining: 757ms\n",
      "668:\tlearn: 0.3834435\ttotal: 1.52s\tremaining: 754ms\n",
      "669:\tlearn: 0.3833955\ttotal: 1.53s\tremaining: 752ms\n",
      "670:\tlearn: 0.3833777\ttotal: 1.53s\tremaining: 749ms\n",
      "671:\tlearn: 0.3833503\ttotal: 1.53s\tremaining: 747ms\n",
      "672:\tlearn: 0.3833495\ttotal: 1.53s\tremaining: 744ms\n",
      "673:\tlearn: 0.3833371\ttotal: 1.53s\tremaining: 742ms\n",
      "674:\tlearn: 0.3833012\ttotal: 1.53s\tremaining: 739ms\n",
      "675:\tlearn: 0.3832943\ttotal: 1.54s\tremaining: 737ms\n",
      "676:\tlearn: 0.3832705\ttotal: 1.54s\tremaining: 734ms\n",
      "677:\tlearn: 0.3832559\ttotal: 1.54s\tremaining: 732ms\n",
      "678:\tlearn: 0.3832377\ttotal: 1.54s\tremaining: 729ms\n",
      "679:\tlearn: 0.3832222\ttotal: 1.54s\tremaining: 726ms\n",
      "680:\tlearn: 0.3831880\ttotal: 1.54s\tremaining: 724ms\n",
      "681:\tlearn: 0.3831623\ttotal: 1.55s\tremaining: 721ms\n",
      "682:\tlearn: 0.3831483\ttotal: 1.55s\tremaining: 719ms\n",
      "683:\tlearn: 0.3831339\ttotal: 1.55s\tremaining: 716ms\n",
      "684:\tlearn: 0.3831185\ttotal: 1.55s\tremaining: 714ms\n",
      "685:\tlearn: 0.3831055\ttotal: 1.55s\tremaining: 712ms\n",
      "686:\tlearn: 0.3830907\ttotal: 1.56s\tremaining: 709ms\n",
      "687:\tlearn: 0.3830721\ttotal: 1.56s\tremaining: 707ms\n",
      "688:\tlearn: 0.3830642\ttotal: 1.56s\tremaining: 704ms\n",
      "689:\tlearn: 0.3830306\ttotal: 1.56s\tremaining: 702ms\n",
      "690:\tlearn: 0.3830206\ttotal: 1.56s\tremaining: 699ms\n",
      "691:\tlearn: 0.3830138\ttotal: 1.56s\tremaining: 697ms\n",
      "692:\tlearn: 0.3829964\ttotal: 1.57s\tremaining: 694ms\n",
      "693:\tlearn: 0.3829542\ttotal: 1.57s\tremaining: 692ms\n",
      "694:\tlearn: 0.3829416\ttotal: 1.57s\tremaining: 689ms\n",
      "695:\tlearn: 0.3829203\ttotal: 1.57s\tremaining: 687ms\n",
      "696:\tlearn: 0.3829127\ttotal: 1.57s\tremaining: 684ms\n",
      "697:\tlearn: 0.3829090\ttotal: 1.57s\tremaining: 682ms\n",
      "698:\tlearn: 0.3828637\ttotal: 1.58s\tremaining: 679ms\n",
      "699:\tlearn: 0.3828395\ttotal: 1.58s\tremaining: 677ms\n",
      "700:\tlearn: 0.3828391\ttotal: 1.58s\tremaining: 674ms\n",
      "701:\tlearn: 0.3828194\ttotal: 1.58s\tremaining: 672ms\n",
      "702:\tlearn: 0.3828026\ttotal: 1.58s\tremaining: 670ms\n",
      "703:\tlearn: 0.3827824\ttotal: 1.59s\tremaining: 667ms\n",
      "704:\tlearn: 0.3827530\ttotal: 1.59s\tremaining: 665ms\n",
      "705:\tlearn: 0.3827287\ttotal: 1.59s\tremaining: 662ms\n",
      "706:\tlearn: 0.3826925\ttotal: 1.59s\tremaining: 660ms\n",
      "707:\tlearn: 0.3826776\ttotal: 1.59s\tremaining: 657ms\n",
      "708:\tlearn: 0.3826552\ttotal: 1.59s\tremaining: 655ms\n",
      "709:\tlearn: 0.3826435\ttotal: 1.6s\tremaining: 653ms\n",
      "710:\tlearn: 0.3826109\ttotal: 1.6s\tremaining: 650ms\n",
      "711:\tlearn: 0.3825830\ttotal: 1.6s\tremaining: 648ms\n",
      "712:\tlearn: 0.3825461\ttotal: 1.6s\tremaining: 646ms\n",
      "713:\tlearn: 0.3825377\ttotal: 1.61s\tremaining: 643ms\n",
      "714:\tlearn: 0.3825190\ttotal: 1.61s\tremaining: 641ms\n",
      "715:\tlearn: 0.3825024\ttotal: 1.61s\tremaining: 639ms\n",
      "716:\tlearn: 0.3824953\ttotal: 1.61s\tremaining: 637ms\n",
      "717:\tlearn: 0.3824757\ttotal: 1.61s\tremaining: 634ms\n",
      "718:\tlearn: 0.3824762\ttotal: 1.62s\tremaining: 632ms\n",
      "719:\tlearn: 0.3824699\ttotal: 1.62s\tremaining: 629ms\n",
      "720:\tlearn: 0.3824568\ttotal: 1.62s\tremaining: 627ms\n",
      "721:\tlearn: 0.3824551\ttotal: 1.62s\tremaining: 625ms\n",
      "722:\tlearn: 0.3824444\ttotal: 1.62s\tremaining: 622ms\n",
      "723:\tlearn: 0.3824145\ttotal: 1.63s\tremaining: 620ms\n",
      "724:\tlearn: 0.3823951\ttotal: 1.63s\tremaining: 617ms\n",
      "725:\tlearn: 0.3823861\ttotal: 1.63s\tremaining: 615ms\n",
      "726:\tlearn: 0.3823684\ttotal: 1.63s\tremaining: 613ms\n",
      "727:\tlearn: 0.3823574\ttotal: 1.63s\tremaining: 610ms\n",
      "728:\tlearn: 0.3823570\ttotal: 1.63s\tremaining: 608ms\n",
      "729:\tlearn: 0.3823167\ttotal: 1.64s\tremaining: 605ms\n",
      "730:\tlearn: 0.3822952\ttotal: 1.64s\tremaining: 603ms\n",
      "731:\tlearn: 0.3822832\ttotal: 1.64s\tremaining: 600ms\n",
      "732:\tlearn: 0.3822445\ttotal: 1.64s\tremaining: 598ms\n",
      "733:\tlearn: 0.3821865\ttotal: 1.64s\tremaining: 596ms\n",
      "734:\tlearn: 0.3821486\ttotal: 1.65s\tremaining: 593ms\n",
      "735:\tlearn: 0.3821321\ttotal: 1.65s\tremaining: 591ms\n",
      "736:\tlearn: 0.3821030\ttotal: 1.65s\tremaining: 589ms\n",
      "737:\tlearn: 0.3820862\ttotal: 1.65s\tremaining: 586ms\n",
      "738:\tlearn: 0.3820548\ttotal: 1.65s\tremaining: 584ms\n",
      "739:\tlearn: 0.3820074\ttotal: 1.65s\tremaining: 581ms\n",
      "740:\tlearn: 0.3819846\ttotal: 1.66s\tremaining: 579ms\n",
      "741:\tlearn: 0.3819719\ttotal: 1.66s\tremaining: 577ms\n",
      "742:\tlearn: 0.3819658\ttotal: 1.66s\tremaining: 574ms\n",
      "743:\tlearn: 0.3819466\ttotal: 1.66s\tremaining: 572ms\n",
      "744:\tlearn: 0.3819184\ttotal: 1.66s\tremaining: 570ms\n",
      "745:\tlearn: 0.3818976\ttotal: 1.67s\tremaining: 567ms\n",
      "746:\tlearn: 0.3818865\ttotal: 1.67s\tremaining: 565ms\n",
      "747:\tlearn: 0.3818812\ttotal: 1.67s\tremaining: 562ms\n",
      "748:\tlearn: 0.3818650\ttotal: 1.67s\tremaining: 560ms\n",
      "749:\tlearn: 0.3818460\ttotal: 1.67s\tremaining: 558ms\n",
      "750:\tlearn: 0.3818456\ttotal: 1.68s\tremaining: 555ms\n",
      "751:\tlearn: 0.3818102\ttotal: 1.68s\tremaining: 553ms\n",
      "752:\tlearn: 0.3817903\ttotal: 1.68s\tremaining: 551ms\n",
      "753:\tlearn: 0.3817618\ttotal: 1.68s\tremaining: 548ms\n",
      "754:\tlearn: 0.3817541\ttotal: 1.68s\tremaining: 546ms\n",
      "755:\tlearn: 0.3817374\ttotal: 1.68s\tremaining: 544ms\n",
      "756:\tlearn: 0.3817229\ttotal: 1.69s\tremaining: 541ms\n",
      "757:\tlearn: 0.3816805\ttotal: 1.69s\tremaining: 539ms\n",
      "758:\tlearn: 0.3816753\ttotal: 1.69s\tremaining: 537ms\n",
      "759:\tlearn: 0.3816526\ttotal: 1.69s\tremaining: 534ms\n",
      "760:\tlearn: 0.3816293\ttotal: 1.69s\tremaining: 532ms\n",
      "761:\tlearn: 0.3816207\ttotal: 1.7s\tremaining: 530ms\n",
      "762:\tlearn: 0.3816044\ttotal: 1.7s\tremaining: 527ms\n",
      "763:\tlearn: 0.3815795\ttotal: 1.7s\tremaining: 525ms\n",
      "764:\tlearn: 0.3815645\ttotal: 1.7s\tremaining: 523ms\n",
      "765:\tlearn: 0.3815512\ttotal: 1.7s\tremaining: 520ms\n",
      "766:\tlearn: 0.3815122\ttotal: 1.7s\tremaining: 518ms\n",
      "767:\tlearn: 0.3814662\ttotal: 1.71s\tremaining: 516ms\n",
      "768:\tlearn: 0.3814628\ttotal: 1.71s\tremaining: 513ms\n",
      "769:\tlearn: 0.3814606\ttotal: 1.71s\tremaining: 511ms\n",
      "770:\tlearn: 0.3814390\ttotal: 1.71s\tremaining: 508ms\n",
      "771:\tlearn: 0.3814327\ttotal: 1.71s\tremaining: 506ms\n",
      "772:\tlearn: 0.3814335\ttotal: 1.72s\tremaining: 504ms\n",
      "773:\tlearn: 0.3813941\ttotal: 1.72s\tremaining: 501ms\n",
      "774:\tlearn: 0.3813847\ttotal: 1.72s\tremaining: 499ms\n",
      "775:\tlearn: 0.3813797\ttotal: 1.72s\tremaining: 497ms\n",
      "776:\tlearn: 0.3813712\ttotal: 1.72s\tremaining: 494ms\n",
      "777:\tlearn: 0.3813570\ttotal: 1.72s\tremaining: 492ms\n",
      "778:\tlearn: 0.3813263\ttotal: 1.73s\tremaining: 490ms\n",
      "779:\tlearn: 0.3813091\ttotal: 1.73s\tremaining: 487ms\n",
      "780:\tlearn: 0.3812743\ttotal: 1.73s\tremaining: 485ms\n",
      "781:\tlearn: 0.3812445\ttotal: 1.73s\tremaining: 483ms\n",
      "782:\tlearn: 0.3812321\ttotal: 1.73s\tremaining: 480ms\n",
      "783:\tlearn: 0.3812053\ttotal: 1.74s\tremaining: 478ms\n",
      "784:\tlearn: 0.3811801\ttotal: 1.74s\tremaining: 476ms\n",
      "785:\tlearn: 0.3811705\ttotal: 1.74s\tremaining: 473ms\n",
      "786:\tlearn: 0.3811346\ttotal: 1.74s\tremaining: 471ms\n",
      "787:\tlearn: 0.3811252\ttotal: 1.74s\tremaining: 469ms\n",
      "788:\tlearn: 0.3811169\ttotal: 1.74s\tremaining: 466ms\n",
      "789:\tlearn: 0.3811083\ttotal: 1.75s\tremaining: 464ms\n",
      "790:\tlearn: 0.3810741\ttotal: 1.75s\tremaining: 462ms\n",
      "791:\tlearn: 0.3810566\ttotal: 1.75s\tremaining: 460ms\n",
      "792:\tlearn: 0.3810566\ttotal: 1.75s\tremaining: 457ms\n",
      "793:\tlearn: 0.3810430\ttotal: 1.75s\tremaining: 455ms\n",
      "794:\tlearn: 0.3810342\ttotal: 1.75s\tremaining: 453ms\n",
      "795:\tlearn: 0.3810338\ttotal: 1.76s\tremaining: 450ms\n",
      "796:\tlearn: 0.3810226\ttotal: 1.76s\tremaining: 448ms\n",
      "797:\tlearn: 0.3810129\ttotal: 1.76s\tremaining: 446ms\n",
      "798:\tlearn: 0.3809771\ttotal: 1.76s\tremaining: 443ms\n",
      "799:\tlearn: 0.3809657\ttotal: 1.76s\tremaining: 441ms\n",
      "800:\tlearn: 0.3809378\ttotal: 1.76s\tremaining: 439ms\n",
      "801:\tlearn: 0.3809290\ttotal: 1.77s\tremaining: 436ms\n",
      "802:\tlearn: 0.3809221\ttotal: 1.77s\tremaining: 434ms\n",
      "803:\tlearn: 0.3809106\ttotal: 1.77s\tremaining: 432ms\n",
      "804:\tlearn: 0.3808781\ttotal: 1.77s\tremaining: 430ms\n",
      "805:\tlearn: 0.3808707\ttotal: 1.77s\tremaining: 427ms\n",
      "806:\tlearn: 0.3808375\ttotal: 1.78s\tremaining: 425ms\n",
      "807:\tlearn: 0.3808107\ttotal: 1.78s\tremaining: 423ms\n"
     ]
    },
    {
     "name": "stdout",
     "output_type": "stream",
     "text": [
      "808:\tlearn: 0.3807790\ttotal: 1.78s\tremaining: 420ms\n",
      "809:\tlearn: 0.3807606\ttotal: 1.78s\tremaining: 418ms\n",
      "810:\tlearn: 0.3807524\ttotal: 1.78s\tremaining: 416ms\n",
      "811:\tlearn: 0.3807303\ttotal: 1.79s\tremaining: 414ms\n",
      "812:\tlearn: 0.3807097\ttotal: 1.79s\tremaining: 412ms\n",
      "813:\tlearn: 0.3806924\ttotal: 1.79s\tremaining: 410ms\n",
      "814:\tlearn: 0.3806876\ttotal: 1.79s\tremaining: 407ms\n",
      "815:\tlearn: 0.3806762\ttotal: 1.8s\tremaining: 405ms\n",
      "816:\tlearn: 0.3806626\ttotal: 1.8s\tremaining: 403ms\n",
      "817:\tlearn: 0.3806476\ttotal: 1.8s\tremaining: 401ms\n",
      "818:\tlearn: 0.3806469\ttotal: 1.8s\tremaining: 398ms\n",
      "819:\tlearn: 0.3806124\ttotal: 1.8s\tremaining: 396ms\n",
      "820:\tlearn: 0.3806007\ttotal: 1.8s\tremaining: 394ms\n",
      "821:\tlearn: 0.3805662\ttotal: 1.81s\tremaining: 391ms\n",
      "822:\tlearn: 0.3805378\ttotal: 1.81s\tremaining: 389ms\n",
      "823:\tlearn: 0.3805088\ttotal: 1.81s\tremaining: 387ms\n",
      "824:\tlearn: 0.3805001\ttotal: 1.81s\tremaining: 385ms\n",
      "825:\tlearn: 0.3804823\ttotal: 1.81s\tremaining: 382ms\n",
      "826:\tlearn: 0.3804679\ttotal: 1.82s\tremaining: 380ms\n",
      "827:\tlearn: 0.3804443\ttotal: 1.82s\tremaining: 378ms\n",
      "828:\tlearn: 0.3804269\ttotal: 1.82s\tremaining: 375ms\n",
      "829:\tlearn: 0.3804227\ttotal: 1.82s\tremaining: 373ms\n",
      "830:\tlearn: 0.3803993\ttotal: 1.82s\tremaining: 371ms\n",
      "831:\tlearn: 0.3803975\ttotal: 1.82s\tremaining: 369ms\n",
      "832:\tlearn: 0.3803748\ttotal: 1.83s\tremaining: 366ms\n",
      "833:\tlearn: 0.3803350\ttotal: 1.83s\tremaining: 364ms\n",
      "834:\tlearn: 0.3803268\ttotal: 1.83s\tremaining: 362ms\n",
      "835:\tlearn: 0.3803002\ttotal: 1.83s\tremaining: 360ms\n",
      "836:\tlearn: 0.3802712\ttotal: 1.83s\tremaining: 357ms\n",
      "837:\tlearn: 0.3802422\ttotal: 1.84s\tremaining: 355ms\n",
      "838:\tlearn: 0.3802154\ttotal: 1.84s\tremaining: 353ms\n",
      "839:\tlearn: 0.3802040\ttotal: 1.84s\tremaining: 351ms\n",
      "840:\tlearn: 0.3801929\ttotal: 1.84s\tremaining: 348ms\n",
      "841:\tlearn: 0.3801799\ttotal: 1.84s\tremaining: 346ms\n",
      "842:\tlearn: 0.3801680\ttotal: 1.84s\tremaining: 344ms\n",
      "843:\tlearn: 0.3801380\ttotal: 1.85s\tremaining: 341ms\n",
      "844:\tlearn: 0.3801182\ttotal: 1.85s\tremaining: 339ms\n",
      "845:\tlearn: 0.3800953\ttotal: 1.85s\tremaining: 337ms\n",
      "846:\tlearn: 0.3800940\ttotal: 1.85s\tremaining: 335ms\n",
      "847:\tlearn: 0.3800860\ttotal: 1.85s\tremaining: 332ms\n",
      "848:\tlearn: 0.3800658\ttotal: 1.86s\tremaining: 330ms\n",
      "849:\tlearn: 0.3800515\ttotal: 1.86s\tremaining: 328ms\n",
      "850:\tlearn: 0.3800414\ttotal: 1.86s\tremaining: 326ms\n",
      "851:\tlearn: 0.3800331\ttotal: 1.86s\tremaining: 323ms\n",
      "852:\tlearn: 0.3800009\ttotal: 1.86s\tremaining: 321ms\n",
      "853:\tlearn: 0.3799841\ttotal: 1.86s\tremaining: 319ms\n",
      "854:\tlearn: 0.3799575\ttotal: 1.87s\tremaining: 317ms\n",
      "855:\tlearn: 0.3799412\ttotal: 1.87s\tremaining: 314ms\n",
      "856:\tlearn: 0.3799170\ttotal: 1.87s\tremaining: 312ms\n",
      "857:\tlearn: 0.3798993\ttotal: 1.87s\tremaining: 310ms\n",
      "858:\tlearn: 0.3798881\ttotal: 1.88s\tremaining: 308ms\n",
      "859:\tlearn: 0.3798658\ttotal: 1.88s\tremaining: 306ms\n",
      "860:\tlearn: 0.3798244\ttotal: 1.88s\tremaining: 303ms\n",
      "861:\tlearn: 0.3798037\ttotal: 1.88s\tremaining: 301ms\n",
      "862:\tlearn: 0.3797961\ttotal: 1.88s\tremaining: 299ms\n",
      "863:\tlearn: 0.3797871\ttotal: 1.88s\tremaining: 297ms\n",
      "864:\tlearn: 0.3797723\ttotal: 1.89s\tremaining: 294ms\n",
      "865:\tlearn: 0.3797289\ttotal: 1.89s\tremaining: 292ms\n",
      "866:\tlearn: 0.3797055\ttotal: 1.89s\tremaining: 290ms\n",
      "867:\tlearn: 0.3796630\ttotal: 1.89s\tremaining: 288ms\n",
      "868:\tlearn: 0.3796323\ttotal: 1.89s\tremaining: 285ms\n",
      "869:\tlearn: 0.3796285\ttotal: 1.9s\tremaining: 283ms\n",
      "870:\tlearn: 0.3796195\ttotal: 1.9s\tremaining: 281ms\n",
      "871:\tlearn: 0.3796124\ttotal: 1.9s\tremaining: 279ms\n",
      "872:\tlearn: 0.3795810\ttotal: 1.9s\tremaining: 276ms\n",
      "873:\tlearn: 0.3795630\ttotal: 1.9s\tremaining: 274ms\n",
      "874:\tlearn: 0.3794991\ttotal: 1.9s\tremaining: 272ms\n",
      "875:\tlearn: 0.3794697\ttotal: 1.91s\tremaining: 270ms\n",
      "876:\tlearn: 0.3794673\ttotal: 1.91s\tremaining: 268ms\n",
      "877:\tlearn: 0.3794466\ttotal: 1.91s\tremaining: 265ms\n",
      "878:\tlearn: 0.3794332\ttotal: 1.91s\tremaining: 263ms\n",
      "879:\tlearn: 0.3794052\ttotal: 1.91s\tremaining: 261ms\n",
      "880:\tlearn: 0.3793928\ttotal: 1.92s\tremaining: 259ms\n",
      "881:\tlearn: 0.3793818\ttotal: 1.92s\tremaining: 256ms\n",
      "882:\tlearn: 0.3793579\ttotal: 1.92s\tremaining: 254ms\n",
      "883:\tlearn: 0.3793584\ttotal: 1.92s\tremaining: 252ms\n",
      "884:\tlearn: 0.3793556\ttotal: 1.92s\tremaining: 250ms\n",
      "885:\tlearn: 0.3793348\ttotal: 1.92s\tremaining: 248ms\n",
      "886:\tlearn: 0.3793158\ttotal: 1.93s\tremaining: 245ms\n",
      "887:\tlearn: 0.3793144\ttotal: 1.93s\tremaining: 243ms\n",
      "888:\tlearn: 0.3793130\ttotal: 1.93s\tremaining: 241ms\n",
      "889:\tlearn: 0.3792865\ttotal: 1.93s\tremaining: 239ms\n",
      "890:\tlearn: 0.3792864\ttotal: 1.93s\tremaining: 237ms\n",
      "891:\tlearn: 0.3792631\ttotal: 1.94s\tremaining: 234ms\n",
      "892:\tlearn: 0.3792527\ttotal: 1.94s\tremaining: 232ms\n",
      "893:\tlearn: 0.3792417\ttotal: 1.94s\tremaining: 230ms\n",
      "894:\tlearn: 0.3792204\ttotal: 1.94s\tremaining: 228ms\n",
      "895:\tlearn: 0.3791788\ttotal: 1.94s\tremaining: 225ms\n",
      "896:\tlearn: 0.3791351\ttotal: 1.94s\tremaining: 223ms\n",
      "897:\tlearn: 0.3791334\ttotal: 1.95s\tremaining: 221ms\n",
      "898:\tlearn: 0.3791336\ttotal: 1.95s\tremaining: 219ms\n",
      "899:\tlearn: 0.3791028\ttotal: 1.95s\tremaining: 217ms\n",
      "900:\tlearn: 0.3790744\ttotal: 1.95s\tremaining: 215ms\n",
      "901:\tlearn: 0.3790557\ttotal: 1.96s\tremaining: 212ms\n",
      "902:\tlearn: 0.3790551\ttotal: 1.96s\tremaining: 210ms\n",
      "903:\tlearn: 0.3790265\ttotal: 1.96s\tremaining: 208ms\n",
      "904:\tlearn: 0.3790037\ttotal: 1.96s\tremaining: 206ms\n",
      "905:\tlearn: 0.3789913\ttotal: 1.96s\tremaining: 204ms\n",
      "906:\tlearn: 0.3789880\ttotal: 1.97s\tremaining: 202ms\n",
      "907:\tlearn: 0.3789559\ttotal: 1.97s\tremaining: 199ms\n",
      "908:\tlearn: 0.3789484\ttotal: 1.97s\tremaining: 197ms\n",
      "909:\tlearn: 0.3789432\ttotal: 1.97s\tremaining: 195ms\n",
      "910:\tlearn: 0.3789420\ttotal: 1.97s\tremaining: 193ms\n",
      "911:\tlearn: 0.3789202\ttotal: 1.98s\tremaining: 191ms\n",
      "912:\tlearn: 0.3789159\ttotal: 1.98s\tremaining: 188ms\n",
      "913:\tlearn: 0.3788947\ttotal: 1.98s\tremaining: 186ms\n",
      "914:\tlearn: 0.3788936\ttotal: 1.98s\tremaining: 184ms\n",
      "915:\tlearn: 0.3788693\ttotal: 1.98s\tremaining: 182ms\n",
      "916:\tlearn: 0.3788606\ttotal: 1.98s\tremaining: 180ms\n",
      "917:\tlearn: 0.3788565\ttotal: 1.99s\tremaining: 177ms\n",
      "918:\tlearn: 0.3788569\ttotal: 1.99s\tremaining: 175ms\n",
      "919:\tlearn: 0.3788279\ttotal: 1.99s\tremaining: 173ms\n",
      "920:\tlearn: 0.3788105\ttotal: 1.99s\tremaining: 171ms\n",
      "921:\tlearn: 0.3788006\ttotal: 1.99s\tremaining: 169ms\n",
      "922:\tlearn: 0.3787983\ttotal: 2s\tremaining: 166ms\n",
      "923:\tlearn: 0.3787841\ttotal: 2s\tremaining: 164ms\n",
      "924:\tlearn: 0.3787761\ttotal: 2s\tremaining: 162ms\n",
      "925:\tlearn: 0.3787637\ttotal: 2s\tremaining: 160ms\n",
      "926:\tlearn: 0.3787433\ttotal: 2s\tremaining: 158ms\n",
      "927:\tlearn: 0.3787226\ttotal: 2s\tremaining: 156ms\n",
      "928:\tlearn: 0.3787190\ttotal: 2.01s\tremaining: 153ms\n",
      "929:\tlearn: 0.3787097\ttotal: 2.01s\tremaining: 151ms\n",
      "930:\tlearn: 0.3787081\ttotal: 2.01s\tremaining: 149ms\n",
      "931:\tlearn: 0.3787008\ttotal: 2.01s\tremaining: 147ms\n",
      "932:\tlearn: 0.3786926\ttotal: 2.01s\tremaining: 145ms\n",
      "933:\tlearn: 0.3786738\ttotal: 2.02s\tremaining: 142ms\n",
      "934:\tlearn: 0.3786637\ttotal: 2.02s\tremaining: 140ms\n",
      "935:\tlearn: 0.3786491\ttotal: 2.02s\tremaining: 138ms\n",
      "936:\tlearn: 0.3786219\ttotal: 2.02s\tremaining: 136ms\n",
      "937:\tlearn: 0.3785991\ttotal: 2.02s\tremaining: 134ms\n",
      "938:\tlearn: 0.3785920\ttotal: 2.02s\tremaining: 132ms\n",
      "939:\tlearn: 0.3785766\ttotal: 2.03s\tremaining: 129ms\n",
      "940:\tlearn: 0.3785301\ttotal: 2.03s\tremaining: 127ms\n",
      "941:\tlearn: 0.3784945\ttotal: 2.03s\tremaining: 125ms\n",
      "942:\tlearn: 0.3784842\ttotal: 2.03s\tremaining: 123ms\n",
      "943:\tlearn: 0.3784591\ttotal: 2.04s\tremaining: 121ms\n",
      "944:\tlearn: 0.3784230\ttotal: 2.04s\tremaining: 119ms\n",
      "945:\tlearn: 0.3783805\ttotal: 2.04s\tremaining: 116ms\n",
      "946:\tlearn: 0.3783470\ttotal: 2.04s\tremaining: 114ms\n",
      "947:\tlearn: 0.3783340\ttotal: 2.04s\tremaining: 112ms\n",
      "948:\tlearn: 0.3783160\ttotal: 2.04s\tremaining: 110ms\n",
      "949:\tlearn: 0.3783034\ttotal: 2.05s\tremaining: 108ms\n",
      "950:\tlearn: 0.3783026\ttotal: 2.05s\tremaining: 106ms\n",
      "951:\tlearn: 0.3782931\ttotal: 2.05s\tremaining: 103ms\n",
      "952:\tlearn: 0.3782697\ttotal: 2.05s\tremaining: 101ms\n",
      "953:\tlearn: 0.3782575\ttotal: 2.05s\tremaining: 99.1ms\n",
      "954:\tlearn: 0.3782464\ttotal: 2.06s\tremaining: 96.9ms\n",
      "955:\tlearn: 0.3782338\ttotal: 2.06s\tremaining: 94.7ms\n",
      "956:\tlearn: 0.3782185\ttotal: 2.06s\tremaining: 92.6ms\n",
      "957:\tlearn: 0.3782184\ttotal: 2.06s\tremaining: 90.4ms\n",
      "958:\tlearn: 0.3781906\ttotal: 2.06s\tremaining: 88.2ms\n",
      "959:\tlearn: 0.3781658\ttotal: 2.06s\tremaining: 86.1ms\n",
      "960:\tlearn: 0.3781580\ttotal: 2.07s\tremaining: 83.9ms\n",
      "961:\tlearn: 0.3781513\ttotal: 2.07s\tremaining: 81.7ms\n",
      "962:\tlearn: 0.3781416\ttotal: 2.07s\tremaining: 79.6ms\n",
      "963:\tlearn: 0.3781367\ttotal: 2.07s\tremaining: 77.4ms\n",
      "964:\tlearn: 0.3781293\ttotal: 2.07s\tremaining: 75.2ms\n",
      "965:\tlearn: 0.3781182\ttotal: 2.08s\tremaining: 73.1ms\n",
      "966:\tlearn: 0.3781118\ttotal: 2.08s\tremaining: 70.9ms\n",
      "967:\tlearn: 0.3780798\ttotal: 2.08s\tremaining: 68.8ms\n",
      "968:\tlearn: 0.3780484\ttotal: 2.08s\tremaining: 66.6ms\n",
      "969:\tlearn: 0.3780410\ttotal: 2.08s\tremaining: 64.4ms\n",
      "970:\tlearn: 0.3780082\ttotal: 2.08s\tremaining: 62.3ms\n",
      "971:\tlearn: 0.3780007\ttotal: 2.09s\tremaining: 60.1ms\n",
      "972:\tlearn: 0.3779898\ttotal: 2.09s\tremaining: 58ms\n",
      "973:\tlearn: 0.3779729\ttotal: 2.09s\tremaining: 55.8ms\n",
      "974:\tlearn: 0.3779540\ttotal: 2.09s\tremaining: 53.7ms\n",
      "975:\tlearn: 0.3779443\ttotal: 2.09s\tremaining: 51.5ms\n",
      "976:\tlearn: 0.3779349\ttotal: 2.1s\tremaining: 49.3ms\n",
      "977:\tlearn: 0.3779259\ttotal: 2.1s\tremaining: 47.2ms\n",
      "978:\tlearn: 0.3778976\ttotal: 2.1s\tremaining: 45ms\n",
      "979:\tlearn: 0.3778820\ttotal: 2.1s\tremaining: 42.9ms\n",
      "980:\tlearn: 0.3778739\ttotal: 2.1s\tremaining: 40.7ms\n",
      "981:\tlearn: 0.3778530\ttotal: 2.1s\tremaining: 38.6ms\n",
      "982:\tlearn: 0.3778453\ttotal: 2.11s\tremaining: 36.4ms\n",
      "983:\tlearn: 0.3778196\ttotal: 2.11s\tremaining: 34.3ms\n",
      "984:\tlearn: 0.3778128\ttotal: 2.11s\tremaining: 32.1ms\n",
      "985:\tlearn: 0.3778000\ttotal: 2.11s\tremaining: 30ms\n",
      "986:\tlearn: 0.3777956\ttotal: 2.11s\tremaining: 27.8ms\n",
      "987:\tlearn: 0.3777708\ttotal: 2.12s\tremaining: 25.7ms\n",
      "988:\tlearn: 0.3777581\ttotal: 2.12s\tremaining: 23.6ms\n",
      "989:\tlearn: 0.3777433\ttotal: 2.12s\tremaining: 21.4ms\n",
      "990:\tlearn: 0.3777227\ttotal: 2.12s\tremaining: 19.3ms\n",
      "991:\tlearn: 0.3777068\ttotal: 2.12s\tremaining: 17.1ms\n",
      "992:\tlearn: 0.3776756\ttotal: 2.12s\tremaining: 15ms\n",
      "993:\tlearn: 0.3776667\ttotal: 2.13s\tremaining: 12.8ms\n",
      "994:\tlearn: 0.3776516\ttotal: 2.13s\tremaining: 10.7ms\n"
     ]
    },
    {
     "name": "stdout",
     "output_type": "stream",
     "text": [
      "995:\tlearn: 0.3776459\ttotal: 2.13s\tremaining: 8.55ms\n",
      "996:\tlearn: 0.3776228\ttotal: 2.13s\tremaining: 6.42ms\n",
      "997:\tlearn: 0.3775980\ttotal: 2.13s\tremaining: 4.28ms\n",
      "998:\tlearn: 0.3775402\ttotal: 2.14s\tremaining: 2.14ms\n",
      "999:\tlearn: 0.3775294\ttotal: 2.14s\tremaining: 0us\n",
      "Accuracy score (training): 0.81296875\n",
      "Accuracy score (validation): 0.789375\n"
     ]
    }
   ],
   "source": [
    "from catboost import CatBoostClassifier\n",
    "cbr = CatBoostClassifier()\n",
    "# Fit model\n",
    "cbr.fit(X_train, y_train)\n",
    "# Get predictions\n",
    "cbr_pred = cbr.predict(X_test)\n",
    "cbr_ac=accuracy_score(y_test, cbr_pred)\n",
    "\n",
    "\n",
    "print(\"Accuracy score (training):\" ,cbr.score(X_train, y_train))\n",
    "print(\"Accuracy score (validation):\",(cbr.score(X_val, y_val)))"
   ]
  },
  {
   "cell_type": "code",
   "execution_count": 39,
   "id": "a5566504",
   "metadata": {},
   "outputs": [
    {
     "name": "stdout",
     "output_type": "stream",
     "text": [
      "CatBoostClassifier: \n",
      " Accuracy: 0.7950 \n",
      " Precision: 0.6939 \n",
      " Recall: 0.6303 \n",
      " F1: 0.6606\n"
     ]
    }
   ],
   "source": [
    "print('CatBoostClassifier: \\n Accuracy: %.4f \\n Precision: %.4f \\n Recall: %.4f \\n F1: %.4f' %\n",
    "        (accuracy(y_test, cbr.predict(X_test)), \n",
    "         precision(y_test, cbr.predict(X_test)), \n",
    "         recall(y_test, cbr.predict(X_test)),\n",
    "         F1(y_test, cbr.predict(X_test))\n",
    "        )\n",
    "     )"
   ]
  },
  {
   "cell_type": "markdown",
   "id": "d19a7e4c",
   "metadata": {},
   "source": [
    "## Voting classifier\n",
    "\n"
   ]
  },
  {
   "cell_type": "code",
   "execution_count": 40,
   "id": "ad65702c",
   "metadata": {},
   "outputs": [
    {
     "data": {
      "text/plain": [
       "[('lr_c', LogisticRegression(max_iter=400, random_state=42)),\n",
       " ('rf_clf', RandomForestClassifier(n_estimators=10, random_state=42)),\n",
       " ('clf', DecisionTreeClassifier()),\n",
       " ('svc_r', SVC(probability=True, random_state=0)),\n",
       " ('knn', KNeighborsClassifier()),\n",
       " ('abc', AdaBoostClassifier(learning_rate=1)),\n",
       " ('gb_clf', GradientBoostingClassifier(learning_rate=0.71)),\n",
       " ('xgb_clf',\n",
       "  XGBClassifier(base_score=0.5, booster='gbtree', colsample_bylevel=1,\n",
       "                colsample_bynode=1, colsample_bytree=1, enable_categorical=False,\n",
       "                gamma=0, gpu_id=-1, importance_type=None,\n",
       "                interaction_constraints='', learning_rate=0.300000012,\n",
       "                max_delta_step=0, max_depth=6, min_child_weight=1, missing=nan,\n",
       "                monotone_constraints='()', n_estimators=100, n_jobs=8,\n",
       "                num_parallel_tree=1, predictor='auto', random_state=0,\n",
       "                reg_alpha=0, reg_lambda=1, scale_pos_weight=1, subsample=1,\n",
       "                tree_method='exact', validate_parameters=1, verbosity=None)),\n",
       " ('cbr', <catboost.core.CatBoostClassifier at 0x11e40016040>)]"
      ]
     },
     "execution_count": 40,
     "metadata": {},
     "output_type": "execute_result"
    }
   ],
   "source": [
    "model_names = [\"lr_c\", \"rf_clf\", 'clf',\"svc_r\", \"knn\",\"abc\",\"gb_clf\",\"xgb_clf\",\"cbr\"]\n",
    "model_var = [eval(n) for n in model_names]\n",
    "model_list = list(zip(model_names, model_var))\n",
    "model_list"
   ]
  },
  {
   "cell_type": "code",
   "execution_count": 41,
   "id": "4d3a37fa",
   "metadata": {},
   "outputs": [
    {
     "name": "stdout",
     "output_type": "stream",
     "text": [
      "lr_c score: 0.797\n",
      "rf_clf score: 0.792\n",
      "clf score: 0.792\n",
      "svc_r score: 0.7955\n",
      "knn score: 0.76\n",
      "abc score: 0.799\n",
      "gb_clf score: 0.794\n",
      "xgb_clf score: 0.791\n",
      "cbr score: 0.795\n"
     ]
    }
   ],
   "source": [
    "for model_name in model_names:\n",
    "    curr_model = eval(model_name)\n",
    "    print(f'{model_name} score: {curr_model.score(X_test, y_test)}')"
   ]
  },
  {
   "cell_type": "code",
   "execution_count": 42,
   "id": "e7b2aa57",
   "metadata": {},
   "outputs": [
    {
     "data": {
      "text/plain": [
       "VotingClassifier(estimators=[('lr_c',\n",
       "                              LogisticRegression(max_iter=400,\n",
       "                                                 random_state=42)),\n",
       "                             ('rf_clf',\n",
       "                              RandomForestClassifier(n_estimators=10,\n",
       "                                                     random_state=42)),\n",
       "                             ('clf', DecisionTreeClassifier()),\n",
       "                             ('svc_r', SVC(probability=True, random_state=0)),\n",
       "                             ('knn', KNeighborsClassifier()),\n",
       "                             ('abc', AdaBoostClassifier(learning_rate=1)),\n",
       "                             ('gb_clf',\n",
       "                              GradientBoostingClassifier(lear...\n",
       "                                            max_delta_step=0, max_depth=6,\n",
       "                                            min_child_weight=1, missing=nan,\n",
       "                                            monotone_constraints='()',\n",
       "                                            n_estimators=100, n_jobs=8,\n",
       "                                            num_parallel_tree=1,\n",
       "                                            predictor='auto', random_state=0,\n",
       "                                            reg_alpha=0, reg_lambda=1,\n",
       "                                            scale_pos_weight=1, subsample=1,\n",
       "                                            tree_method='exact',\n",
       "                                            validate_parameters=1,\n",
       "                                            verbosity=None)),\n",
       "                             ('cbr',\n",
       "                              <catboost.core.CatBoostClassifier object at 0x0000011E40016040>)],\n",
       "                 n_jobs=-1)"
      ]
     },
     "execution_count": 42,
     "metadata": {},
     "output_type": "execute_result"
    }
   ],
   "source": [
    "from sklearn.ensemble import VotingClassifier\n",
    "voting_classifer = VotingClassifier(estimators=model_list,\n",
    "                                    voting='hard', #<-- sklearn calls this hard voting\n",
    "                                    n_jobs=-1)\n",
    "voting_classifer.fit(X_train, y_train)"
   ]
  },
  {
   "cell_type": "code",
   "execution_count": 43,
   "id": "04d9b5eb",
   "metadata": {},
   "outputs": [
    {
     "data": {
      "text/plain": [
       "0.7975"
      ]
     },
     "execution_count": 43,
     "metadata": {},
     "output_type": "execute_result"
    }
   ],
   "source": [
    "y_pred1 = voting_classifer.predict(X_test)\n",
    "accuracy_score(y_test, y_pred1)"
   ]
  },
  {
   "cell_type": "code",
   "execution_count": 44,
   "id": "cfa6ebf5",
   "metadata": {},
   "outputs": [
    {
     "data": {
      "text/plain": [
       "Text(0.5, 1.0, 'Model Accuracy')"
      ]
     },
     "execution_count": 44,
     "metadata": {},
     "output_type": "execute_result"
    },
    {
     "data": {
      "image/png": "[encoded data removed]",
      "text/plain": [
       "<Figure size 576x576 with 1 Axes>"
      ]
     },
     "metadata": {
      "needs_background": "light"
     },
     "output_type": "display_data"
    }
   ],
   "source": [
    "#Plot of accuracy of all models\n",
    "%matplotlib inline\n",
    "model_accuracy = pd.Series(data=[lr_ac,rf_ac, clf_ac,svr_ac, knn_ac,abc_ac,gb_clf_ac,xgb_clf_ac,cbr_ac], \n",
    "        index=['Logistic_Regression','RandomForestClassifier','DecisionTreeClassifier','SVC','KNeighborsClassifier','AdaBoostClassifier','GradientBoostingClassifier','XGBClassifier','CatBoostClassifier'])\n",
    "fig= plt.figure(figsize=(8,8))\n",
    "model_accuracy.sort_values().plot.barh()\n",
    "plt.title('Model Accuracy')"
   ]
  },
  {
   "cell_type": "markdown",
   "id": "2ba761b9",
   "metadata": {},
   "source": [
    "## Plot the ROC Curve\n",
    "\n",
    "Next, we’ll calculate the true positive rate and the false positive rate and create a ROC curve for for all the models by using the Matplotlib data visualization package"
   ]
  },
  {
   "cell_type": "code",
   "execution_count": 45,
   "id": "3347ef0e",
   "metadata": {},
   "outputs": [
    {
     "data": {
      "image/png": "[encoded data removed]",
      "text/plain": [
       "<Figure size 432x288 with 1 Axes>"
      ]
     },
     "metadata": {
      "needs_background": "light"
     },
     "output_type": "display_data"
    }
   ],
   "source": [
    "import matplotlib.pyplot as plt\n",
    "from sklearn.datasets import make_classification\n",
    "from sklearn.metrics import RocCurveDisplay\n",
    "\n",
    "#create ROC curve for all the models (stands for: “receiver operating characteristic” curve)\n",
    "\n",
    "disp =  RocCurveDisplay.from_estimator(lr_c, X_test, y_test)\n",
    "\n",
    "RocCurveDisplay.from_estimator(rf_clf, X_test, y_test, ax=disp.ax_);\n",
    "RocCurveDisplay.from_estimator(clf, X_test, y_test, ax=disp.ax_);\n",
    "RocCurveDisplay.from_estimator(svc_r, X_test, y_test, ax=disp.ax_);\n",
    "RocCurveDisplay.from_estimator(knn, X_test, y_test, ax=disp.ax_);\n",
    "RocCurveDisplay.from_estimator(abc, X_test, y_test, ax=disp.ax_);\n",
    "RocCurveDisplay.from_estimator(gb_clf, X_test, y_test, ax=disp.ax_);\n",
    "RocCurveDisplay.from_estimator(xgb_clf, X_test, y_test, ax=disp.ax_);\n",
    "RocCurveDisplay.from_estimator(cbr, X_test, y_test, ax=disp.ax_);"
   ]
  },
  {
   "cell_type": "markdown",
   "id": "626daabd",
   "metadata": {},
   "source": [
    "### we see that  Random forest are the best two model.\n"
   ]
  }
 ],
 "metadata": {
  "kernelspec": {
   "display_name": "Python 3",
   "language": "python",
   "name": "python3"
  },
  "language_info": {
   "codemirror_mode": {
    "name": "ipython",
    "version": 3
   },
   "file_extension": ".py",
   "mimetype": "text/x-python",
   "name": "python",
   "nbconvert_exporter": "python",
   "pygments_lexer": "ipython3",
   "version": "3.8.8"
  }
 },
 "nbformat": 4,
 "nbformat_minor": 5
}
